{
  "nbformat": 4,
  "nbformat_minor": 0,
  "metadata": {
    "colab": {
      "name": "Lista1_CD_DemetriosReis.ipynb",
      "provenance": [],
      "collapsed_sections": [],
      "toc_visible": true,
      "authorship_tag": "ABX9TyM0/GGD6RaMjNrtpsNV5hb3",
      "include_colab_link": true
    },
    "kernelspec": {
      "name": "python3",
      "display_name": "Python 3"
    }
  },
  "cells": [
    {
      "cell_type": "markdown",
      "metadata": {
        "id": "view-in-github",
        "colab_type": "text"
      },
      "source": [
        "<a href=\"https://colab.research.google.com/github/Reis25/Analytics-/blob/master/Lista1_CD_DemetriosReis.ipynb\" target=\"_parent\"><img src=\"https://colab.research.google.com/assets/colab-badge.svg\" alt=\"Open In Colab\"/></a>"
      ]
    },
    {
      "cell_type": "markdown",
      "metadata": {
        "id": "fxa9K64Jha0m",
        "colab_type": "text"
      },
      "source": [
        "## Lista 1 \n",
        "\n",
        " Professor: Bruno Pimentel\n",
        "\n",
        "Disciplina de Ciência dos dados\n",
        "\n",
        "Aluno: Demétrios Reis Costa"
      ]
    },
    {
      "cell_type": "markdown",
      "metadata": {
        "id": "ZikRUKQyh5vS",
        "colab_type": "text"
      },
      "source": [
        "**1. Qual a diferença entre Big Data e Ciência de Dados? (0,5 ponto)**\n",
        "\n",
        "R: Big Data é um conjunto de técnicas voltadas para grandes massa de dados, nisso possuem 4 bases que norteiam suas análises (os 4 V's): \n",
        "1- Volume;\n",
        "2- Variedade;\n",
        "3- Velocidade;\n",
        "4- Veracidade. \n",
        "Esses itens fazem com que Big Datas sejam caracterizados por técnicas robustas que possam a partir dos dados retirar resultados úteis e que possam servir para um determinado propósito. \n",
        "\n",
        "Já Ciência dos Dados é uma área do conhecimento que através de análises estatísticas e tratamento dos dados é uma área que visa através de um conjunto de dados extrair insghts que possam auxiliar na tomada de decisão, e ainda, apontar a descoberta de nichos de mercado, por exemplo. \n",
        "\n",
        "\n",
        " "
      ]
    },
    {
      "cell_type": "markdown",
      "metadata": {
        "id": "PBjOo21oiBKs",
        "colab_type": "text"
      },
      "source": [
        "**2. De que forma Estatı́stica, Mineração de Dados e Aprendizagem de Máquina \n",
        "interagem com Ciência de Dados? (1 pontos)**\n",
        "\n",
        "R: Todas são ferramentas que podem colaborar com a resolução de um determinado problema, a estatística computacioal tem papel especial na descrição de dados, auxiliando na descrição e elucidação da natureza dos objetos, enquanto que a mineração de dados pode trabalhar auxiliando no tratamento bem como na separação dos dados uma vez que a mesma usa técnicas de inteligencia artificial para tratar, separar e analisar dados. Não muito diferente aprendizagem de máquinas é uma poderosa ferramenta para extração de informações e predição de resultados.  "
      ]
    },
    {
      "cell_type": "markdown",
      "metadata": {
        "id": "JeBTHbJjiHHm",
        "colab_type": "text"
      },
      "source": [
        "**3. Mostre a importância do conhecimento de domı́nio para o cientista de dados. (0,5 ponto)**\n",
        "\n",
        "R: É importante que o analista de dados saiba o que de fato esteja sendo analisado, a princípio é óbio a ideia que não se faz análise daquilo que não se conhece. Em segundo plano é importante notar que a análise de dados é motivada principalmente pela busca de respostas complexas que uma vez que o analista se depara com as mesmas pode reconhece-la. \n"
      ]
    },
    {
      "cell_type": "markdown",
      "metadata": {
        "id": "-4nR3EUEiQN8",
        "colab_type": "text"
      },
      "source": [
        "**4. Crie um conjunto de dados com duas variáveis V1 e V2, tal que:**"
      ]
    },
    {
      "cell_type": "code",
      "metadata": {
        "id": "5I39KP7mlTEi",
        "colab_type": "code",
        "colab": {
          "base_uri": "https://localhost:8080/",
          "height": 71
        },
        "outputId": "e09c60a6-98e4-415e-fe51-4d111be1b60a"
      },
      "source": [
        "import numpy as np\n",
        "import matplotlib.pyplot as plt\n",
        "import seaborn as sns\n",
        "from scipy import stats \n",
        "\n",
        "V1 = [1, 2, 3, 4, 5, 6, 7, 8, 9, 20, 21, 22, 25, 30]\n",
        "\n",
        "V2 = [-1, -4, -1, 5, 5, 5]\n"
      ],
      "execution_count": null,
      "outputs": [
        {
          "output_type": "stream",
          "text": [
            "/usr/local/lib/python3.6/dist-packages/statsmodels/tools/_testing.py:19: FutureWarning: pandas.util.testing is deprecated. Use the functions in the public API at pandas.testing instead.\n",
            "  import pandas.util.testing as tm\n"
          ],
          "name": "stderr"
        }
      ]
    },
    {
      "cell_type": "markdown",
      "metadata": {
        "id": "G78HcYhse2JB",
        "colab_type": "text"
      },
      "source": [
        "a. Mediana de V1 < Média de V1 (0.5 ponto)"
      ]
    },
    {
      "cell_type": "code",
      "metadata": {
        "id": "HRq1F3-Re3n5",
        "colab_type": "code",
        "colab": {
          "base_uri": "https://localhost:8080/",
          "height": 51
        },
        "outputId": "b1dca8f0-2d6f-4f4e-f928-097a8f72ab5b"
      },
      "source": [
        "media = np.mean(V1)\n",
        "\n",
        "mediana = np.median(V1)\n",
        "\n",
        "print(\"Valor da mediana: \", \"%.2f\" % round(mediana,2))\n",
        "\n",
        "print(\"Valor da media: \", \"%.2f\" % round(media,2))"
      ],
      "execution_count": null,
      "outputs": [
        {
          "output_type": "stream",
          "text": [
            "Valor da mediana:  7.50\n",
            "Valor da media:  11.64\n"
          ],
          "name": "stdout"
        }
      ]
    },
    {
      "cell_type": "markdown",
      "metadata": {
        "id": "CNJh-yN9e4qv",
        "colab_type": "text"
      },
      "source": [
        "b. Mediana de V2 > Média de V2 (0.5 ponto)"
      ]
    },
    {
      "cell_type": "code",
      "metadata": {
        "id": "R1cS71SNmgqo",
        "colab_type": "code",
        "colab": {
          "base_uri": "https://localhost:8080/",
          "height": 51
        },
        "outputId": "17d144ce-4d49-45e2-db5c-60518f676916"
      },
      "source": [
        "media2 = np.mean(V2)\n",
        "\n",
        "mediana2 = np.median(V2)\n",
        "\n",
        "print(\"Valor da mediana: \" \"%.2f\" % round(mediana2,2))\n",
        "\n",
        "print(\"Valor da média: \"\"%.2f\" % round(media2,2))\n",
        "\n"
      ],
      "execution_count": null,
      "outputs": [
        {
          "output_type": "stream",
          "text": [
            "Valor da mediana: 2.00\n",
            "Valor da média: 1.50\n"
          ],
          "name": "stdout"
        }
      ]
    },
    {
      "cell_type": "markdown",
      "metadata": {
        "id": "RW52-pjhiRqR",
        "colab_type": "text"
      },
      "source": [
        "5. Baseando-se no conjunto de dados criado na questão 4, crie uma função em Python que:\n"
      ]
    },
    {
      "cell_type": "markdown",
      "metadata": {
        "id": "2IiRBvSSiiIy",
        "colab_type": "text"
      },
      "source": [
        "  a. Mostra o histograma de cada variável; (1 pontos)"
      ]
    },
    {
      "cell_type": "code",
      "metadata": {
        "id": "1qAROyD2ijc5",
        "colab_type": "code",
        "colab": {
          "base_uri": "https://localhost:8080/",
          "height": 282
        },
        "outputId": "3029126c-58f8-438b-dd2b-1d4e14c02413"
      },
      "source": [
        "sns.distplot(V1)"
      ],
      "execution_count": null,
      "outputs": [
        {
          "output_type": "execute_result",
          "data": {
            "text/plain": [
              "<matplotlib.axes._subplots.AxesSubplot at 0x7f8582163978>"
            ]
          },
          "metadata": {
            "tags": []
          },
          "execution_count": 4
        },
        {
          "output_type": "display_data",
          "data": {
            "image/png": "[encoded data removed]",
            "text/plain": [
              "<Figure size 432x288 with 1 Axes>"
            ]
          },
          "metadata": {
            "tags": [],
            "needs_background": "light"
          }
        }
      ]
    },
    {
      "cell_type": "code",
      "metadata": {
        "id": "YzrjHVZbvFSU",
        "colab_type": "code",
        "colab": {
          "base_uri": "https://localhost:8080/",
          "height": 282
        },
        "outputId": "31acabfc-a4de-4cb6-daec-0666240ef408"
      },
      "source": [
        "sns.distplot(V2)"
      ],
      "execution_count": null,
      "outputs": [
        {
          "output_type": "execute_result",
          "data": {
            "text/plain": [
              "<matplotlib.axes._subplots.AxesSubplot at 0x7f85769ffc18>"
            ]
          },
          "metadata": {
            "tags": []
          },
          "execution_count": 5
        },
        {
          "output_type": "display_data",
          "data": {
            "image/png": "[encoded data removed]",
            "text/plain": [
              "<Figure size 432x288 with 1 Axes>"
            ]
          },
          "metadata": {
            "tags": [],
            "needs_background": "light"
          }
        }
      ]
    },
    {
      "cell_type": "markdown",
      "metadata": {
        "id": "ietBtUbhirhV",
        "colab_type": "text"
      },
      "source": [
        "b. Verifica se as variáveis seguem uma distribuição Normal (use teste de hipótese) (1 pontos)\n",
        "\n"
      ]
    },
    {
      "cell_type": "code",
      "metadata": {
        "id": "oaIgGVrRJ0Ih",
        "colab_type": "code",
        "colab": {
          "base_uri": "https://localhost:8080/",
          "height": 51
        },
        "outputId": "a6ceb410-bc1e-45b6-9a69-36cf544a2bfc"
      },
      "source": [
        "print(\"Teste de hipótese\")\n",
        "print(\"H0: A média populacional de ambas as distribuições seguem uma distribuição normal\") \n",
        "print(\"Ha: As médias populacionais são diferentes\\n\")\n",
        "print(\"Teste t\")\n",
        "\n",
        "print( stats.kstest(V1, \"norm\", args = (np.mean(V1), np.std(V1))) )\n",
        "\n",
        "print( stats.kstest(V2, \"norm\", args = (np.mean(V2), np.std(V2))) )\n",
        "\n",
        "print(\"PValor: %.3f\\n\"%t_test.pvalue)\n",
        "print(\"Descarta-se a hipótese de ambas seguem uma distribuição visto que o nível de significância é abaixo do esperado para sua validação \\n\")"
      ],
      "execution_count": null,
      "outputs": [
        {
          "output_type": "stream",
          "text": [
            "KstestResult(statistic=0.2535537953613598, pvalue=0.2793565684692912)\n",
            "KstestResult(statistic=0.33185560479856546, pvalue=0.4311328933162751)\n"
          ],
          "name": "stdout"
        }
      ]
    },
    {
      "cell_type": "markdown",
      "metadata": {
        "id": "VpPD7f-kZF8Z",
        "colab_type": "text"
      },
      "source": [
        "**1. Cite 2 técnicas para remoção de ruı́dos e, para cada uma, mostre uma vantagem e uma desvantagem (1 pontos).**\n",
        "\n",
        "R: O ruído é entendido como um erro aleatório ou variabilidade presente em descritores. Para remoção do mesmo podemos usar o Binning e a Regressão. \n",
        "\n",
        "O Binning nada mais é que a mudança de dados por uma medida central dada por valores delimitadas numa certa vizinhança. \n",
        "- Vantagem: É robusto, simples e não descarta os dados;\n",
        "- Desvantagem: Faz-se necessário definir o número de grupos. \n",
        "\n",
        "Regressão: Consiste numa técnica de predição descrita por uma lei função linear que relaciona os dados em questão. \n",
        "- Vantagem: Predição entre os dados, simples, robusta e de fácil implementação. \n",
        "- Desvantagem: Os dados devem necessaiamente ser correlacionados. "
      ]
    },
    {
      "cell_type": "markdown",
      "metadata": {
        "id": "0jk67FDpZMH9",
        "colab_type": "text"
      },
      "source": [
        "**2. Qual é a importância de utilizar as seguintes abordagens de redução de dados no contexto de Ciência dos Dados?**\n",
        "\n",
        "a. Redução de dimensionalidade (0.5 ponto)\n",
        "\n",
        "R: Os dados devem ser minimizados afim de termos uma eficiência maior na análise algoritmica, uma vez que achar correlações e cluters é uma tarefa custosa. \n",
        "\n",
        "b. Redução de numerosidade (0.5 ponto)\n",
        "\n",
        "R: é importante uma vez que o conjunto de dados torna-se mais robusto para que tenhamos menos sensibilidade em relação a pontos extemos e dados ruidodos, além de que ganhamos em perfomance. "
      ]
    },
    {
      "cell_type": "markdown",
      "metadata": {
        "id": "vCgrJoH_ZQX-",
        "colab_type": "text"
      },
      "source": [
        "**3. De que forma pode-se detectar overfitting em um classificador? (0.5 ponto)**\n",
        "\n",
        "R: Uma boa prática de Machine-Learning é separar o conjunto em questão em: 60% para o conjunto de este, 20% para o conunto de validação e 20% paa o conjunto de este. \n",
        "Dessa forma para encontramos um overfitting podemos testa-lo no nosso conjunto de teste, em que caso este modelo estejamo muito superior podemos propor um overfitting (como operação contrária). \n"
      ]
    },
    {
      "cell_type": "markdown",
      "metadata": {
        "id": "n5EqKVs7ZVo-",
        "colab_type": "text"
      },
      "source": [
        "**4. Em quais tipos de problemas é preferı́vel utilizar leave-one-out a utilizar K-fold cross-validation? (0.5 ponto)**\n",
        "\n",
        "R: O leave-one-out é preferível quando o conjunto de dados é relativamente pequeno em relação ao poder computacional disponível. \n",
        "\n",
        "Para K-fold cross-validation Geralmente usamos k =10, como ele faz o\n",
        "teste de forma exaustiva todas as instâncias serão testadas e nisso ela torna-se\n",
        "computacionalmente custosa e estatisticamente falando ela não é adequada para\n",
        "conjuntos de dados pequenos."
      ]
    },
    {
      "cell_type": "markdown",
      "metadata": {
        "id": "qX4w80gDZZ7d",
        "colab_type": "text"
      },
      "source": [
        "5. Crie um script em Python que avalie a diferença de desempenho entre os classificadores K-NN e Naive Bayes para o conjunto de dados Iris (https://archive.ics.uci.edu/ml/datasets/iris). Use F-measure e K-fold cross-validation. (2 pontos)"
      ]
    },
    {
      "cell_type": "code",
      "metadata": {
        "id": "PtC727h2jeHN",
        "colab_type": "code",
        "colab": {
          "base_uri": "https://localhost:8080/",
          "height": 360
        },
        "outputId": "b9cc0078-5dd5-4185-e45d-ec484cd255d2"
      },
      "source": [
        "import pandas as pd\n",
        "import numpy as np\n",
        "from scipy import stats\n",
        "from sklearn.neighbors import KNeighborsClassifier\n",
        "from sklearn.naive_bayes import GaussianNB\n",
        "from sklearn.model_selection import cross_val_score\n",
        "from sklearn import svm\n",
        "from sklearn.model_selection import train_test_split\n",
        "from sklearn.linear_model import LogisticRegression\n",
        "\n",
        "from sklearn.datasets import load_iris\n",
        "\n",
        "from sklearn import datasets\n",
        "\n",
        "\n",
        "from sklearn.model_selection import cross_validate\n",
        "from sklearn.metrics import f1_score\n",
        "\n",
        "\n",
        "\n",
        "df = pd.read_csv(\"iris.csv\")\n",
        "\n",
        "X = df.drop(['class'], axis = 1)\n",
        "\n",
        "y = df['class'].values\n",
        "\n",
        "#-----------------------------------------------------\n",
        "print(\"Classificador KNN\")\n",
        "knn = KNeighborsClassifier(n_neighbors = 5)\n",
        "cv_scores1 = cross_val_score(knn, X, y, cv = 10, scoring = \"f1_macro\")\n",
        "#print(cv_scores1)\n",
        "print(\"Média dos F-Measures: %.6f\\n\"%cv_scores1.mean())\n",
        "\n",
        "#-----------------------------------------------------\n",
        "print(\"Classificador Naive Bayes\")\n",
        "gnb = GaussianNB()\n",
        "cv_scores2 = cross_val_score(gnb, X, y, cv = 10, scoring = \"f1_macro\")\n",
        "#print(cv_scores2)\n",
        "print(\"Média dos F-Measures: %.6f\\n\"%cv_scores2.mean())\n",
        "\n",
        "print(\"Teste de hipótese\")\n",
        "print(\"H0: A média populacional dos F-Measures para KNN no conjunto de dados Iris é igual a do Naive Bayes\") \n",
        "print(\"H1: As médias populacionais não são iguais\\n\")\n",
        "print(\"Teste t\")\n",
        "t_test = stats.ttest_ind(cv_scores1, cv_scores2, equal_var = False)\n",
        "print(\"P-Valor: %.3f\\n\"%t_test.pvalue)\n",
        "print(\"Concluí-se que: a hipótese nula não pode ser rejeitada ao nível de significância de 0.1.\\nPortanto, pode-se assumir que o KNN classifica os dados tão bem quanto o classificador Naie Bayes.\") \n",
        "\n",
        "print()\n",
        "\n",
        "print(\"#-----------------------------------------------------\")\n",
        "\n",
        "clf = svm.SVC(kernel='linear', C=1)\n",
        "\n",
        "scores = cross_val_score(clf, X, y, cv=5)\n",
        "\n",
        "print()\n",
        "print(\"Usando como validador o K-fold cross-validation encontramos uma Accuracy de: %0.2f com uma zona de confiança de (+/- %0.2f), por validando tanto os classificadores bem como suas médias.\" % (scores.mean(), scores.std() * 2)) \n"
      ],
      "execution_count": null,
      "outputs": [
        {
          "output_type": "stream",
          "text": [
            "Classificador KNN\n",
            "Média dos F-Measures: 0.952862\n",
            "\n",
            "Classificador Naive Bayes\n",
            "Média dos F-Measures: 0.952441\n",
            "\n",
            "Teste de hipótese\n",
            "H0: A média populacional dos F-Measures para KNN no conjunto de dados Iris é igual a do Naive Bayes\n",
            "H1: As médias populacionais não são iguais\n",
            "\n",
            "Teste t\n",
            "P-Valor: 0.987\n",
            "\n",
            "Concluí-se que: a hipótese nula não pode ser rejeitada ao nível de significância de 0.1.\n",
            "Portanto, pode-se assumir que o KNN classifica os dados tão bem quanto o classificador Naie Bayes.\n",
            "\n",
            "#-----------------------------------------------------\n",
            "\n",
            "Usando como validador o K-fold cross-validation encontramos uma Accuracy de: 0.97 com uma zona de confiança de (+/- 0.04), por validando tanto os classificadores bem como suas médias.\n"
          ],
          "name": "stdout"
        }
      ]
    }
  ]
}