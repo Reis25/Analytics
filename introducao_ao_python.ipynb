{
  "nbformat": 4,
  "nbformat_minor": 0,
  "metadata": {
    "colab": {
      "name": "introducao_ao_python.ipynb",
      "provenance": [],
      "authorship_tag": "ABX9TyPc81LTWcqpt0+rLLieoKIT",
      "include_colab_link": true
    },
    "kernelspec": {
      "name": "python3",
      "display_name": "Python 3"
    },
    "language_info": {
      "name": "python"
    }
  },
  "cells": [
    {
      "cell_type": "markdown",
      "metadata": {
        "id": "view-in-github",
        "colab_type": "text"
      },
      "source": [
        "<a href=\"https://colab.research.google.com/github/Reis25/Analytics/blob/master/introducao_ao_python.ipynb\" target=\"_parent\"><img src=\"https://colab.research.google.com/assets/colab-badge.svg\" alt=\"Open In Colab\"/></a>"
      ]
    },
    {
      "cell_type": "markdown",
      "source": [
        "# Turma de tec de informática\n",
        "\n",
        "Nesse arquivo vamos estudar um pouco de python!\n"
      ],
      "metadata": {
        "id": "8v54x-g0P7gZ"
      }
    },
    {
      "cell_type": "code",
      "execution_count": 1,
      "metadata": {
        "colab": {
          "base_uri": "https://localhost:8080/"
        },
        "id": "tIJ1cwccPI7z",
        "outputId": "39978999-9b32-43bb-b94e-8ed0f1745c4b"
      },
      "outputs": [
        {
          "output_type": "stream",
          "name": "stdout",
          "text": [
            "Olá mundo\n"
          ]
        }
      ],
      "source": [
        "print(\"Olá mundo\")"
      ]
    },
    {
      "cell_type": "markdown",
      "source": [
        "Exemplo de como fazer uma função em python! \n"
      ],
      "metadata": {
        "id": "nrkCUjzWQRbI"
      }
    },
    {
      "cell_type": "code",
      "source": [
        "def function_sum(a, b): \n",
        "  return a+b"
      ],
      "metadata": {
        "id": "By_D0VP5QXtu"
      },
      "execution_count": 2,
      "outputs": []
    },
    {
      "cell_type": "code",
      "source": [
        "function_sum(10,4)"
      ],
      "metadata": {
        "colab": {
          "base_uri": "https://localhost:8080/"
        },
        "id": "P8DM6Q3eQlEH",
        "outputId": "979f413a-361f-45ef-cc9f-7069bf63c20b"
      },
      "execution_count": 3,
      "outputs": [
        {
          "output_type": "execute_result",
          "data": {
            "text/plain": [
              "14"
            ]
          },
          "metadata": {},
          "execution_count": 3
        }
      ]
    }
  ]
}