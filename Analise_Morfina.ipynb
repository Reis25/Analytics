{
  "nbformat": 4,
  "nbformat_minor": 0,
  "metadata": {
    "colab": {
      "name": "Analise_Morfina.ipynb",
      "provenance": [],
      "collapsed_sections": [],
      "authorship_tag": "ABX9TyPBpXS92+VN0Ns0wJxKzzrN",
      "include_colab_link": true
    },
    "kernelspec": {
      "name": "python3",
      "display_name": "Python 3"
    }
  },
  "cells": [
    {
      "cell_type": "markdown",
      "metadata": {
        "id": "view-in-github",
        "colab_type": "text"
      },
      "source": [
        "<a href=\"https://colab.research.google.com/github/Reis25/Analytics/blob/master/Analise_Morfina.ipynb\" target=\"_parent\"><img src=\"https://colab.research.google.com/assets/colab-badge.svg\" alt=\"Open In Colab\"/></a>"
      ]
    },
    {
      "cell_type": "code",
      "metadata": {
        "id": "PxhpaT3JUgWa",
        "colab_type": "code",
        "colab": {}
      },
      "source": [
        "import os\n",
        "import random\n",
        "import pandas as pd\n",
        "import matplotlib.pyplot as plt\n",
        "import seaborn as sns\n",
        "\n",
        "sns.set() \n",
        "\n",
        "file = 'morfina.csv'\n",
        "\n",
        "data_frame = pd.read_csv(file)\n",
        "\n"
      ],
      "execution_count": null,
      "outputs": []
    },
    {
      "cell_type": "code",
      "metadata": {
        "id": "BXNJr6UAU6tG",
        "colab_type": "code",
        "colab": {}
      },
      "source": [
        "# Listando as colunas da planilha\n",
        "for colunas in data_frame.columns:\n",
        "    print(colunas)"
      ],
      "execution_count": null,
      "outputs": []
    },
    {
      "cell_type": "code",
      "metadata": {
        "id": "P2njzxlqVJzD",
        "colab_type": "code",
        "colab": {}
      },
      "source": [
        "# %% Listando as linhas da planilha\n",
        "\n",
        "row_list = []\n",
        "\n",
        "for linhas in range((data_frame.shape[0])):\n",
        "    row_list.append(list(data_frame.iloc[linhas, :]))\n",
        "print(row_list)"
      ],
      "execution_count": null,
      "outputs": []
    },
    {
      "cell_type": "code",
      "metadata": {
        "id": "TQG3UsWBVOnN",
        "colab_type": "code",
        "colab": {}
      },
      "source": [
        "\n",
        "#renomeando nomes da primeira coluna\n",
        "\n",
        "nomes_categoria = ['Pacientes', 'Homens', 'Mulheres',\n",
        "                   'Pessoas Parda', 'Pessoas Brancas', 'Pessoas Negras',\n",
        "                   'Idade', 'Média de idade',\n",
        "                   'Católicos', 'Ateu', 'Evangélicos', 'Espíritas', 'Judeus',\n",
        "                   'Peso', 'Média de Peso', 'loc omindep', 'loc auxilio', 'paraplegico10'\n",
        "                                                                          'Trauma', 'FAF', 'Pos Operatorio',\n",
        "                   'ACID/COL tipo1', 'Media', 'ACID/COL'\n",
        "    , 'Excessoes', None, ]\n"
      ],
      "execution_count": null,
      "outputs": []
    },
    {
      "cell_type": "code",
      "metadata": {
        "id": "GBU1CJ_tVTAo",
        "colab_type": "code",
        "colab": {}
      },
      "source": [
        "# %% teste gráfico de dispersão\n",
        "\n",
        "array1 = [1, 2, 3, 4, 5, 6, 7, 8, 9, 10]\n",
        "\n",
        "array2 = [5, 17, 19, 24, 29, 30, 36, 41, 47, 54]\n",
        "\n",
        "df = pd.DataFrame({'x': array1, 'y': array2})\n",
        "\n",
        "plt.plot('x', 'y', data=df, linestyle='none', marker='o')\n",
        "\n",
        "aux = plt.show()"
      ],
      "execution_count": null,
      "outputs": []
    }
  ]
}