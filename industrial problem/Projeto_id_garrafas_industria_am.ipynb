{
  "nbformat": 4,
  "nbformat_minor": 0,
  "metadata": {
    "colab": {
      "name": "Projeto_id_garrafas_industria_am.ipynb",
      "provenance": [],
      "collapsed_sections": [],
      "include_colab_link": true
    },
    "kernelspec": {
      "name": "python3",
      "display_name": "Python 3"
    }
  },
  "cells": [
    {
      "cell_type": "markdown",
      "metadata": {
        "id": "view-in-github",
        "colab_type": "text"
      },
      "source": [
        "<a href=\"https://colab.research.google.com/github/Reis25/AprendizadoDeMquinas/blob/master/Projeto_id_garrafas_industria_am.ipynb\" target=\"_parent\"><img src=\"https://colab.research.google.com/assets/colab-badge.svg\" alt=\"Open In Colab\"/></a>"
      ]
    },
    {
      "cell_type": "code",
      "metadata": {
        "id": "n2jiDlsogSP8"
      },
      "source": [
        "from __future__ import print_function\n",
        "import keras\n",
        "from keras.preprocessing.image import ImageDataGenerator\n",
        " \n",
        "import numpy as np\n",
        "from keras.models import Sequential\n",
        "from keras.layers import Dense, Dropout, Flatten\n",
        "from keras.layers import Conv2D, MaxPooling2D\n",
        "from keras import backend as K\n",
        "import pandas as pd\n",
        "import tensorflow as tf\n",
        " \n",
        " \n",
        "from PIL import Image\n",
        " \n",
        "from sklearn.model_selection import train_test_split\n",
        " \n",
        "import matplotlib.pyplot as plt\n",
        " \n",
        "plt.style.use('ggplot')\n",
        " \n",
        "    \n",
        "# load and display an image with Matplotlib\n",
        "#from matplotlib import image\n",
        " \n",
        "batch_size = 6\n",
        "num_classes = 8\n",
        "epochs = 12\n",
        " \n",
        "# input image dimensions\n",
        "img_rows, img_cols = 120, 100\n",
        " \n",
        "import os\n",
        " \n",
        "path = './bottles/'\n",
        " \n",
        "files = []\n",
        "# r=root, d=directories, f = files\n",
        "for r, d, f in os.walk(path):\n",
        "    for file in f:\n",
        "        if '.jpg' in file:\n",
        "            files.append(file)\n",
        " \n",
        "X = []\n",
        " \n",
        "db = pd.read_csv(path +'bottles_ground_truth.csv', sep = ';', header = None, skiprows = 1)\n",
        "db = db.fillna(0).to_numpy()"
      ],
      "execution_count": 1,
      "outputs": []
    },
    {
      "cell_type": "code",
      "metadata": {
        "id": "2NuPcOCKgY6-"
      },
      "source": [
        "for e in db[:, 0]:\n",
        "    X.append(np.array(Image.open(path+e).resize((img_cols, img_rows), Image.ANTIALIAS)) )\n",
        "Y = db[:, 1:]\n",
        " \n",
        "X = np.array(X)\n",
        "Y = np.array(Y)\n",
        " \n",
        "x_train, x_test, y_train, y_test = train_test_split(X, Y, test_size=0.20, random_state=42)"
      ],
      "execution_count": 2,
      "outputs": []
    },
    {
      "cell_type": "code",
      "metadata": {
        "id": "Eq8MKDEkgc6D",
        "outputId": "ca570489-b036-4186-d857-a09b81ab1914",
        "colab": {
          "base_uri": "https://localhost:8080/",
          "height": 68
        }
      },
      "source": [
        "datagen = ImageDataGenerator(\n",
        "    featurewise_center=True,\n",
        "    featurewise_std_normalization=True,\n",
        "    rotation_range=20,\n",
        "    width_shift_range=0.2,\n",
        "    height_shift_range=0.2,\n",
        "    horizontal_flip=True)\n",
        " \n",
        "datagen.fit(X)\n",
        " \n",
        "# the data, split between train and test sets\n",
        " \n",
        "if K.image_data_format() == 'channels_first':\n",
        "    x_train = x_train.reshape(x_train.shape[0], 1, img_rows, img_cols)\n",
        "    x_test = x_test.reshape(x_test.shape[0], 1, img_rows, img_cols)\n",
        "    input_shape = (3, img_rows, img_cols)\n",
        "else:\n",
        "    x_train = x_train.reshape(x_train.shape[0], img_rows, img_cols, 3)\n",
        "    x_test = x_test.reshape(x_test.shape[0], img_rows, img_cols, 3)\n",
        "    input_shape = (img_rows, img_cols, 3)\n",
        " \n",
        "x_train = x_train.astype('float32')\n",
        "x_test = x_test.astype('float32')\n",
        "x_train /= 255\n",
        "x_test /= 255\n",
        "print('x_train shape:', x_train.shape)\n",
        "print(x_train.shape[0], 'train samples')\n",
        "print(x_test.shape[0], 'test samples')"
      ],
      "execution_count": 3,
      "outputs": [
        {
          "output_type": "stream",
          "text": [
            "x_train shape: (112, 120, 100, 3)\n",
            "112 train samples\n",
            "29 test samples\n"
          ],
          "name": "stdout"
        }
      ]
    },
    {
      "cell_type": "code",
      "metadata": {
        "id": "5Yi0v9OORK6V"
      },
      "source": [
        "# convert class vectors to binary class matrices\n",
        "y_train = keras.utils.to_categorical(y_train, num_classes)\n",
        "y_test = keras.utils.to_categorical(y_test, num_classes)\n",
        " \n",
        "model = Sequential()\n",
        "model.add(Conv2D(128, kernel_size=(3, 3),\n",
        "                 activation='relu',\n",
        "                 input_shape=input_shape))\n",
        "model.add(Conv2D(64, (3, 3), activation='relu'))\n",
        "model.add(Conv2D(32, (3, 3), activation='relu'))\n",
        "model.add(MaxPooling2D(pool_size=(2, 2)))\n",
        "model.add(Dropout(0.25))\n",
        "model.add(Flatten())\n",
        "model.add(Dense(518, activation='relu'))\n",
        "model.add(Dropout(0.5))\n",
        "model.add(Dense(128, activation='relu'))\n",
        "model.add(Dropout(0.5))\n",
        "model.add(Dense(num_classes, activation='softmax'))"
      ],
      "execution_count": 4,
      "outputs": []
    },
    {
      "cell_type": "code",
      "metadata": {
        "id": "UqpLr-imTEar"
      },
      "source": [
        "flow = datagen.flow(X, Y, batch_size=36)\n",
        "Y = Y.astype('int8')\n",
        "#X = X.astype('int8')"
      ],
      "execution_count": 5,
      "outputs": []
    },
    {
      "cell_type": "code",
      "metadata": {
        "id": "JCn6jOHCglgt",
        "outputId": "a2181f4f-c700-41b0-a235-94b222430abd",
        "colab": {
          "base_uri": "https://localhost:8080/",
          "height": 1000
        }
      },
      "source": [
        "model.compile(loss=keras.losses.categorical_crossentropy,\n",
        "              optimizer=keras.optimizers.Adadelta(),\n",
        "              metrics=['accuracy'])\n",
        " \n",
        "history = model.fit(datagen.flow(X, Y, batch_size=36), epochs=epochs)\n",
        "\n",
        "score = model.evaluate(X, Y, verbose=0)\n",
        "print('Test loss:', score[0])\n",
        "print('Test accuracy:', score[1])\n",
        " \n",
        "plt.plot(history.history['accuracy'])\n",
        "plt.title('model accuracy')\n",
        "plt.ylabel('accuracy')\n",
        "plt.xlabel('epoch')\n",
        "plt.legend(['accuracy'], loc='upper left')\n",
        "plt.show()\n",
        " \n",
        "# summarize history for loss\n",
        " \n",
        "plt.plot(history.history['loss'])\n",
        "plt.title('model loss')\n",
        "plt.ylabel('loss')\n",
        "plt.xlabel('epoch')\n",
        "plt.legend(['loss'], loc='upper left')\n",
        "plt.show()"
      ],
      "execution_count": 10,
      "outputs": [
        {
          "output_type": "stream",
          "text": [
            "Epoch 1/12\n",
            "4/4 [==============================] - 19s 5s/step - loss: 1.8156 - accuracy: 0.2979\n",
            "Epoch 2/12\n",
            "4/4 [==============================] - 19s 5s/step - loss: 1.7815 - accuracy: 0.3901\n",
            "Epoch 3/12\n",
            "4/4 [==============================] - 19s 5s/step - loss: 1.8240 - accuracy: 0.3759\n",
            "Epoch 4/12\n",
            "4/4 [==============================] - 19s 5s/step - loss: 1.8139 - accuracy: 0.3830\n",
            "Epoch 5/12\n",
            "4/4 [==============================] - 19s 5s/step - loss: 1.7841 - accuracy: 0.4610\n",
            "Epoch 6/12\n",
            "4/4 [==============================] - 19s 5s/step - loss: 1.7807 - accuracy: 0.4468\n",
            "Epoch 7/12\n",
            "4/4 [==============================] - 19s 5s/step - loss: 1.7918 - accuracy: 0.4823\n",
            "Epoch 8/12\n",
            "4/4 [==============================] - 19s 5s/step - loss: 1.7966 - accuracy: 0.4681\n",
            "Epoch 9/12\n",
            "4/4 [==============================] - 20s 5s/step - loss: 1.7726 - accuracy: 0.4894\n",
            "Epoch 10/12\n",
            "4/4 [==============================] - 20s 5s/step - loss: 1.7812 - accuracy: 0.5248\n",
            "Epoch 11/12\n",
            "4/4 [==============================] - 19s 5s/step - loss: 1.7451 - accuracy: 0.5319\n",
            "Epoch 12/12\n",
            "4/4 [==============================] - 19s 5s/step - loss: 1.7791 - accuracy: 0.5106\n",
            "Test loss: 48.2317008972168\n",
            "Test accuracy: 0.6382978558540344\n"
          ],
          "name": "stdout"
        },
        {
          "output_type": "display_data",
          "data": {
            "image/png": "[encoded data removed]",
            "text/plain": [
              "<Figure size 432x288 with 1 Axes>"
            ]
          },
          "metadata": {
            "tags": [],
            "needs_background": "light"
          }
        },
        {
          "output_type": "display_data",
          "data": {
            "image/png": "[encoded data removed]",
            "text/plain": [
              "<Figure size 432x288 with 1 Axes>"
            ]
          },
          "metadata": {
            "tags": [],
            "needs_background": "light"
          }
        }
      ]
    }
  ]
}