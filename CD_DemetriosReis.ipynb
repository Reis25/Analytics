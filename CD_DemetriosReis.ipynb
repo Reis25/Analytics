{
  "nbformat": 4,
  "nbformat_minor": 0,
  "metadata": {
    "colab": {
      "name": "CD_DemetriosReis.ipynb",
      "provenance": [],
      "collapsed_sections": [],
      "authorship_tag": "ABX9TyPf0b1PKUM6QZJHla0UYcLt",
      "include_colab_link": true
    },
    "kernelspec": {
      "name": "python3",
      "display_name": "Python 3"
    }
  },
  "cells": [
    {
      "cell_type": "markdown",
      "metadata": {
        "id": "view-in-github",
        "colab_type": "text"
      },
      "source": [
        "<a href=\"https://colab.research.google.com/github/Reis25/Analytics/blob/master/CD_DemetriosReis.ipynb\" target=\"_parent\"><img src=\"https://colab.research.google.com/assets/colab-badge.svg\" alt=\"Open In Colab\"/></a>"
      ]
    },
    {
      "cell_type": "markdown",
      "metadata": {
        "id": "sXys5nhc0NeI",
        "colab_type": "text"
      },
      "source": [
        "Universidade Federal de Alagoas\n",
        "\n",
        "Instituto de Computação\n",
        "\n",
        "Ciência de Dados\n",
        "\n",
        "Professor: Bruno Pimentel\n",
        "\n",
        "Aluno: Demétrios Reis Costa\n",
        "\n",
        "Data: 06/08/2020\n",
        "\n",
        "Prova 2\n"
      ]
    },
    {
      "cell_type": "markdown",
      "metadata": {
        "id": "X8WcH8MR1Hju",
        "colab_type": "text"
      },
      "source": [
        "**1. Quais tipos de problemas são preferíveis utilizar Naive Bayes? (1 ponto)**"
      ]
    },
    {
      "cell_type": "markdown",
      "metadata": {
        "id": "04p1qPShL1yi",
        "colab_type": "text"
      },
      "source": [
        "R: O algoritmo de Naive bayes nada mais é que um classificador porbabilístico, onde temos a relação de um evento dado outro. Naive Bayes deve ser usado quando os atributos das instâncias forem condicionalmente independentes, em suma NB trata sobre probabilidade condicional. \n",
        "\n",
        "Para a NLP e solubilidade em arquivos de texto em geral são muito boas, por exemplom classificação de texto, filtragem de SPAM e análise de sentimentos em redes sociais.\n",
        "\n",
        "No entanto para dados onde se tenha forte correlação entre eles o algoritmo não apresenta resultados satisfatório."
      ]
    },
    {
      "cell_type": "markdown",
      "metadata": {
        "id": "mwfnNc-u0e7Y",
        "colab_type": "text"
      },
      "source": [
        "**2. Que tipos de alegações devemos fazer sobre os dados para que a\n",
        "modelagem usando Regressão Linear seja satisfatória? (1 pontos)**\n",
        "\n"
      ]
    },
    {
      "cell_type": "markdown",
      "metadata": {
        "id": "ZbLNcvNetJ_a",
        "colab_type": "text"
      },
      "source": [
        "R: As variáveis devem ter uma relação entre si, de modo que possamos fazer uma predição de um valor buscado. por exemplo: dado a quantidade de quilometros pecorridas por um carro e a quantidade de combustível consumida naquele determinado ponto, daí podemos relacionar as variáveis. "
      ]
    },
    {
      "cell_type": "markdown",
      "metadata": {
        "id": "6eyWgLqk0hFS",
        "colab_type": "text"
      },
      "source": [
        "**3. Crie um conjunto de dados com 2 classes para mostrar:**\n",
        "\n",
        "**a. Uma classificação após usar Árvore de Decisão. (1 ponto)**\n",
        "\n",
        "**b. Uma regra gerada pela árvore (use pelo menos 2 atributos). (1\n",
        "ponto)**\n",
        "\n"
      ]
    },
    {
      "cell_type": "code",
      "metadata": {
        "id": "2sJ-h1iXJB-9",
        "colab_type": "code",
        "colab": {
          "base_uri": "https://localhost:8080/",
          "height": 483
        },
        "outputId": "1055e6ec-6819-4a60-95a3-5fdb4775daf0"
      },
      "source": [
        "import numpy as np\n",
        "import pandas as pd\n",
        "\n",
        "url1 = 'https://raw.githubusercontent.com/Reis25/Testes_py/master/jogar_tenis.csv'\n",
        "\n",
        "data_frame = pd.read_csv(url1)\n",
        "\n",
        "data_frame.head(14)\n"
      ],
      "execution_count": 3,
      "outputs": [
        {
          "output_type": "execute_result",
          "data": {
            "text/html": [
              "<div>\n",
              "<style scoped>\n",
              "    .dataframe tbody tr th:only-of-type {\n",
              "        vertical-align: middle;\n",
              "    }\n",
              "\n",
              "    .dataframe tbody tr th {\n",
              "        vertical-align: top;\n",
              "    }\n",
              "\n",
              "    .dataframe thead th {\n",
              "        text-align: right;\n",
              "    }\n",
              "</style>\n",
              "<table border=\"1\" class=\"dataframe\">\n",
              "  <thead>\n",
              "    <tr style=\"text-align: right;\">\n",
              "      <th></th>\n",
              "      <th>Day</th>\n",
              "      <th>Outlook</th>\n",
              "      <th>Temperature</th>\n",
              "      <th>Humidity</th>\n",
              "      <th>Wind</th>\n",
              "      <th>PlayTenis</th>\n",
              "    </tr>\n",
              "  </thead>\n",
              "  <tbody>\n",
              "    <tr>\n",
              "      <th>0</th>\n",
              "      <td>D1</td>\n",
              "      <td>Sunny</td>\n",
              "      <td>Hot</td>\n",
              "      <td>High</td>\n",
              "      <td>Weak</td>\n",
              "      <td>No</td>\n",
              "    </tr>\n",
              "    <tr>\n",
              "      <th>1</th>\n",
              "      <td>D2</td>\n",
              "      <td>Sunny</td>\n",
              "      <td>Hot</td>\n",
              "      <td>High</td>\n",
              "      <td>Strong</td>\n",
              "      <td>No</td>\n",
              "    </tr>\n",
              "    <tr>\n",
              "      <th>2</th>\n",
              "      <td>D3</td>\n",
              "      <td>Overcast</td>\n",
              "      <td>Hot</td>\n",
              "      <td>High</td>\n",
              "      <td>Weak</td>\n",
              "      <td>Yes</td>\n",
              "    </tr>\n",
              "    <tr>\n",
              "      <th>3</th>\n",
              "      <td>D4</td>\n",
              "      <td>Rain</td>\n",
              "      <td>Mild</td>\n",
              "      <td>High</td>\n",
              "      <td>Weak</td>\n",
              "      <td>Yes</td>\n",
              "    </tr>\n",
              "    <tr>\n",
              "      <th>4</th>\n",
              "      <td>D5</td>\n",
              "      <td>Rain</td>\n",
              "      <td>Cool</td>\n",
              "      <td>Normal</td>\n",
              "      <td>Weak</td>\n",
              "      <td>Yes</td>\n",
              "    </tr>\n",
              "    <tr>\n",
              "      <th>5</th>\n",
              "      <td>D6</td>\n",
              "      <td>Rain</td>\n",
              "      <td>Cool</td>\n",
              "      <td>Normal</td>\n",
              "      <td>Strong</td>\n",
              "      <td>No</td>\n",
              "    </tr>\n",
              "    <tr>\n",
              "      <th>6</th>\n",
              "      <td>D7</td>\n",
              "      <td>Overcast</td>\n",
              "      <td>Cool</td>\n",
              "      <td>Normal</td>\n",
              "      <td>Strong</td>\n",
              "      <td>Yes</td>\n",
              "    </tr>\n",
              "    <tr>\n",
              "      <th>7</th>\n",
              "      <td>D8</td>\n",
              "      <td>Sunny</td>\n",
              "      <td>Mild</td>\n",
              "      <td>High</td>\n",
              "      <td>Weak</td>\n",
              "      <td>No</td>\n",
              "    </tr>\n",
              "    <tr>\n",
              "      <th>8</th>\n",
              "      <td>D9</td>\n",
              "      <td>Sunny</td>\n",
              "      <td>Cool</td>\n",
              "      <td>Normal</td>\n",
              "      <td>Weak</td>\n",
              "      <td>Yes</td>\n",
              "    </tr>\n",
              "    <tr>\n",
              "      <th>9</th>\n",
              "      <td>D10</td>\n",
              "      <td>Rain</td>\n",
              "      <td>Mild</td>\n",
              "      <td>Normal</td>\n",
              "      <td>Weak</td>\n",
              "      <td>Yes</td>\n",
              "    </tr>\n",
              "    <tr>\n",
              "      <th>10</th>\n",
              "      <td>D11</td>\n",
              "      <td>Sunny</td>\n",
              "      <td>Mild</td>\n",
              "      <td>Normal</td>\n",
              "      <td>Strong</td>\n",
              "      <td>Yes</td>\n",
              "    </tr>\n",
              "    <tr>\n",
              "      <th>11</th>\n",
              "      <td>D12</td>\n",
              "      <td>Overcast</td>\n",
              "      <td>Mild</td>\n",
              "      <td>High</td>\n",
              "      <td>Strong</td>\n",
              "      <td>Yes</td>\n",
              "    </tr>\n",
              "    <tr>\n",
              "      <th>12</th>\n",
              "      <td>D13</td>\n",
              "      <td>Overcast</td>\n",
              "      <td>Hot</td>\n",
              "      <td>Normal</td>\n",
              "      <td>Weak</td>\n",
              "      <td>Yes</td>\n",
              "    </tr>\n",
              "    <tr>\n",
              "      <th>13</th>\n",
              "      <td>D14</td>\n",
              "      <td>Rain</td>\n",
              "      <td>Mild</td>\n",
              "      <td>High</td>\n",
              "      <td>Strong</td>\n",
              "      <td>No</td>\n",
              "    </tr>\n",
              "  </tbody>\n",
              "</table>\n",
              "</div>"
            ],
            "text/plain": [
              "    Day   Outlook Temperature Humidity    Wind PlayTenis\n",
              "0    D1     Sunny         Hot     High    Weak        No\n",
              "1    D2     Sunny         Hot     High  Strong        No\n",
              "2    D3  Overcast         Hot     High    Weak       Yes\n",
              "3    D4      Rain        Mild     High    Weak       Yes\n",
              "4    D5      Rain        Cool   Normal    Weak       Yes\n",
              "5    D6      Rain        Cool   Normal  Strong        No\n",
              "6    D7  Overcast        Cool   Normal  Strong       Yes\n",
              "7    D8     Sunny        Mild     High    Weak        No\n",
              "8    D9     Sunny        Cool   Normal    Weak       Yes\n",
              "9   D10      Rain        Mild   Normal    Weak       Yes\n",
              "10  D11     Sunny        Mild   Normal  Strong       Yes\n",
              "11  D12  Overcast        Mild     High  Strong       Yes\n",
              "12  D13  Overcast         Hot   Normal    Weak       Yes\n",
              "13  D14      Rain        Mild     High  Strong        No"
            ]
          },
          "metadata": {
            "tags": []
          },
          "execution_count": 3
        }
      ]
    },
    {
      "cell_type": "markdown",
      "metadata": {
        "id": "8LdKZNddP-yu",
        "colab_type": "text"
      },
      "source": [
        "\n",
        "**1- Calculando a entropia dos dados:**\n",
        "\n",
        "Temos 14 instâncias totais: 9 instâncias de SIM 5 instâncias de NÃO. Com as contagens de frequência de cada classe única, podemos calcular a entropia anterior desse conjunto de dados em que:\n",
        "\n",
        "\n",
        "**p** = número de instâncias positivas (por exemplo, número de instâncias de tênis)\n",
        "\n",
        "**n** = número de instâncias negativas (por exemplo, número de pessoas que não jogam tênis)\n",
        "\n",
        "= -[(p/(p+n))log2(p/(p+n)) + (n/(p+n))log2(n/(p+n))]\n",
        "\n",
        "= -(p/(p+n))log2(p/(p+n)) + -(n/(p+n))log2(n/(p+n)) \n",
        "\n",
        "= -(9/(9+5))log2(9/(9+5)) + -(5/(9+5))log2(5/(9+5))\n",
        "\n",
        "= -(9/(9+5))log2(9/(9+5)) + -(5/(9+5))log2(5/(9+5))\n",
        "\n",
        "= 0.9403\n",
        "\n",
        "**2- Calculando o ganho de informação em cada atributo:**\n",
        "\n",
        "= (5/14)*Isunny(p,n) + (4/14)*Iovercast(p,n)  + (5/14)*Irainy(p,n) \n",
        "\n",
        "\n",
        "---\n",
        "\n",
        "Isunny(p,n)\n",
        "\n",
        "= I(2,3)\n",
        "\n",
        "= -(p/(p+n))log2(p/(p+n)) + -(n/(p+n))log2(n/(p+n))  \n",
        "\n",
        "= -(2/(2+3))log2(2/(2+3)) + -(3/(2+3))log2(3/(2+3)) \n",
        "\n",
        "= 0.9710\n",
        "\n",
        "---\n",
        "\n",
        "Iovercast(p,n) \n",
        "\n",
        "= I(4,0)\n",
        "\n",
        "= -(p/(p+n))log2(p/(p+n)) + -(n/(p+n))log2(n/(p+n))  \n",
        "\n",
        "= -(4/(4+0))log2(4/(4+0)) + -(0/(4+0))log2(0/(4+0))  \n",
        "\n",
        "= 0\n",
        "\n",
        "---\n",
        "\n",
        "\n",
        "Irainy(p,n)  \n",
        "\n",
        "= I(3,2)\n",
        "\n",
        "= -(p/(p+n))log2(p/(p+n)) + -(n/(p+n))log2(n/(p+n))  \n",
        "\n",
        "= -(3/(3+2))log2(3/(3+2)) + -(2/(3+2))log2(2/(3+2))   \n",
        "\n",
        "= 0.9710\n",
        "\n",
        "---\n",
        "\n",
        "\n",
        "Calculando a entropia para o Outlook =\n",
        "\n",
        "= [Soma ponderada das pontuações de entropia de cada subconjunto de valor de atributo]\n",
        "\n",
        "= (5/14)*Isunny(p,n) + (4/14)*Iovercast(p,n)  + (5/14)*Irainy(p,n) \n",
        "\n",
        "= (5/14) * (0.9710) + (4/14) * 0 + (5/14) * (0.9710)\n",
        "\n",
        "= 0.6936\n",
        "\n",
        "Daí a entropia resultante é dada por: \n",
        "\n",
        "= 0.9403 – 0.6936\n",
        "\n",
        "= 0.246\n",
        "\n",
        "---\n",
        "\n",
        "Entropia para Temperature = 0.911\n",
        "\n",
        "Entropia para Humidity    = 0.789\n",
        "\n",
        "Entropia para Wind        = 0.892\n",
        "\n",
        "---\n",
        "\n",
        "Ganho de informação para o atributo: Temperature = 0.9403 – 0.911 = 0.0293\n",
        "\n",
        "Ganho de informação para o atributo: Humidity = 0.9403 – 0.789 = 0.1513\n",
        "\n",
        "Ganho de informação para o atributo: Wind = 0.9403 – 0.892 = 0.0483\n",
        "\n",
        "**3- calcular o atributo que obteve o máximo de informações**:\n",
        "\n",
        "Fácil concluir que a raiz será por outlook\n",
        "\n",
        "**4- Particionar o conjunto de dados com base nos valores do atributo que obteve o máximo de informações**, assim: \n",
        "\n",
        "![texto alternativo](https://raw.githubusercontent.com/Reis25/Testes_py/master/arvore_derivacao.png)\n",
        "\n",
        "b) outlook ->  overcast -> Yes\n"
      ]
    },
    {
      "cell_type": "markdown",
      "metadata": {
        "id": "KIZFvA5f0i6n",
        "colab_type": "text"
      },
      "source": [
        "**4. Com relação aos métodos Rede Neural de Camada Única (Perceptron) e\n",
        "Máquina de Vetores de Suporte (SVM), descreva:**\n",
        "\n",
        "**a. Que tipos de problemas eles podem resolver em comum. (1 ponto)**\n",
        "\n",
        "\n"
      ]
    },
    {
      "cell_type": "markdown",
      "metadata": {
        "id": "UFNRdipuz4e0",
        "colab_type": "text"
      },
      "source": [
        "Problemas que sejam separáveis, dados que possam ser separados com uma reta de modo que se tenha dois sub-grupos. "
      ]
    },
    {
      "cell_type": "markdown",
      "metadata": {
        "id": "luMdwTICz4yh",
        "colab_type": "text"
      },
      "source": [
        "**b. A principal vantagem do SVM sobre o Perceptron (exemplifique).\n",
        "(1 ponto)** \n"
      ]
    },
    {
      "cell_type": "markdown",
      "metadata": {
        "id": "VX1kRRBX0Vyj",
        "colab_type": "text"
      },
      "source": [
        "O SVM pode separar conjuntos de dados com hiper-parmetros reguláveis, nisso o clássico problema do XOR que mostra que o perceptron simples é incapaz de resolver o SVM pode através de duas retas pode fazer a separação dos dados chegando no resultado desejado. "
      ]
    },
    {
      "cell_type": "markdown",
      "metadata": {
        "id": "5FKTLR4v0k2k",
        "colab_type": "text"
      },
      "source": [
        "**5. De que forma modelos para séries temporias podem ajudar na descoberta\n",
        "de informação? (1 pontos)**\n",
        "\n"
      ]
    },
    {
      "cell_type": "markdown",
      "metadata": {
        "id": "4roR9AOnVkMl",
        "colab_type": "text"
      },
      "source": [
        "R: Uma série temporal é um ente que relaciona uma variável ao longo do tempo, é dotada de \"4 elementos\" que mostram informações dos dados, são eles:\n",
        "\n",
        "Observação original: Longas ondas, mais ou menos regulares, em torno de uma linha de tendência\t\n",
        "\n",
        "Tendência: Capta elementos de longo prazo relacionados com a série de tempo\n",
        "\n",
        "Sazonalidade: Capta os padrões regulares da série de tempo\t\n",
        "\n",
        "Residual: Capta todos os efeitos que não foram incorporados pela série de tempo via os três componentes anteriormente citados, ou seja, é o resíduo\n",
        "\n",
        "Com esses elementos podemos distinguir comportamentos pertencentes a variável e nisso inferir decisões com maior precisão."
      ]
    },
    {
      "cell_type": "markdown",
      "metadata": {
        "id": "wI-Z3SjV0mc9",
        "colab_type": "text"
      },
      "source": [
        "**6. Mostre como um sistema usando a abordagem de Meta-aprendizado\n",
        "pode economizar tempo de processamento em cada dos casos:**\n",
        "\n",
        "\n",
        "\n"
      ]
    },
    {
      "cell_type": "markdown",
      "metadata": {
        "id": "FTpgUvklGo3A",
        "colab_type": "text"
      },
      "source": [
        "**a. Recomendação de hiper-parâmetros. (1 ponto)**\n",
        "\n"
      ]
    },
    {
      "cell_type": "markdown",
      "metadata": {
        "id": "PWNEaMOvjcUW",
        "colab_type": "text"
      },
      "source": [
        "Os hiperparâmetros são entidades que contêm os dados que controlam o próprio processo de treinamento, nisso é lógico pensar que melhores hiperparâmetros vão otimizar nosso processamento com apenas os dados relevantes. "
      ]
    },
    {
      "cell_type": "markdown",
      "metadata": {
        "id": "-2fZknYLGrtO",
        "colab_type": "text"
      },
      "source": [
        "**b. Recomendação de modelos. (1 ponto)**"
      ]
    },
    {
      "cell_type": "markdown",
      "metadata": {
        "id": "aEgxfU7EzHmh",
        "colab_type": "text"
      },
      "source": [
        "R: tem-se pelo meta aprendizado a busca pelo melhor modelo e conjunto de algoritmos para termos resultados melhores nas nossas análises, assim depois de parâmetros ajustados podemos ajustar os resultados afim de termos a melhor avaliação e qualidade das análises. "
      ]
    },
    {
      "cell_type": "markdown",
      "metadata": {
        "id": "wQ5R2i2q0or6",
        "colab_type": "text"
      },
      "source": [
        "**7. Descreva como a Visualização de Dados pode ajudar o cientista de\n",
        "dados. (1 ponto)**"
      ]
    },
    {
      "cell_type": "markdown",
      "metadata": {
        "id": "edJ_jgPg9QKm",
        "colab_type": "text"
      },
      "source": [
        "É importante para que tenhamos uma boa visualização afim de que possamos tomar as melhores decisões em relação aos dados, é importante observar que a prórpia comunidade consagra apresentações simples, porém robustas como por exemplo bloxplot, gráfico de barras e outros. NOta-se que não é preferível o gráfico de pizza, por exemplo, pois não temos uma leitura precisa quando representamos grandezas em áreas. É um tópico que possue seu exito em muitas variáveis e depende muito de quem fará a leitura dos dados. \n"
      ]
    }
  ]
}