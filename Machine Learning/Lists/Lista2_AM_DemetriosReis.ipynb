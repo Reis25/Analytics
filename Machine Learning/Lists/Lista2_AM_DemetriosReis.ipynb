{
  "nbformat": 4,
  "nbformat_minor": 0,
  "metadata": {
    "colab": {
      "name": "Lista2_AM_DemetriosReis.ipynb",
      "provenance": [],
      "collapsed_sections": [],
      "authorship_tag": "ABX9TyMXZYmhg33Mqzem3uste++T",
      "include_colab_link": true
    },
    "kernelspec": {
      "name": "python3",
      "display_name": "Python 3"
    }
  },
  "cells": [
    {
      "cell_type": "markdown",
      "metadata": {
        "id": "view-in-github",
        "colab_type": "text"
      },
      "source": [
        "<a href=\"https://colab.research.google.com/github/Reis25/CienciaDosDados/blob/master/Lista2_AM_DemetriosReis.ipynb\" target=\"_parent\"><img src=\"https://colab.research.google.com/assets/colab-badge.svg\" alt=\"Open In Colab\"/></a>"
      ]
    },
    {
      "cell_type": "markdown",
      "metadata": {
        "id": "zPFPT-tj75hy",
        "colab_type": "text"
      },
      "source": [
        "#**Lista 2**\n",
        "Aprendizado de Máquina\n",
        "\n",
        "Profs. Evandro Costa e Xu Yang\n",
        "\n",
        "Aluno: Demétrios Reis Costa"
      ]
    },
    {
      "cell_type": "markdown",
      "metadata": {
        "id": "aWmEGNOO8tIn",
        "colab_type": "text"
      },
      "source": [
        "Considere os dados USArrests.csv.\n",
        "\n",
        "(1) Calcular a matriz covariância S, autovalor e autovetor de S.\n",
        "\n",
        "\n"
      ]
    },
    {
      "cell_type": "code",
      "metadata": {
        "id": "aBs9H5U5_JCI",
        "colab_type": "code",
        "colab": {}
      },
      "source": [
        "import os\n",
        "import numpy as np\n",
        "import matplotlib.pyplot as plt\n",
        "import pandas as pd\n",
        "import seaborn as sns\n",
        "import numpy.linalg as linalg\n",
        "\n",
        "os.getcwd()\n",
        "\n",
        "file = 'USArrests.csv'\n",
        "\n",
        "df = pd.read_csv(file)"
      ],
      "execution_count": null,
      "outputs": []
    },
    {
      "cell_type": "code",
      "metadata": {
        "id": "dSgpo__wPW-s",
        "colab_type": "code",
        "colab": {
          "base_uri": "https://localhost:8080/",
          "height": 173
        },
        "outputId": "4eda36ec-dbf8-4f20-b46e-ed10951f64de"
      },
      "source": [
        "# Matriz de covariancia\n",
        "df.cov()"
      ],
      "execution_count": null,
      "outputs": [
        {
          "output_type": "execute_result",
          "data": {
            "text/html": [
              "<div>\n",
              "<style scoped>\n",
              "    .dataframe tbody tr th:only-of-type {\n",
              "        vertical-align: middle;\n",
              "    }\n",
              "\n",
              "    .dataframe tbody tr th {\n",
              "        vertical-align: top;\n",
              "    }\n",
              "\n",
              "    .dataframe thead th {\n",
              "        text-align: right;\n",
              "    }\n",
              "</style>\n",
              "<table border=\"1\" class=\"dataframe\">\n",
              "  <thead>\n",
              "    <tr style=\"text-align: right;\">\n",
              "      <th></th>\n",
              "      <th>Murder</th>\n",
              "      <th>Assault</th>\n",
              "      <th>UrbanPop</th>\n",
              "      <th>Rape</th>\n",
              "    </tr>\n",
              "  </thead>\n",
              "  <tbody>\n",
              "    <tr>\n",
              "      <th>Murder</th>\n",
              "      <td>18.970465</td>\n",
              "      <td>291.062367</td>\n",
              "      <td>4.386204</td>\n",
              "      <td>22.991412</td>\n",
              "    </tr>\n",
              "    <tr>\n",
              "      <th>Assault</th>\n",
              "      <td>291.062367</td>\n",
              "      <td>6945.165714</td>\n",
              "      <td>312.275102</td>\n",
              "      <td>519.269061</td>\n",
              "    </tr>\n",
              "    <tr>\n",
              "      <th>UrbanPop</th>\n",
              "      <td>4.386204</td>\n",
              "      <td>312.275102</td>\n",
              "      <td>209.518776</td>\n",
              "      <td>55.768082</td>\n",
              "    </tr>\n",
              "    <tr>\n",
              "      <th>Rape</th>\n",
              "      <td>22.991412</td>\n",
              "      <td>519.269061</td>\n",
              "      <td>55.768082</td>\n",
              "      <td>87.729159</td>\n",
              "    </tr>\n",
              "  </tbody>\n",
              "</table>\n",
              "</div>"
            ],
            "text/plain": [
              "              Murder      Assault    UrbanPop        Rape\n",
              "Murder     18.970465   291.062367    4.386204   22.991412\n",
              "Assault   291.062367  6945.165714  312.275102  519.269061\n",
              "UrbanPop    4.386204   312.275102  209.518776   55.768082\n",
              "Rape       22.991412   519.269061   55.768082   87.729159"
            ]
          },
          "metadata": {
            "tags": []
          },
          "execution_count": 62
        }
      ]
    },
    {
      "cell_type": "code",
      "metadata": {
        "id": "WDwv4zM6P-G3",
        "colab_type": "code",
        "colab": {}
      },
      "source": [
        "# Equações\n",
        "S = df.cov()\n",
        "S_eigenvalues, S_eigenvectors = np.linalg.eig(S)"
      ],
      "execution_count": null,
      "outputs": []
    },
    {
      "cell_type": "code",
      "metadata": {
        "id": "ceeHRXgXoY6a",
        "colab_type": "code",
        "colab": {
          "base_uri": "https://localhost:8080/",
          "height": 34
        },
        "outputId": "fd95e13b-5d14-406f-ce44-254f3d4c4160"
      },
      "source": [
        "# Auto Valor\n",
        "S_eigenvalues"
      ],
      "execution_count": null,
      "outputs": [
        {
          "output_type": "execute_result",
          "data": {
            "text/plain": [
              "array([7.01111485e+03, 2.01992366e+02, 6.16424618e+00, 4.21126508e+01])"
            ]
          },
          "metadata": {
            "tags": []
          },
          "execution_count": 64
        }
      ]
    },
    {
      "cell_type": "code",
      "metadata": {
        "id": "nWpz3qbtR_8a",
        "colab_type": "code",
        "colab": {
          "base_uri": "https://localhost:8080/",
          "height": 85
        },
        "outputId": "ac05da17-3712-49a7-b980-2bca36cc305f"
      },
      "source": [
        "# Auto Vetor\n",
        "S_eigenvectors"
      ],
      "execution_count": null,
      "outputs": [
        {
          "output_type": "execute_result",
          "data": {
            "text/plain": [
              "array([[ 0.04170432,  0.04482166, -0.99492173,  0.07989066],\n",
              "       [ 0.99522128,  0.05876003,  0.0389383 , -0.06756974],\n",
              "       [ 0.04633575, -0.97685748, -0.05816914, -0.20054629],\n",
              "       [ 0.0751555 , -0.20071807,  0.07232502,  0.97408059]])"
            ]
          },
          "metadata": {
            "tags": []
          },
          "execution_count": 65
        }
      ]
    },
    {
      "cell_type": "code",
      "metadata": {
        "id": "3AlYmePaoSyt",
        "colab_type": "code",
        "colab": {
          "base_uri": "https://localhost:8080/",
          "height": 34
        },
        "outputId": "cece0e70-bb29-4233-9823-d5ca001f94f9"
      },
      "source": [
        "S_eigenvectors.shape"
      ],
      "execution_count": null,
      "outputs": [
        {
          "output_type": "execute_result",
          "data": {
            "text/plain": [
              "(4, 4)"
            ]
          },
          "metadata": {
            "tags": []
          },
          "execution_count": 66
        }
      ]
    },
    {
      "cell_type": "markdown",
      "metadata": {
        "id": "AsnZtRM88zzl",
        "colab_type": "text"
      },
      "source": [
        "(2) Calcular a matriz correlação R, autovalor e autovetor de R."
      ]
    },
    {
      "cell_type": "code",
      "metadata": {
        "id": "9Ct6aYtK_JyG",
        "colab_type": "code",
        "colab": {
          "base_uri": "https://localhost:8080/",
          "height": 173
        },
        "outputId": "ea8817b5-54ff-439b-c664-1a0639221e47"
      },
      "source": [
        "# Matriz R de correlação\n",
        "df.corr()"
      ],
      "execution_count": null,
      "outputs": [
        {
          "output_type": "execute_result",
          "data": {
            "text/html": [
              "<div>\n",
              "<style scoped>\n",
              "    .dataframe tbody tr th:only-of-type {\n",
              "        vertical-align: middle;\n",
              "    }\n",
              "\n",
              "    .dataframe tbody tr th {\n",
              "        vertical-align: top;\n",
              "    }\n",
              "\n",
              "    .dataframe thead th {\n",
              "        text-align: right;\n",
              "    }\n",
              "</style>\n",
              "<table border=\"1\" class=\"dataframe\">\n",
              "  <thead>\n",
              "    <tr style=\"text-align: right;\">\n",
              "      <th></th>\n",
              "      <th>Murder</th>\n",
              "      <th>Assault</th>\n",
              "      <th>UrbanPop</th>\n",
              "      <th>Rape</th>\n",
              "    </tr>\n",
              "  </thead>\n",
              "  <tbody>\n",
              "    <tr>\n",
              "      <th>Murder</th>\n",
              "      <td>1.000000</td>\n",
              "      <td>0.801873</td>\n",
              "      <td>0.069573</td>\n",
              "      <td>0.563579</td>\n",
              "    </tr>\n",
              "    <tr>\n",
              "      <th>Assault</th>\n",
              "      <td>0.801873</td>\n",
              "      <td>1.000000</td>\n",
              "      <td>0.258872</td>\n",
              "      <td>0.665241</td>\n",
              "    </tr>\n",
              "    <tr>\n",
              "      <th>UrbanPop</th>\n",
              "      <td>0.069573</td>\n",
              "      <td>0.258872</td>\n",
              "      <td>1.000000</td>\n",
              "      <td>0.411341</td>\n",
              "    </tr>\n",
              "    <tr>\n",
              "      <th>Rape</th>\n",
              "      <td>0.563579</td>\n",
              "      <td>0.665241</td>\n",
              "      <td>0.411341</td>\n",
              "      <td>1.000000</td>\n",
              "    </tr>\n",
              "  </tbody>\n",
              "</table>\n",
              "</div>"
            ],
            "text/plain": [
              "            Murder   Assault  UrbanPop      Rape\n",
              "Murder    1.000000  0.801873  0.069573  0.563579\n",
              "Assault   0.801873  1.000000  0.258872  0.665241\n",
              "UrbanPop  0.069573  0.258872  1.000000  0.411341\n",
              "Rape      0.563579  0.665241  0.411341  1.000000"
            ]
          },
          "metadata": {
            "tags": []
          },
          "execution_count": 67
        }
      ]
    },
    {
      "cell_type": "code",
      "metadata": {
        "id": "6qlflBRwotxN",
        "colab_type": "code",
        "colab": {}
      },
      "source": [
        "# Equqações: \n",
        "R = df.corr()\n",
        "R_eigenvalues, R_eigenvectors = np.linalg.eig(S)"
      ],
      "execution_count": null,
      "outputs": []
    },
    {
      "cell_type": "code",
      "metadata": {
        "id": "nEf_ltjNpNKO",
        "colab_type": "code",
        "colab": {
          "base_uri": "https://localhost:8080/",
          "height": 34
        },
        "outputId": "25e82f13-d5a2-44bd-cd35-f0bc4ed9abd3"
      },
      "source": [
        "# Auto Valor(R):\n",
        "R_eigenvalues"
      ],
      "execution_count": null,
      "outputs": [
        {
          "output_type": "execute_result",
          "data": {
            "text/plain": [
              "array([7.01111485e+03, 2.01992366e+02, 6.16424618e+00, 4.21126508e+01])"
            ]
          },
          "metadata": {
            "tags": []
          },
          "execution_count": 69
        }
      ]
    },
    {
      "cell_type": "code",
      "metadata": {
        "id": "FaAT143vpUXO",
        "colab_type": "code",
        "colab": {
          "base_uri": "https://localhost:8080/",
          "height": 85
        },
        "outputId": "47746974-e724-448a-8739-db34691d0cc5"
      },
      "source": [
        "# Auto Valor (R)\n",
        "R_eigenvectors"
      ],
      "execution_count": null,
      "outputs": [
        {
          "output_type": "execute_result",
          "data": {
            "text/plain": [
              "array([[ 0.04170432,  0.04482166, -0.99492173,  0.07989066],\n",
              "       [ 0.99522128,  0.05876003,  0.0389383 , -0.06756974],\n",
              "       [ 0.04633575, -0.97685748, -0.05816914, -0.20054629],\n",
              "       [ 0.0751555 , -0.20071807,  0.07232502,  0.97408059]])"
            ]
          },
          "metadata": {
            "tags": []
          },
          "execution_count": 70
        }
      ]
    },
    {
      "cell_type": "code",
      "metadata": {
        "id": "Z6Bsonsi4KJk",
        "colab_type": "code",
        "colab": {}
      },
      "source": [
        "# ordenando em ordem descrecente\n",
        "pares_de_autos = [\n",
        "    (np.abs(S_eigenvalues[i]),\n",
        "        S_eigenvectors[:,i]\n",
        "    ) for i in range(len(S_eigenvalues))\n",
        "]\n",
        "pares_de_autos.sort()\n",
        "pares_de_autos.reverse()"
      ],
      "execution_count": null,
      "outputs": []
    },
    {
      "cell_type": "code",
      "metadata": {
        "id": "7bzG9FG-I4KK",
        "colab_type": "code",
        "colab": {}
      },
      "source": [
        "# calculando a variância explicada e a variância explicada cumulativa\n",
        "total = sum( S_eigenvalues)\n",
        "var_exp = [\n",
        "    (i / total)*100 for i in sorted(\n",
        "         S_eigenvalues, reverse=True\n",
        "    )\n",
        "]\n",
        "cum_var_exp = np.cumsum(var_exp)"
      ],
      "execution_count": null,
      "outputs": []
    },
    {
      "cell_type": "markdown",
      "metadata": {
        "id": "lsfJsnHn85OV",
        "colab_type": "text"
      },
      "source": [
        "(3) Calcular a contribuição de cada componente principal."
      ]
    },
    {
      "cell_type": "code",
      "metadata": {
        "id": "zrIgSsRp_KiR",
        "colab_type": "code",
        "colab": {
          "base_uri": "https://localhost:8080/",
          "height": 221
        },
        "outputId": "a5aff314-e37c-4c70-c9b7-b3690b65d1aa"
      },
      "source": [
        "# visualizando as informações\n",
        "x = [\n",
        "    'PC %s' %i for i in range(\n",
        "        1,len( S_eigenvalues)+1\n",
        "    )\n",
        "]\n",
        "df_temp = pd.DataFrame(\n",
        "    {'auto-valores':  S_eigenvalues,\n",
        "     'cum_var_exp':cum_var_exp,\n",
        "     'var_exp':var_exp,\n",
        "     'Componente':x}\n",
        ")\n",
        "print(df_temp)\n",
        "print()\n",
        "print(\"Auto-vetores\")\n",
        "for autovetor in [p[1] for p in pares_de_autos]:\n",
        "    print(autovetor)\n",
        "print()"
      ],
      "execution_count": null,
      "outputs": [
        {
          "output_type": "stream",
          "text": [
            "   auto-valores  cum_var_exp    var_exp Componente\n",
            "0   7011.114851    96.553422  96.553422       PC 1\n",
            "1    201.992366    99.335156   2.781734       PC 2\n",
            "2      6.164246    99.915109   0.579953       PC 3\n",
            "3     42.112651   100.000000   0.084891       PC 4\n",
            "\n",
            "Auto-vetores\n",
            "[0.04170432 0.99522128 0.04633575 0.0751555 ]\n",
            "[ 0.04482166  0.05876003 -0.97685748 -0.20071807]\n",
            "[ 0.07989066 -0.06756974 -0.20054629  0.97408059]\n",
            "[-0.99492173  0.0389383  -0.05816914  0.07232502]\n",
            "\n"
          ],
          "name": "stdout"
        }
      ]
    },
    {
      "cell_type": "markdown",
      "metadata": {
        "id": "l15GwECaRxgN",
        "colab_type": "text"
      },
      "source": [
        "Note que a relevância de de cada auto valor é dada pela divisão entre o auto-valor e a soma entre todos eles. assim 0,96 = 96% = 7011.11/(7011.11 + 201.99 + 6.14 +42.11). É importante ressaltar que por definição a proporção da variância total dos dados é na verdae a sua aplicabilidade.  "
      ]
    },
    {
      "cell_type": "markdown",
      "metadata": {
        "id": "Fcd6f1uj9BvU",
        "colab_type": "text"
      },
      "source": [
        "(4) Encontra o número k tal que as contribuições acumulam 90% ou mais de\n",
        "proporção da variância total."
      ]
    },
    {
      "cell_type": "markdown",
      "metadata": {
        "id": "EVc6_awCVJmW",
        "colab_type": "text"
      },
      "source": [
        "Note que PC1 é praticamente 96% da cobertura dos dados, nisso traduzindo o enunciado é perguntado quantas dimensões são necessárias para conhecermos 90% dos dados e do exposto precisamos apenas de k='1', como podemos ver na matriz do resultado anterior."
      ]
    }
  ]
}