{
  "nbformat": 4,
  "nbformat_minor": 0,
  "metadata": {
    "colab": {
      "name": "Lista5_AM_DemetriosReis.ipynb",
      "provenance": [],
      "authorship_tag": "ABX9TyMtaw8GVampagcqhJ6bS9+l",
      "include_colab_link": true
    },
    "kernelspec": {
      "name": "python3",
      "display_name": "Python 3"
    }
  },
  "cells": [
    {
      "cell_type": "markdown",
      "metadata": {
        "id": "view-in-github",
        "colab_type": "text"
      },
      "source": [
        "<a href=\"https://colab.research.google.com/github/Reis25/AprendizadoDeMquinas/blob/master/Lista5_AM_DemetriosReis.ipynb\" target=\"_parent\"><img src=\"https://colab.research.google.com/assets/colab-badge.svg\" alt=\"Open In Colab\"/></a>"
      ]
    },
    {
      "cell_type": "markdown",
      "metadata": {
        "id": "JYjNw1XYN_MA",
        "colab_type": "text"
      },
      "source": [
        "Lista de Exercícios: Árvore de Decisão – Parte 1\n",
        "\n",
        "Disciplina: Aprendizagem de Máquina, PPGI\n",
        "\n",
        "Professores: Evandro Costa e Xu Yang\n",
        "\n",
        "Período: 2020.2\n"
      ]
    },
    {
      "cell_type": "markdown",
      "metadata": {
        "id": "i1jSoQnnOFCQ",
        "colab_type": "text"
      },
      "source": [
        "1) Considere o conjunto de treinamento expresso na tabela a seguir, sobre o qual\n",
        "responda:\n",
        "\n",
        "a Use o algoritmo ID3, adotando a métrica do ganho de informação para seleção de\n",
        "atributos, para construir completamente e manualmente uma árvore de decisão. Mostre\n",
        "o passo a passo o processo de construção da árvore, apresentando os cálculos com os\n",
        "valores (entropia, ganho de informação), critério e justificativa de escolha para cada\n",
        "atributo candidato a ser raiz de árvore (e cada subárvore), em cada momento;\n"
      ]
    },
    {
      "cell_type": "code",
      "metadata": {
        "id": "jR1hslb80jv8",
        "colab_type": "code",
        "colab": {
          "base_uri": "https://localhost:8080/",
          "height": 204
        },
        "outputId": "a4114739-1c0d-4daf-f857-48431ab7efc9"
      },
      "source": [
        "import numpy as np \n",
        "import pandas as pd\n",
        "import matplotlib.pyplot as plt\n",
        "from math import log\n",
        "import seaborn as sns\n",
        "\n",
        "url1 = 'https://raw.githubusercontent.com/Reis25/Testes_py/master/risco_de_credito.csv'\n",
        "\n",
        "df = pd.read_csv(url1)\n",
        "\n",
        "df.head()"
      ],
      "execution_count": 2,
      "outputs": [
        {
          "output_type": "execute_result",
          "data": {
            "text/html": [
              "<div>\n",
              "<style scoped>\n",
              "    .dataframe tbody tr th:only-of-type {\n",
              "        vertical-align: middle;\n",
              "    }\n",
              "\n",
              "    .dataframe tbody tr th {\n",
              "        vertical-align: top;\n",
              "    }\n",
              "\n",
              "    .dataframe thead th {\n",
              "        text-align: right;\n",
              "    }\n",
              "</style>\n",
              "<table border=\"1\" class=\"dataframe\">\n",
              "  <thead>\n",
              "    <tr style=\"text-align: right;\">\n",
              "      <th></th>\n",
              "      <th>Historia_de_Crédito</th>\n",
              "      <th>Dívida</th>\n",
              "      <th>Garantia</th>\n",
              "      <th>Renda</th>\n",
              "      <th>Risco</th>\n",
              "    </tr>\n",
              "  </thead>\n",
              "  <tbody>\n",
              "    <tr>\n",
              "      <th>0</th>\n",
              "      <td>Ruim</td>\n",
              "      <td>Alta</td>\n",
              "      <td>Nenhuma</td>\n",
              "      <td>baixa</td>\n",
              "      <td>Alto</td>\n",
              "    </tr>\n",
              "    <tr>\n",
              "      <th>1</th>\n",
              "      <td>Desconhecida</td>\n",
              "      <td>Alta</td>\n",
              "      <td>Nenhuma</td>\n",
              "      <td>media</td>\n",
              "      <td>Alto</td>\n",
              "    </tr>\n",
              "    <tr>\n",
              "      <th>2</th>\n",
              "      <td>Desconhecida</td>\n",
              "      <td>Baixa</td>\n",
              "      <td>Nenhuma</td>\n",
              "      <td>media</td>\n",
              "      <td>Moderado</td>\n",
              "    </tr>\n",
              "    <tr>\n",
              "      <th>3</th>\n",
              "      <td>Desconhecida</td>\n",
              "      <td>Baixa</td>\n",
              "      <td>Nenhuma</td>\n",
              "      <td>baixa</td>\n",
              "      <td>Alto</td>\n",
              "    </tr>\n",
              "    <tr>\n",
              "      <th>4</th>\n",
              "      <td>Desconhecida</td>\n",
              "      <td>Baixa</td>\n",
              "      <td>Nenhuma</td>\n",
              "      <td>alta</td>\n",
              "      <td>Baixo</td>\n",
              "    </tr>\n",
              "  </tbody>\n",
              "</table>\n",
              "</div>"
            ],
            "text/plain": [
              "  Historia_de_Crédito Dívida Garantia  Renda     Risco\n",
              "0                Ruim   Alta  Nenhuma  baixa      Alto\n",
              "1        Desconhecida   Alta  Nenhuma  media      Alto\n",
              "2        Desconhecida  Baixa  Nenhuma  media  Moderado\n",
              "3        Desconhecida  Baixa  Nenhuma  baixa      Alto\n",
              "4        Desconhecida  Baixa  Nenhuma   alta     Baixo"
            ]
          },
          "metadata": {
            "tags": []
          },
          "execution_count": 2
        }
      ]
    },
    {
      "cell_type": "code",
      "metadata": {
        "id": "F7J1hq0od5Uh",
        "colab_type": "code",
        "colab": {}
      },
      "source": [
        "from sklearn.preprocessing import LabelEncoder\n",
        "Le = LabelEncoder()\n",
        "\n",
        "df['Historia_de_Crédito'] = Le.fit_transform(df['Historia_de_Crédito'])\n",
        "df['Dívida'] = Le.fit_transform(df['Dívida'])\n",
        "df['Garantia'] = Le.fit_transform(df['Garantia'])\n",
        "df['Renda'] = Le.fit_transform(df['Renda'])\n",
        "df['Risco'] = Le.fit_transform(df['Risco'])\n",
        "\n",
        "y = df['Risco']\n",
        "X = df.drop(['Risco'], axis=1)"
      ],
      "execution_count": 6,
      "outputs": []
    },
    {
      "cell_type": "code",
      "metadata": {
        "id": "WBpKLbVuegKn",
        "colab_type": "code",
        "colab": {
          "base_uri": "https://localhost:8080/",
          "height": 483
        },
        "outputId": "d6f7c5b3-dd9b-4bb5-fa97-2e2ec802a509"
      },
      "source": [
        "y \n",
        "X  "
      ],
      "execution_count": 7,
      "outputs": [
        {
          "output_type": "execute_result",
          "data": {
            "text/html": [
              "<div>\n",
              "<style scoped>\n",
              "    .dataframe tbody tr th:only-of-type {\n",
              "        vertical-align: middle;\n",
              "    }\n",
              "\n",
              "    .dataframe tbody tr th {\n",
              "        vertical-align: top;\n",
              "    }\n",
              "\n",
              "    .dataframe thead th {\n",
              "        text-align: right;\n",
              "    }\n",
              "</style>\n",
              "<table border=\"1\" class=\"dataframe\">\n",
              "  <thead>\n",
              "    <tr style=\"text-align: right;\">\n",
              "      <th></th>\n",
              "      <th>Historia_de_Crédito</th>\n",
              "      <th>Dívida</th>\n",
              "      <th>Garantia</th>\n",
              "      <th>Renda</th>\n",
              "    </tr>\n",
              "  </thead>\n",
              "  <tbody>\n",
              "    <tr>\n",
              "      <th>0</th>\n",
              "      <td>2</td>\n",
              "      <td>0</td>\n",
              "      <td>1</td>\n",
              "      <td>1</td>\n",
              "    </tr>\n",
              "    <tr>\n",
              "      <th>1</th>\n",
              "      <td>1</td>\n",
              "      <td>0</td>\n",
              "      <td>1</td>\n",
              "      <td>2</td>\n",
              "    </tr>\n",
              "    <tr>\n",
              "      <th>2</th>\n",
              "      <td>1</td>\n",
              "      <td>1</td>\n",
              "      <td>1</td>\n",
              "      <td>2</td>\n",
              "    </tr>\n",
              "    <tr>\n",
              "      <th>3</th>\n",
              "      <td>1</td>\n",
              "      <td>1</td>\n",
              "      <td>1</td>\n",
              "      <td>1</td>\n",
              "    </tr>\n",
              "    <tr>\n",
              "      <th>4</th>\n",
              "      <td>1</td>\n",
              "      <td>1</td>\n",
              "      <td>1</td>\n",
              "      <td>0</td>\n",
              "    </tr>\n",
              "    <tr>\n",
              "      <th>5</th>\n",
              "      <td>1</td>\n",
              "      <td>1</td>\n",
              "      <td>0</td>\n",
              "      <td>0</td>\n",
              "    </tr>\n",
              "    <tr>\n",
              "      <th>6</th>\n",
              "      <td>2</td>\n",
              "      <td>1</td>\n",
              "      <td>1</td>\n",
              "      <td>1</td>\n",
              "    </tr>\n",
              "    <tr>\n",
              "      <th>7</th>\n",
              "      <td>2</td>\n",
              "      <td>1</td>\n",
              "      <td>0</td>\n",
              "      <td>0</td>\n",
              "    </tr>\n",
              "    <tr>\n",
              "      <th>8</th>\n",
              "      <td>0</td>\n",
              "      <td>1</td>\n",
              "      <td>1</td>\n",
              "      <td>0</td>\n",
              "    </tr>\n",
              "    <tr>\n",
              "      <th>9</th>\n",
              "      <td>0</td>\n",
              "      <td>0</td>\n",
              "      <td>0</td>\n",
              "      <td>0</td>\n",
              "    </tr>\n",
              "    <tr>\n",
              "      <th>10</th>\n",
              "      <td>0</td>\n",
              "      <td>0</td>\n",
              "      <td>1</td>\n",
              "      <td>1</td>\n",
              "    </tr>\n",
              "    <tr>\n",
              "      <th>11</th>\n",
              "      <td>0</td>\n",
              "      <td>0</td>\n",
              "      <td>1</td>\n",
              "      <td>2</td>\n",
              "    </tr>\n",
              "    <tr>\n",
              "      <th>12</th>\n",
              "      <td>0</td>\n",
              "      <td>0</td>\n",
              "      <td>1</td>\n",
              "      <td>0</td>\n",
              "    </tr>\n",
              "    <tr>\n",
              "      <th>13</th>\n",
              "      <td>2</td>\n",
              "      <td>0</td>\n",
              "      <td>1</td>\n",
              "      <td>2</td>\n",
              "    </tr>\n",
              "  </tbody>\n",
              "</table>\n",
              "</div>"
            ],
            "text/plain": [
              "    Historia_de_Crédito  Dívida  Garantia  Renda\n",
              "0                     2       0         1      1\n",
              "1                     1       0         1      2\n",
              "2                     1       1         1      2\n",
              "3                     1       1         1      1\n",
              "4                     1       1         1      0\n",
              "5                     1       1         0      0\n",
              "6                     2       1         1      1\n",
              "7                     2       1         0      0\n",
              "8                     0       1         1      0\n",
              "9                     0       0         0      0\n",
              "10                    0       0         1      1\n",
              "11                    0       0         1      2\n",
              "12                    0       0         1      0\n",
              "13                    2       0         1      2"
            ]
          },
          "metadata": {
            "tags": []
          },
          "execution_count": 7
        }
      ]
    },
    {
      "cell_type": "code",
      "metadata": {
        "id": "wFVSSRKEez_E",
        "colab_type": "code",
        "colab": {}
      },
      "source": [
        "# Fitting the model\n",
        "from sklearn import tree\n",
        "\n",
        "# criterion = 'entropy' calcula a árvore de decisão pelo ID3\n",
        "clf = tree.DecisionTreeClassifier(criterion = 'entropy')\n",
        "clf = clf.fit(X, y)"
      ],
      "execution_count": 8,
      "outputs": []
    },
    {
      "cell_type": "code",
      "metadata": {
        "id": "JmY8mAOUe8v7",
        "colab_type": "code",
        "colab": {
          "base_uri": "https://localhost:8080/",
          "height": 657
        },
        "outputId": "95647330-0641-4f8a-e40e-df940b510bb0"
      },
      "source": [
        "import graphviz \n",
        "dot_data = tree.export_graphviz(clf, out_file=None) \n",
        "graph = graphviz.Source(dot_data) \n",
        "graph"
      ],
      "execution_count": 10,
      "outputs": [
        {
          "output_type": "execute_result",
          "data": {
            "text/plain": [
              "<graphviz.files.Source at 0x7f00ad62add8>"
            ],
            "image/svg+xml": "<?xml version=\"1.0\" encoding=\"UTF-8\" standalone=\"no\"?>\n<!DOCTYPE svg PUBLIC \"-//W3C//DTD SVG 1.1//EN\"\n \"http://www.w3.org/Graphics/SVG/1.1/DTD/svg11.dtd\">\n<!-- Generated by graphviz version 2.40.1 (20161225.0304)\n -->\n<!-- Title: Tree Pages: 1 -->\n<svg width=\"633pt\" height=\"477pt\"\n viewBox=\"0.00 0.00 633.00 477.00\" xmlns=\"http://www.w3.org/2000/svg\" xmlns:xlink=\"http://www.w3.org/1999/xlink\">\n<g id=\"graph0\" class=\"graph\" transform=\"scale(1 1) rotate(0) translate(4 473)\">\n<title>Tree</title>\n<polygon fill=\"#ffffff\" stroke=\"transparent\" points=\"-4,4 -4,-473 629,-473 629,4 -4,4\"/>\n<!-- 0 -->\n<g id=\"node1\" class=\"node\">\n<title>0</title>\n<polygon fill=\"none\" stroke=\"#000000\" points=\"339,-469 214,-469 214,-401 339,-401 339,-469\"/>\n<text text-anchor=\"middle\" x=\"276.5\" y=\"-453.8\" font-family=\"Times,serif\" font-size=\"14.00\" fill=\"#000000\">X[3] &lt;= 0.5</text>\n<text text-anchor=\"middle\" x=\"276.5\" y=\"-438.8\" font-family=\"Times,serif\" font-size=\"14.00\" fill=\"#000000\">entropy = 1.788</text>\n<text text-anchor=\"middle\" x=\"276.5\" y=\"-423.8\" font-family=\"Times,serif\" font-size=\"14.00\" fill=\"#000000\">samples = 14</text>\n<text text-anchor=\"middle\" x=\"276.5\" y=\"-408.8\" font-family=\"Times,serif\" font-size=\"14.00\" fill=\"#000000\">value = [6, 4, 3, 1]</text>\n</g>\n<!-- 1 -->\n<g id=\"node2\" class=\"node\">\n<title>1</title>\n<polygon fill=\"none\" stroke=\"#000000\" points=\"268,-365 143,-365 143,-297 268,-297 268,-365\"/>\n<text text-anchor=\"middle\" x=\"205.5\" y=\"-349.8\" font-family=\"Times,serif\" font-size=\"14.00\" fill=\"#000000\">X[0] &lt;= 1.5</text>\n<text text-anchor=\"middle\" x=\"205.5\" y=\"-334.8\" font-family=\"Times,serif\" font-size=\"14.00\" fill=\"#000000\">entropy = 1.252</text>\n<text text-anchor=\"middle\" x=\"205.5\" y=\"-319.8\" font-family=\"Times,serif\" font-size=\"14.00\" fill=\"#000000\">samples = 6</text>\n<text text-anchor=\"middle\" x=\"205.5\" y=\"-304.8\" font-family=\"Times,serif\" font-size=\"14.00\" fill=\"#000000\">value = [0, 4, 1, 1]</text>\n</g>\n<!-- 0&#45;&gt;1 -->\n<g id=\"edge1\" class=\"edge\">\n<title>0&#45;&gt;1</title>\n<path fill=\"none\" stroke=\"#000000\" d=\"M253.2519,-400.9465C247.245,-392.1475 240.7045,-382.5672 234.4457,-373.3993\"/>\n<polygon fill=\"#000000\" stroke=\"#000000\" points=\"237.3293,-371.4155 228.8003,-365.13 231.548,-375.3623 237.3293,-371.4155\"/>\n<text text-anchor=\"middle\" x=\"224.1676\" y=\"-385.997\" font-family=\"Times,serif\" font-size=\"14.00\" fill=\"#000000\">True</text>\n</g>\n<!-- 8 -->\n<g id=\"node9\" class=\"node\">\n<title>8</title>\n<polygon fill=\"none\" stroke=\"#000000\" points=\"411,-365 286,-365 286,-297 411,-297 411,-365\"/>\n<text text-anchor=\"middle\" x=\"348.5\" y=\"-349.8\" font-family=\"Times,serif\" font-size=\"14.00\" fill=\"#000000\">X[3] &lt;= 1.5</text>\n<text text-anchor=\"middle\" x=\"348.5\" y=\"-334.8\" font-family=\"Times,serif\" font-size=\"14.00\" fill=\"#000000\">entropy = 0.811</text>\n<text text-anchor=\"middle\" x=\"348.5\" y=\"-319.8\" font-family=\"Times,serif\" font-size=\"14.00\" fill=\"#000000\">samples = 8</text>\n<text text-anchor=\"middle\" x=\"348.5\" y=\"-304.8\" font-family=\"Times,serif\" font-size=\"14.00\" fill=\"#000000\">value = [6, 0, 2, 0]</text>\n</g>\n<!-- 0&#45;&gt;8 -->\n<g id=\"edge8\" class=\"edge\">\n<title>0&#45;&gt;8</title>\n<path fill=\"none\" stroke=\"#000000\" d=\"M300.0755,-400.9465C306.1671,-392.1475 312.7996,-382.5672 319.1466,-373.3993\"/>\n<polygon fill=\"#000000\" stroke=\"#000000\" points=\"322.0571,-375.3442 324.8715,-365.13 316.3017,-371.3597 322.0571,-375.3442\"/>\n<text text-anchor=\"middle\" x=\"329.3437\" y=\"-386.0267\" font-family=\"Times,serif\" font-size=\"14.00\" fill=\"#000000\">False</text>\n</g>\n<!-- 2 -->\n<g id=\"node3\" class=\"node\">\n<title>2</title>\n<polygon fill=\"none\" stroke=\"#000000\" points=\"125,-261 0,-261 0,-193 125,-193 125,-261\"/>\n<text text-anchor=\"middle\" x=\"62.5\" y=\"-245.8\" font-family=\"Times,serif\" font-size=\"14.00\" fill=\"#000000\">X[1] &lt;= 0.5</text>\n<text text-anchor=\"middle\" x=\"62.5\" y=\"-230.8\" font-family=\"Times,serif\" font-size=\"14.00\" fill=\"#000000\">entropy = 0.722</text>\n<text text-anchor=\"middle\" x=\"62.5\" y=\"-215.8\" font-family=\"Times,serif\" font-size=\"14.00\" fill=\"#000000\">samples = 5</text>\n<text text-anchor=\"middle\" x=\"62.5\" y=\"-200.8\" font-family=\"Times,serif\" font-size=\"14.00\" fill=\"#000000\">value = [0, 4, 0, 1]</text>\n</g>\n<!-- 1&#45;&gt;2 -->\n<g id=\"edge2\" class=\"edge\">\n<title>1&#45;&gt;2</title>\n<path fill=\"none\" stroke=\"#000000\" d=\"M158.6765,-296.9465C145.5902,-287.4293 131.247,-276.9978 117.7241,-267.163\"/>\n<polygon fill=\"#000000\" stroke=\"#000000\" points=\"119.5747,-264.1812 109.4287,-261.13 115.4575,-269.8423 119.5747,-264.1812\"/>\n</g>\n<!-- 7 -->\n<g id=\"node8\" class=\"node\">\n<title>7</title>\n<polygon fill=\"none\" stroke=\"#000000\" points=\"268,-253.5 143,-253.5 143,-200.5 268,-200.5 268,-253.5\"/>\n<text text-anchor=\"middle\" x=\"205.5\" y=\"-238.3\" font-family=\"Times,serif\" font-size=\"14.00\" fill=\"#000000\">entropy = 0.0</text>\n<text text-anchor=\"middle\" x=\"205.5\" y=\"-223.3\" font-family=\"Times,serif\" font-size=\"14.00\" fill=\"#000000\">samples = 1</text>\n<text text-anchor=\"middle\" x=\"205.5\" y=\"-208.3\" font-family=\"Times,serif\" font-size=\"14.00\" fill=\"#000000\">value = [0, 0, 1, 0]</text>\n</g>\n<!-- 1&#45;&gt;7 -->\n<g id=\"edge7\" class=\"edge\">\n<title>1&#45;&gt;7</title>\n<path fill=\"none\" stroke=\"#000000\" d=\"M205.5,-296.9465C205.5,-286.2621 205.5,-274.4254 205.5,-263.5742\"/>\n<polygon fill=\"#000000\" stroke=\"#000000\" points=\"209.0001,-263.5421 205.5,-253.5422 202.0001,-263.5422 209.0001,-263.5421\"/>\n</g>\n<!-- 3 -->\n<g id=\"node4\" class=\"node\">\n<title>3</title>\n<polygon fill=\"none\" stroke=\"#000000\" points=\"125,-157 0,-157 0,-89 125,-89 125,-157\"/>\n<text text-anchor=\"middle\" x=\"62.5\" y=\"-141.8\" font-family=\"Times,serif\" font-size=\"14.00\" fill=\"#000000\">X[2] &lt;= 0.5</text>\n<text text-anchor=\"middle\" x=\"62.5\" y=\"-126.8\" font-family=\"Times,serif\" font-size=\"14.00\" fill=\"#000000\">entropy = 1.0</text>\n<text text-anchor=\"middle\" x=\"62.5\" y=\"-111.8\" font-family=\"Times,serif\" font-size=\"14.00\" fill=\"#000000\">samples = 2</text>\n<text text-anchor=\"middle\" x=\"62.5\" y=\"-96.8\" font-family=\"Times,serif\" font-size=\"14.00\" fill=\"#000000\">value = [0, 1, 0, 1]</text>\n</g>\n<!-- 2&#45;&gt;3 -->\n<g id=\"edge3\" class=\"edge\">\n<title>2&#45;&gt;3</title>\n<path fill=\"none\" stroke=\"#000000\" d=\"M62.5,-192.9465C62.5,-184.776 62.5,-175.9318 62.5,-167.3697\"/>\n<polygon fill=\"#000000\" stroke=\"#000000\" points=\"66.0001,-167.13 62.5,-157.13 59.0001,-167.13 66.0001,-167.13\"/>\n</g>\n<!-- 6 -->\n<g id=\"node7\" class=\"node\">\n<title>6</title>\n<polygon fill=\"none\" stroke=\"#000000\" points=\"268,-149.5 143,-149.5 143,-96.5 268,-96.5 268,-149.5\"/>\n<text text-anchor=\"middle\" x=\"205.5\" y=\"-134.3\" font-family=\"Times,serif\" font-size=\"14.00\" fill=\"#000000\">entropy = 0.0</text>\n<text text-anchor=\"middle\" x=\"205.5\" y=\"-119.3\" font-family=\"Times,serif\" font-size=\"14.00\" fill=\"#000000\">samples = 3</text>\n<text text-anchor=\"middle\" x=\"205.5\" y=\"-104.3\" font-family=\"Times,serif\" font-size=\"14.00\" fill=\"#000000\">value = [0, 3, 0, 0]</text>\n</g>\n<!-- 2&#45;&gt;6 -->\n<g id=\"edge6\" class=\"edge\">\n<title>2&#45;&gt;6</title>\n<path fill=\"none\" stroke=\"#000000\" d=\"M109.3235,-192.9465C125.8321,-180.9403 144.3412,-167.4791 160.6802,-155.5962\"/>\n<polygon fill=\"#000000\" stroke=\"#000000\" points=\"162.9758,-158.2545 169.0045,-149.5422 158.8585,-152.5933 162.9758,-158.2545\"/>\n</g>\n<!-- 4 -->\n<g id=\"node5\" class=\"node\">\n<title>4</title>\n<polygon fill=\"none\" stroke=\"#000000\" points=\"125,-53 0,-53 0,0 125,0 125,-53\"/>\n<text text-anchor=\"middle\" x=\"62.5\" y=\"-37.8\" font-family=\"Times,serif\" font-size=\"14.00\" fill=\"#000000\">entropy = 0.0</text>\n<text text-anchor=\"middle\" x=\"62.5\" y=\"-22.8\" font-family=\"Times,serif\" font-size=\"14.00\" fill=\"#000000\">samples = 1</text>\n<text text-anchor=\"middle\" x=\"62.5\" y=\"-7.8\" font-family=\"Times,serif\" font-size=\"14.00\" fill=\"#000000\">value = [0, 1, 0, 0]</text>\n</g>\n<!-- 3&#45;&gt;4 -->\n<g id=\"edge4\" class=\"edge\">\n<title>3&#45;&gt;4</title>\n<path fill=\"none\" stroke=\"#000000\" d=\"M62.5,-88.9777C62.5,-80.7364 62.5,-71.887 62.5,-63.5153\"/>\n<polygon fill=\"#000000\" stroke=\"#000000\" points=\"66.0001,-63.2484 62.5,-53.2485 59.0001,-63.2485 66.0001,-63.2484\"/>\n</g>\n<!-- 5 -->\n<g id=\"node6\" class=\"node\">\n<title>5</title>\n<polygon fill=\"none\" stroke=\"#000000\" points=\"268,-53 143,-53 143,0 268,0 268,-53\"/>\n<text text-anchor=\"middle\" x=\"205.5\" y=\"-37.8\" font-family=\"Times,serif\" font-size=\"14.00\" fill=\"#000000\">entropy = 0.0</text>\n<text text-anchor=\"middle\" x=\"205.5\" y=\"-22.8\" font-family=\"Times,serif\" font-size=\"14.00\" fill=\"#000000\">samples = 1</text>\n<text text-anchor=\"middle\" x=\"205.5\" y=\"-7.8\" font-family=\"Times,serif\" font-size=\"14.00\" fill=\"#000000\">value = [0, 0, 0, 1]</text>\n</g>\n<!-- 3&#45;&gt;5 -->\n<g id=\"edge5\" class=\"edge\">\n<title>3&#45;&gt;5</title>\n<path fill=\"none\" stroke=\"#000000\" d=\"M112.9165,-88.9777C127.3,-79.2713 142.9337,-68.7213 157.1885,-59.1018\"/>\n<polygon fill=\"#000000\" stroke=\"#000000\" points=\"159.531,-61.7435 165.8624,-53.2485 155.6154,-55.941 159.531,-61.7435\"/>\n</g>\n<!-- 9 -->\n<g id=\"node10\" class=\"node\">\n<title>9</title>\n<polygon fill=\"none\" stroke=\"#000000\" points=\"411,-253.5 286,-253.5 286,-200.5 411,-200.5 411,-253.5\"/>\n<text text-anchor=\"middle\" x=\"348.5\" y=\"-238.3\" font-family=\"Times,serif\" font-size=\"14.00\" fill=\"#000000\">entropy = 0.0</text>\n<text text-anchor=\"middle\" x=\"348.5\" y=\"-223.3\" font-family=\"Times,serif\" font-size=\"14.00\" fill=\"#000000\">samples = 4</text>\n<text text-anchor=\"middle\" x=\"348.5\" y=\"-208.3\" font-family=\"Times,serif\" font-size=\"14.00\" fill=\"#000000\">value = [4, 0, 0, 0]</text>\n</g>\n<!-- 8&#45;&gt;9 -->\n<g id=\"edge9\" class=\"edge\">\n<title>8&#45;&gt;9</title>\n<path fill=\"none\" stroke=\"#000000\" d=\"M348.5,-296.9465C348.5,-286.2621 348.5,-274.4254 348.5,-263.5742\"/>\n<polygon fill=\"#000000\" stroke=\"#000000\" points=\"352.0001,-263.5421 348.5,-253.5422 345.0001,-263.5422 352.0001,-263.5421\"/>\n</g>\n<!-- 10 -->\n<g id=\"node11\" class=\"node\">\n<title>10</title>\n<polygon fill=\"none\" stroke=\"#000000\" points=\"554,-261 429,-261 429,-193 554,-193 554,-261\"/>\n<text text-anchor=\"middle\" x=\"491.5\" y=\"-245.8\" font-family=\"Times,serif\" font-size=\"14.00\" fill=\"#000000\">X[0] &lt;= 0.5</text>\n<text text-anchor=\"middle\" x=\"491.5\" y=\"-230.8\" font-family=\"Times,serif\" font-size=\"14.00\" fill=\"#000000\">entropy = 1.0</text>\n<text text-anchor=\"middle\" x=\"491.5\" y=\"-215.8\" font-family=\"Times,serif\" font-size=\"14.00\" fill=\"#000000\">samples = 4</text>\n<text text-anchor=\"middle\" x=\"491.5\" y=\"-200.8\" font-family=\"Times,serif\" font-size=\"14.00\" fill=\"#000000\">value = [2, 0, 2, 0]</text>\n</g>\n<!-- 8&#45;&gt;10 -->\n<g id=\"edge10\" class=\"edge\">\n<title>8&#45;&gt;10</title>\n<path fill=\"none\" stroke=\"#000000\" d=\"M395.3235,-296.9465C408.4098,-287.4293 422.753,-276.9978 436.2759,-267.163\"/>\n<polygon fill=\"#000000\" stroke=\"#000000\" points=\"438.5425,-269.8423 444.5713,-261.13 434.4253,-264.1812 438.5425,-269.8423\"/>\n</g>\n<!-- 11 -->\n<g id=\"node12\" class=\"node\">\n<title>11</title>\n<polygon fill=\"none\" stroke=\"#000000\" points=\"411,-149.5 286,-149.5 286,-96.5 411,-96.5 411,-149.5\"/>\n<text text-anchor=\"middle\" x=\"348.5\" y=\"-134.3\" font-family=\"Times,serif\" font-size=\"14.00\" fill=\"#000000\">entropy = 0.0</text>\n<text text-anchor=\"middle\" x=\"348.5\" y=\"-119.3\" font-family=\"Times,serif\" font-size=\"14.00\" fill=\"#000000\">samples = 1</text>\n<text text-anchor=\"middle\" x=\"348.5\" y=\"-104.3\" font-family=\"Times,serif\" font-size=\"14.00\" fill=\"#000000\">value = [0, 0, 1, 0]</text>\n</g>\n<!-- 10&#45;&gt;11 -->\n<g id=\"edge11\" class=\"edge\">\n<title>10&#45;&gt;11</title>\n<path fill=\"none\" stroke=\"#000000\" d=\"M444.6765,-192.9465C428.1679,-180.9403 409.6588,-167.4791 393.3198,-155.5962\"/>\n<polygon fill=\"#000000\" stroke=\"#000000\" points=\"395.1415,-152.5933 384.9955,-149.5422 391.0242,-158.2545 395.1415,-152.5933\"/>\n</g>\n<!-- 12 -->\n<g id=\"node13\" class=\"node\">\n<title>12</title>\n<polygon fill=\"none\" stroke=\"#000000\" points=\"554,-157 429,-157 429,-89 554,-89 554,-157\"/>\n<text text-anchor=\"middle\" x=\"491.5\" y=\"-141.8\" font-family=\"Times,serif\" font-size=\"14.00\" fill=\"#000000\">X[1] &lt;= 0.5</text>\n<text text-anchor=\"middle\" x=\"491.5\" y=\"-126.8\" font-family=\"Times,serif\" font-size=\"14.00\" fill=\"#000000\">entropy = 0.918</text>\n<text text-anchor=\"middle\" x=\"491.5\" y=\"-111.8\" font-family=\"Times,serif\" font-size=\"14.00\" fill=\"#000000\">samples = 3</text>\n<text text-anchor=\"middle\" x=\"491.5\" y=\"-96.8\" font-family=\"Times,serif\" font-size=\"14.00\" fill=\"#000000\">value = [2, 0, 1, 0]</text>\n</g>\n<!-- 10&#45;&gt;12 -->\n<g id=\"edge12\" class=\"edge\">\n<title>10&#45;&gt;12</title>\n<path fill=\"none\" stroke=\"#000000\" d=\"M491.5,-192.9465C491.5,-184.776 491.5,-175.9318 491.5,-167.3697\"/>\n<polygon fill=\"#000000\" stroke=\"#000000\" points=\"495.0001,-167.13 491.5,-157.13 488.0001,-167.13 495.0001,-167.13\"/>\n</g>\n<!-- 13 -->\n<g id=\"node14\" class=\"node\">\n<title>13</title>\n<polygon fill=\"none\" stroke=\"#000000\" points=\"482,-53 357,-53 357,0 482,0 482,-53\"/>\n<text text-anchor=\"middle\" x=\"419.5\" y=\"-37.8\" font-family=\"Times,serif\" font-size=\"14.00\" fill=\"#000000\">entropy = 0.0</text>\n<text text-anchor=\"middle\" x=\"419.5\" y=\"-22.8\" font-family=\"Times,serif\" font-size=\"14.00\" fill=\"#000000\">samples = 2</text>\n<text text-anchor=\"middle\" x=\"419.5\" y=\"-7.8\" font-family=\"Times,serif\" font-size=\"14.00\" fill=\"#000000\">value = [2, 0, 0, 0]</text>\n</g>\n<!-- 12&#45;&gt;13 -->\n<g id=\"edge13\" class=\"edge\">\n<title>12&#45;&gt;13</title>\n<path fill=\"none\" stroke=\"#000000\" d=\"M466.1155,-88.9777C459.42,-80.0039 452.1865,-70.3089 445.461,-61.295\"/>\n<polygon fill=\"#000000\" stroke=\"#000000\" points=\"448.2427,-59.1704 439.4574,-53.2485 442.6323,-63.3565 448.2427,-59.1704\"/>\n</g>\n<!-- 14 -->\n<g id=\"node15\" class=\"node\">\n<title>14</title>\n<polygon fill=\"none\" stroke=\"#000000\" points=\"625,-53 500,-53 500,0 625,0 625,-53\"/>\n<text text-anchor=\"middle\" x=\"562.5\" y=\"-37.8\" font-family=\"Times,serif\" font-size=\"14.00\" fill=\"#000000\">entropy = 0.0</text>\n<text text-anchor=\"middle\" x=\"562.5\" y=\"-22.8\" font-family=\"Times,serif\" font-size=\"14.00\" fill=\"#000000\">samples = 1</text>\n<text text-anchor=\"middle\" x=\"562.5\" y=\"-7.8\" font-family=\"Times,serif\" font-size=\"14.00\" fill=\"#000000\">value = [0, 0, 1, 0]</text>\n</g>\n<!-- 12&#45;&gt;14 -->\n<g id=\"edge14\" class=\"edge\">\n<title>12&#45;&gt;14</title>\n<path fill=\"none\" stroke=\"#000000\" d=\"M516.5319,-88.9777C523.0671,-80.0954 530.122,-70.5067 536.6964,-61.5711\"/>\n<polygon fill=\"#000000\" stroke=\"#000000\" points=\"539.7126,-63.3775 542.8198,-53.2485 534.0743,-59.229 539.7126,-63.3775\"/>\n</g>\n</g>\n</svg>\n"
          },
          "metadata": {
            "tags": []
          },
          "execution_count": 10
        }
      ]
    },
    {
      "cell_type": "markdown",
      "metadata": {
        "id": "9WpiFTgxOXZR",
        "colab_type": "text"
      },
      "source": [
        "b Use o algoritmo C4.5, portanto adotando a métrica Razão de Ganho para seleção de\n",
        "atributos, para construir, completamente, a árvore de decisão. Mostre o passo a passo o\n",
        "processo de construção da árvore, apresentando os cálculos com os valores (entropia,\n",
        "ganho de informação, razão de ganho), critério e justificativa de escolha para cada\n",
        "atributo candidato a ser raiz de árvore (e cada subárvore), em cada momento;\n"
      ]
    },
    {
      "cell_type": "markdown",
      "metadata": {
        "id": "IhaHPCPmlqri",
        "colab_type": "text"
      },
      "source": [
        "\n",
        "No algoritmo ID3, calculamos ganhos para cada atributo. Aqui, precisamos calcular as taxas de ganho em vez de ganhos.\n",
        "\n",
        "taxaDeGanho (A) = Ganho (A) / SplitInfo (A)\n",
        "\n",
        "SplitInfo (A) = -∑ | Dj | / | D | x log2 | Dj | / | D |\n",
        "\n",
        "Daí aplica-se em todos os atributos da árvore e pega a maior taxa e constroi de forma sequencial com as inferências. "
      ]
    },
    {
      "cell_type": "code",
      "metadata": {
        "colab_type": "code",
        "id": "wfuTAJJYfJhy",
        "colab": {}
      },
      "source": [
        "# Fitting the model\n",
        "from sklearn import tree\n",
        "\n",
        "# Deixar sem parametro por default temos uma classificação pelo C4.5\n",
        "clf = tree.DecisionTreeClassifier()\n",
        "clf = clf.fit(X, y)"
      ],
      "execution_count": 11,
      "outputs": []
    },
    {
      "cell_type": "code",
      "metadata": {
        "colab_type": "code",
        "id": "8GGfKdV1fJh_",
        "colab": {}
      },
      "source": [
        "# Fitting the model\n",
        "clf2 = tree.DecisionTreeClassifier()\n",
        "clf2 = clf.fit(X, y)"
      ],
      "execution_count": 12,
      "outputs": []
    },
    {
      "cell_type": "code",
      "metadata": {
        "id": "cdIEOUMmfFVl",
        "colab_type": "code",
        "colab": {
          "base_uri": "https://localhost:8080/",
          "height": 657
        },
        "outputId": "1891754e-583b-4611-ee0c-01243947c625"
      },
      "source": [
        "dot_data2 = tree.export_graphviz(clf2, out_file=None) \n",
        "graph1 = graphviz.Source(dot_data2) \n",
        "graph1"
      ],
      "execution_count": 13,
      "outputs": [
        {
          "output_type": "execute_result",
          "data": {
            "text/plain": [
              "<graphviz.files.Source at 0x7f00acd29c88>"
            ],
            "image/svg+xml": "<?xml version=\"1.0\" encoding=\"UTF-8\" standalone=\"no\"?>\n<!DOCTYPE svg PUBLIC \"-//W3C//DTD SVG 1.1//EN\"\n \"http://www.w3.org/Graphics/SVG/1.1/DTD/svg11.dtd\">\n<!-- Generated by graphviz version 2.40.1 (20161225.0304)\n -->\n<!-- Title: Tree Pages: 1 -->\n<svg width=\"687pt\" height=\"477pt\"\n viewBox=\"0.00 0.00 687.00 477.00\" xmlns=\"http://www.w3.org/2000/svg\" xmlns:xlink=\"http://www.w3.org/1999/xlink\">\n<g id=\"graph0\" class=\"graph\" transform=\"scale(1 1) rotate(0) translate(4 473)\">\n<title>Tree</title>\n<polygon fill=\"#ffffff\" stroke=\"transparent\" points=\"-4,4 -4,-473 683,-473 683,4 -4,4\"/>\n<!-- 0 -->\n<g id=\"node1\" class=\"node\">\n<title>0</title>\n<polygon fill=\"none\" stroke=\"#000000\" points=\"428,-469 303,-469 303,-401 428,-401 428,-469\"/>\n<text text-anchor=\"middle\" x=\"365.5\" y=\"-453.8\" font-family=\"Times,serif\" font-size=\"14.00\" fill=\"#000000\">X[3] &lt;= 0.5</text>\n<text text-anchor=\"middle\" x=\"365.5\" y=\"-438.8\" font-family=\"Times,serif\" font-size=\"14.00\" fill=\"#000000\">gini = 0.684</text>\n<text text-anchor=\"middle\" x=\"365.5\" y=\"-423.8\" font-family=\"Times,serif\" font-size=\"14.00\" fill=\"#000000\">samples = 14</text>\n<text text-anchor=\"middle\" x=\"365.5\" y=\"-408.8\" font-family=\"Times,serif\" font-size=\"14.00\" fill=\"#000000\">value = [6, 4, 3, 1]</text>\n</g>\n<!-- 1 -->\n<g id=\"node2\" class=\"node\">\n<title>1</title>\n<polygon fill=\"none\" stroke=\"#000000\" points=\"357,-365 232,-365 232,-297 357,-297 357,-365\"/>\n<text text-anchor=\"middle\" x=\"294.5\" y=\"-349.8\" font-family=\"Times,serif\" font-size=\"14.00\" fill=\"#000000\">X[0] &lt;= 1.5</text>\n<text text-anchor=\"middle\" x=\"294.5\" y=\"-334.8\" font-family=\"Times,serif\" font-size=\"14.00\" fill=\"#000000\">gini = 0.5</text>\n<text text-anchor=\"middle\" x=\"294.5\" y=\"-319.8\" font-family=\"Times,serif\" font-size=\"14.00\" fill=\"#000000\">samples = 6</text>\n<text text-anchor=\"middle\" x=\"294.5\" y=\"-304.8\" font-family=\"Times,serif\" font-size=\"14.00\" fill=\"#000000\">value = [0, 4, 1, 1]</text>\n</g>\n<!-- 0&#45;&gt;1 -->\n<g id=\"edge1\" class=\"edge\">\n<title>0&#45;&gt;1</title>\n<path fill=\"none\" stroke=\"#000000\" d=\"M342.2519,-400.9465C336.245,-392.1475 329.7045,-382.5672 323.4457,-373.3993\"/>\n<polygon fill=\"#000000\" stroke=\"#000000\" points=\"326.3293,-371.4155 317.8003,-365.13 320.548,-375.3623 326.3293,-371.4155\"/>\n<text text-anchor=\"middle\" x=\"313.1676\" y=\"-385.997\" font-family=\"Times,serif\" font-size=\"14.00\" fill=\"#000000\">True</text>\n</g>\n<!-- 8 -->\n<g id=\"node9\" class=\"node\">\n<title>8</title>\n<polygon fill=\"none\" stroke=\"#000000\" points=\"500,-365 375,-365 375,-297 500,-297 500,-365\"/>\n<text text-anchor=\"middle\" x=\"437.5\" y=\"-349.8\" font-family=\"Times,serif\" font-size=\"14.00\" fill=\"#000000\">X[3] &lt;= 1.5</text>\n<text text-anchor=\"middle\" x=\"437.5\" y=\"-334.8\" font-family=\"Times,serif\" font-size=\"14.00\" fill=\"#000000\">gini = 0.375</text>\n<text text-anchor=\"middle\" x=\"437.5\" y=\"-319.8\" font-family=\"Times,serif\" font-size=\"14.00\" fill=\"#000000\">samples = 8</text>\n<text text-anchor=\"middle\" x=\"437.5\" y=\"-304.8\" font-family=\"Times,serif\" font-size=\"14.00\" fill=\"#000000\">value = [6, 0, 2, 0]</text>\n</g>\n<!-- 0&#45;&gt;8 -->\n<g id=\"edge8\" class=\"edge\">\n<title>0&#45;&gt;8</title>\n<path fill=\"none\" stroke=\"#000000\" d=\"M389.0755,-400.9465C395.1671,-392.1475 401.7996,-382.5672 408.1466,-373.3993\"/>\n<polygon fill=\"#000000\" stroke=\"#000000\" points=\"411.0571,-375.3442 413.8715,-365.13 405.3017,-371.3597 411.0571,-375.3442\"/>\n<text text-anchor=\"middle\" x=\"418.3437\" y=\"-386.0267\" font-family=\"Times,serif\" font-size=\"14.00\" fill=\"#000000\">False</text>\n</g>\n<!-- 2 -->\n<g id=\"node3\" class=\"node\">\n<title>2</title>\n<polygon fill=\"none\" stroke=\"#000000\" points=\"214,-261 89,-261 89,-193 214,-193 214,-261\"/>\n<text text-anchor=\"middle\" x=\"151.5\" y=\"-245.8\" font-family=\"Times,serif\" font-size=\"14.00\" fill=\"#000000\">X[1] &lt;= 0.5</text>\n<text text-anchor=\"middle\" x=\"151.5\" y=\"-230.8\" font-family=\"Times,serif\" font-size=\"14.00\" fill=\"#000000\">gini = 0.32</text>\n<text text-anchor=\"middle\" x=\"151.5\" y=\"-215.8\" font-family=\"Times,serif\" font-size=\"14.00\" fill=\"#000000\">samples = 5</text>\n<text text-anchor=\"middle\" x=\"151.5\" y=\"-200.8\" font-family=\"Times,serif\" font-size=\"14.00\" fill=\"#000000\">value = [0, 4, 0, 1]</text>\n</g>\n<!-- 1&#45;&gt;2 -->\n<g id=\"edge2\" class=\"edge\">\n<title>1&#45;&gt;2</title>\n<path fill=\"none\" stroke=\"#000000\" d=\"M247.6765,-296.9465C234.5902,-287.4293 220.247,-276.9978 206.7241,-267.163\"/>\n<polygon fill=\"#000000\" stroke=\"#000000\" points=\"208.5747,-264.1812 198.4287,-261.13 204.4575,-269.8423 208.5747,-264.1812\"/>\n</g>\n<!-- 7 -->\n<g id=\"node8\" class=\"node\">\n<title>7</title>\n<polygon fill=\"none\" stroke=\"#000000\" points=\"357,-253.5 232,-253.5 232,-200.5 357,-200.5 357,-253.5\"/>\n<text text-anchor=\"middle\" x=\"294.5\" y=\"-238.3\" font-family=\"Times,serif\" font-size=\"14.00\" fill=\"#000000\">gini = 0.0</text>\n<text text-anchor=\"middle\" x=\"294.5\" y=\"-223.3\" font-family=\"Times,serif\" font-size=\"14.00\" fill=\"#000000\">samples = 1</text>\n<text text-anchor=\"middle\" x=\"294.5\" y=\"-208.3\" font-family=\"Times,serif\" font-size=\"14.00\" fill=\"#000000\">value = [0, 0, 1, 0]</text>\n</g>\n<!-- 1&#45;&gt;7 -->\n<g id=\"edge7\" class=\"edge\">\n<title>1&#45;&gt;7</title>\n<path fill=\"none\" stroke=\"#000000\" d=\"M294.5,-296.9465C294.5,-286.2621 294.5,-274.4254 294.5,-263.5742\"/>\n<polygon fill=\"#000000\" stroke=\"#000000\" points=\"298.0001,-263.5421 294.5,-253.5422 291.0001,-263.5422 298.0001,-263.5421\"/>\n</g>\n<!-- 3 -->\n<g id=\"node4\" class=\"node\">\n<title>3</title>\n<polygon fill=\"none\" stroke=\"#000000\" points=\"143,-157 18,-157 18,-89 143,-89 143,-157\"/>\n<text text-anchor=\"middle\" x=\"80.5\" y=\"-141.8\" font-family=\"Times,serif\" font-size=\"14.00\" fill=\"#000000\">X[2] &lt;= 0.5</text>\n<text text-anchor=\"middle\" x=\"80.5\" y=\"-126.8\" font-family=\"Times,serif\" font-size=\"14.00\" fill=\"#000000\">gini = 0.5</text>\n<text text-anchor=\"middle\" x=\"80.5\" y=\"-111.8\" font-family=\"Times,serif\" font-size=\"14.00\" fill=\"#000000\">samples = 2</text>\n<text text-anchor=\"middle\" x=\"80.5\" y=\"-96.8\" font-family=\"Times,serif\" font-size=\"14.00\" fill=\"#000000\">value = [0, 1, 0, 1]</text>\n</g>\n<!-- 2&#45;&gt;3 -->\n<g id=\"edge3\" class=\"edge\">\n<title>2&#45;&gt;3</title>\n<path fill=\"none\" stroke=\"#000000\" d=\"M128.2519,-192.9465C122.245,-184.1475 115.7045,-174.5672 109.4457,-165.3993\"/>\n<polygon fill=\"#000000\" stroke=\"#000000\" points=\"112.3293,-163.4155 103.8003,-157.13 106.548,-167.3623 112.3293,-163.4155\"/>\n</g>\n<!-- 6 -->\n<g id=\"node7\" class=\"node\">\n<title>6</title>\n<polygon fill=\"none\" stroke=\"#000000\" points=\"286,-149.5 161,-149.5 161,-96.5 286,-96.5 286,-149.5\"/>\n<text text-anchor=\"middle\" x=\"223.5\" y=\"-134.3\" font-family=\"Times,serif\" font-size=\"14.00\" fill=\"#000000\">gini = 0.0</text>\n<text text-anchor=\"middle\" x=\"223.5\" y=\"-119.3\" font-family=\"Times,serif\" font-size=\"14.00\" fill=\"#000000\">samples = 3</text>\n<text text-anchor=\"middle\" x=\"223.5\" y=\"-104.3\" font-family=\"Times,serif\" font-size=\"14.00\" fill=\"#000000\">value = [0, 3, 0, 0]</text>\n</g>\n<!-- 2&#45;&gt;6 -->\n<g id=\"edge6\" class=\"edge\">\n<title>2&#45;&gt;6</title>\n<path fill=\"none\" stroke=\"#000000\" d=\"M175.0755,-192.9465C182.8537,-181.7113 191.5139,-169.2021 199.3355,-157.9043\"/>\n<polygon fill=\"#000000\" stroke=\"#000000\" points=\"202.3102,-159.7564 205.1247,-149.5422 196.5548,-155.7719 202.3102,-159.7564\"/>\n</g>\n<!-- 4 -->\n<g id=\"node5\" class=\"node\">\n<title>4</title>\n<polygon fill=\"none\" stroke=\"#000000\" points=\"125,-53 0,-53 0,0 125,0 125,-53\"/>\n<text text-anchor=\"middle\" x=\"62.5\" y=\"-37.8\" font-family=\"Times,serif\" font-size=\"14.00\" fill=\"#000000\">gini = 0.0</text>\n<text text-anchor=\"middle\" x=\"62.5\" y=\"-22.8\" font-family=\"Times,serif\" font-size=\"14.00\" fill=\"#000000\">samples = 1</text>\n<text text-anchor=\"middle\" x=\"62.5\" y=\"-7.8\" font-family=\"Times,serif\" font-size=\"14.00\" fill=\"#000000\">value = [0, 1, 0, 0]</text>\n</g>\n<!-- 3&#45;&gt;4 -->\n<g id=\"edge4\" class=\"edge\">\n<title>3&#45;&gt;4</title>\n<path fill=\"none\" stroke=\"#000000\" d=\"M74.1539,-88.9777C72.5996,-80.6449 70.9293,-71.6903 69.3524,-63.2364\"/>\n<polygon fill=\"#000000\" stroke=\"#000000\" points=\"72.7637,-62.4371 67.4894,-53.2485 65.8824,-63.7207 72.7637,-62.4371\"/>\n</g>\n<!-- 5 -->\n<g id=\"node6\" class=\"node\">\n<title>5</title>\n<polygon fill=\"none\" stroke=\"#000000\" points=\"268,-53 143,-53 143,0 268,0 268,-53\"/>\n<text text-anchor=\"middle\" x=\"205.5\" y=\"-37.8\" font-family=\"Times,serif\" font-size=\"14.00\" fill=\"#000000\">gini = 0.0</text>\n<text text-anchor=\"middle\" x=\"205.5\" y=\"-22.8\" font-family=\"Times,serif\" font-size=\"14.00\" fill=\"#000000\">samples = 1</text>\n<text text-anchor=\"middle\" x=\"205.5\" y=\"-7.8\" font-family=\"Times,serif\" font-size=\"14.00\" fill=\"#000000\">value = [0, 0, 0, 1]</text>\n</g>\n<!-- 3&#45;&gt;5 -->\n<g id=\"edge5\" class=\"edge\">\n<title>3&#45;&gt;5</title>\n<path fill=\"none\" stroke=\"#000000\" d=\"M124.5703,-88.9777C137.0248,-79.3629 150.5515,-68.9203 162.9167,-59.3743\"/>\n<polygon fill=\"#000000\" stroke=\"#000000\" points=\"165.0749,-62.1299 170.8517,-53.2485 160.7972,-56.5889 165.0749,-62.1299\"/>\n</g>\n<!-- 9 -->\n<g id=\"node10\" class=\"node\">\n<title>9</title>\n<polygon fill=\"none\" stroke=\"#000000\" points=\"500,-253.5 375,-253.5 375,-200.5 500,-200.5 500,-253.5\"/>\n<text text-anchor=\"middle\" x=\"437.5\" y=\"-238.3\" font-family=\"Times,serif\" font-size=\"14.00\" fill=\"#000000\">gini = 0.0</text>\n<text text-anchor=\"middle\" x=\"437.5\" y=\"-223.3\" font-family=\"Times,serif\" font-size=\"14.00\" fill=\"#000000\">samples = 4</text>\n<text text-anchor=\"middle\" x=\"437.5\" y=\"-208.3\" font-family=\"Times,serif\" font-size=\"14.00\" fill=\"#000000\">value = [4, 0, 0, 0]</text>\n</g>\n<!-- 8&#45;&gt;9 -->\n<g id=\"edge9\" class=\"edge\">\n<title>8&#45;&gt;9</title>\n<path fill=\"none\" stroke=\"#000000\" d=\"M437.5,-296.9465C437.5,-286.2621 437.5,-274.4254 437.5,-263.5742\"/>\n<polygon fill=\"#000000\" stroke=\"#000000\" points=\"441.0001,-263.5421 437.5,-253.5422 434.0001,-263.5422 441.0001,-263.5421\"/>\n</g>\n<!-- 10 -->\n<g id=\"node11\" class=\"node\">\n<title>10</title>\n<polygon fill=\"none\" stroke=\"#000000\" points=\"643,-261 518,-261 518,-193 643,-193 643,-261\"/>\n<text text-anchor=\"middle\" x=\"580.5\" y=\"-245.8\" font-family=\"Times,serif\" font-size=\"14.00\" fill=\"#000000\">X[1] &lt;= 0.5</text>\n<text text-anchor=\"middle\" x=\"580.5\" y=\"-230.8\" font-family=\"Times,serif\" font-size=\"14.00\" fill=\"#000000\">gini = 0.5</text>\n<text text-anchor=\"middle\" x=\"580.5\" y=\"-215.8\" font-family=\"Times,serif\" font-size=\"14.00\" fill=\"#000000\">samples = 4</text>\n<text text-anchor=\"middle\" x=\"580.5\" y=\"-200.8\" font-family=\"Times,serif\" font-size=\"14.00\" fill=\"#000000\">value = [2, 0, 2, 0]</text>\n</g>\n<!-- 8&#45;&gt;10 -->\n<g id=\"edge10\" class=\"edge\">\n<title>8&#45;&gt;10</title>\n<path fill=\"none\" stroke=\"#000000\" d=\"M484.3235,-296.9465C497.4098,-287.4293 511.753,-276.9978 525.2759,-267.163\"/>\n<polygon fill=\"#000000\" stroke=\"#000000\" points=\"527.5425,-269.8423 533.5713,-261.13 523.4253,-264.1812 527.5425,-269.8423\"/>\n</g>\n<!-- 11 -->\n<g id=\"node12\" class=\"node\">\n<title>11</title>\n<polygon fill=\"none\" stroke=\"#000000\" points=\"536,-157 411,-157 411,-89 536,-89 536,-157\"/>\n<text text-anchor=\"middle\" x=\"473.5\" y=\"-141.8\" font-family=\"Times,serif\" font-size=\"14.00\" fill=\"#000000\">X[0] &lt;= 0.5</text>\n<text text-anchor=\"middle\" x=\"473.5\" y=\"-126.8\" font-family=\"Times,serif\" font-size=\"14.00\" fill=\"#000000\">gini = 0.444</text>\n<text text-anchor=\"middle\" x=\"473.5\" y=\"-111.8\" font-family=\"Times,serif\" font-size=\"14.00\" fill=\"#000000\">samples = 3</text>\n<text text-anchor=\"middle\" x=\"473.5\" y=\"-96.8\" font-family=\"Times,serif\" font-size=\"14.00\" fill=\"#000000\">value = [2, 0, 1, 0]</text>\n</g>\n<!-- 10&#45;&gt;11 -->\n<g id=\"edge11\" class=\"edge\">\n<title>10&#45;&gt;11</title>\n<path fill=\"none\" stroke=\"#000000\" d=\"M545.4642,-192.9465C536.0419,-183.7884 525.7487,-173.7838 515.9696,-164.2788\"/>\n<polygon fill=\"#000000\" stroke=\"#000000\" points=\"518.2249,-161.59 508.6145,-157.13 513.346,-166.6097 518.2249,-161.59\"/>\n</g>\n<!-- 14 -->\n<g id=\"node15\" class=\"node\">\n<title>14</title>\n<polygon fill=\"none\" stroke=\"#000000\" points=\"679,-149.5 554,-149.5 554,-96.5 679,-96.5 679,-149.5\"/>\n<text text-anchor=\"middle\" x=\"616.5\" y=\"-134.3\" font-family=\"Times,serif\" font-size=\"14.00\" fill=\"#000000\">gini = 0.0</text>\n<text text-anchor=\"middle\" x=\"616.5\" y=\"-119.3\" font-family=\"Times,serif\" font-size=\"14.00\" fill=\"#000000\">samples = 1</text>\n<text text-anchor=\"middle\" x=\"616.5\" y=\"-104.3\" font-family=\"Times,serif\" font-size=\"14.00\" fill=\"#000000\">value = [0, 0, 1, 0]</text>\n</g>\n<!-- 10&#45;&gt;14 -->\n<g id=\"edge14\" class=\"edge\">\n<title>10&#45;&gt;14</title>\n<path fill=\"none\" stroke=\"#000000\" d=\"M592.2877,-192.9465C596.0243,-182.1519 600.168,-170.1813 603.9558,-159.2389\"/>\n<polygon fill=\"#000000\" stroke=\"#000000\" points=\"607.3486,-160.1369 607.3123,-149.5422 600.7337,-157.8471 607.3486,-160.1369\"/>\n</g>\n<!-- 12 -->\n<g id=\"node13\" class=\"node\">\n<title>12</title>\n<polygon fill=\"none\" stroke=\"#000000\" points=\"473,-53 348,-53 348,0 473,0 473,-53\"/>\n<text text-anchor=\"middle\" x=\"410.5\" y=\"-37.8\" font-family=\"Times,serif\" font-size=\"14.00\" fill=\"#000000\">gini = 0.0</text>\n<text text-anchor=\"middle\" x=\"410.5\" y=\"-22.8\" font-family=\"Times,serif\" font-size=\"14.00\" fill=\"#000000\">samples = 1</text>\n<text text-anchor=\"middle\" x=\"410.5\" y=\"-7.8\" font-family=\"Times,serif\" font-size=\"14.00\" fill=\"#000000\">value = [0, 0, 1, 0]</text>\n</g>\n<!-- 11&#45;&gt;12 -->\n<g id=\"edge12\" class=\"edge\">\n<title>11&#45;&gt;12</title>\n<path fill=\"none\" stroke=\"#000000\" d=\"M451.2886,-88.9777C445.5496,-80.187 439.3588,-70.7044 433.5767,-61.8477\"/>\n<polygon fill=\"#000000\" stroke=\"#000000\" points=\"436.3602,-59.7087 427.9627,-53.2485 430.4987,-63.5354 436.3602,-59.7087\"/>\n</g>\n<!-- 13 -->\n<g id=\"node14\" class=\"node\">\n<title>13</title>\n<polygon fill=\"none\" stroke=\"#000000\" points=\"616,-53 491,-53 491,0 616,0 616,-53\"/>\n<text text-anchor=\"middle\" x=\"553.5\" y=\"-37.8\" font-family=\"Times,serif\" font-size=\"14.00\" fill=\"#000000\">gini = 0.0</text>\n<text text-anchor=\"middle\" x=\"553.5\" y=\"-22.8\" font-family=\"Times,serif\" font-size=\"14.00\" fill=\"#000000\">samples = 2</text>\n<text text-anchor=\"middle\" x=\"553.5\" y=\"-7.8\" font-family=\"Times,serif\" font-size=\"14.00\" fill=\"#000000\">value = [2, 0, 0, 0]</text>\n</g>\n<!-- 11&#45;&gt;13 -->\n<g id=\"edge13\" class=\"edge\">\n<title>11&#45;&gt;13</title>\n<path fill=\"none\" stroke=\"#000000\" d=\"M501.705,-88.9777C509.2204,-79.9123 517.3458,-70.111 524.883,-61.0192\"/>\n<polygon fill=\"#000000\" stroke=\"#000000\" points=\"527.6374,-63.1808 531.3251,-53.2485 522.2484,-58.7133 527.6374,-63.1808\"/>\n</g>\n</g>\n</svg>\n"
          },
          "metadata": {
            "tags": []
          },
          "execution_count": 13
        }
      ]
    },
    {
      "cell_type": "markdown",
      "metadata": {
        "id": "7f0fPN1xOZyC",
        "colab_type": "text"
      },
      "source": [
        "\n",
        "c Discuta os resultados obtidos em a e b, comparando-os;\n",
        "\n"
      ]
    },
    {
      "cell_type": "markdown",
      "metadata": {
        "id": "iHxoF_w3JlsG",
        "colab_type": "text"
      },
      "source": [
        "Basicamente todos os problemas resolvíveis com o ID3 podem ser resolvidos com o C4.5, a diferença formal entre eles é que ao invez de ganho como usa o ID3 ele (o C4.5) usa taxa de ganho , dessa forma evita o overfitting. No mais o tratamento de dados é feito da mesmo "
      ]
    },
    {
      "cell_type": "markdown",
      "metadata": {
        "id": "NSTUANSuObuC",
        "colab_type": "text"
      },
      "source": [
        "d Rode, em alguma biblioteca de AM de sua preferência, os algoritmos de AD para a e\n",
        "b, comparando as soluções obtidas com as que você desenvolveu manualmente;\n"
      ]
    },
    {
      "cell_type": "code",
      "metadata": {
        "id": "gSa5-aeYO0Rg",
        "colab_type": "code",
        "colab": {}
      },
      "source": [
        ""
      ],
      "execution_count": null,
      "outputs": []
    },
    {
      "cell_type": "markdown",
      "metadata": {
        "id": "steNh7jOOkVi",
        "colab_type": "text"
      },
      "source": [
        "e Na AD a ser obtida pela aplicação do algoritmo ID3, tal como no item a desta questão,\n",
        "dos 4 atributos do CT, um deles não vai aparecer nela, ficando apenas 3 na AD\n",
        "construída. Assim: informe qual foi o atributo e justifique o porquê disso ter acontecido."
      ]
    },
    {
      "cell_type": "markdown",
      "metadata": {
        "id": "JpRM40vLFfbi",
        "colab_type": "text"
      },
      "source": [
        "R: Temperature, pois qual fosse a variável AD achou um padrão que era cumprida não levando a mesma em consideração."
      ]
    },
    {
      "cell_type": "markdown",
      "metadata": {
        "id": "ioN6NkfuuAqs",
        "colab_type": "text"
      },
      "source": [
        "2) Considere o conjunto de treinamento, tendo 4 atributos e mais o atributo classificador PlayTennis, expresso na tabela a seguir, respondendo às seguintes questões: \n",
        "\n",
        "a) Construa manualmente, completamente, uma árvore de decisão, considerando o atributo Wind como raiz da árvore principal e para as demais árvores (sub-árvores) escolha a raiz por um critério de sorteio; \n",
        "\n"
      ]
    },
    {
      "cell_type": "markdown",
      "metadata": {
        "id": "kubcFZeYpDeZ",
        "colab_type": "text"
      },
      "source": [
        "1- Calculando a entropia dos dados:\n",
        "\n",
        "Temos 14 instâncias totais: 9 instâncias de SIM 5 instâncias de NÃO. Com as contagens de frequência de cada classe única, podemos calcular a entropia anterior desse conjunto de dados em que:\n",
        "\n",
        "p = número de instâncias positivas (por exemplo, número de instâncias de tênis)\n",
        "\n",
        "n = número de instâncias negativas (por exemplo, número de pessoas que não jogam tênis)\n",
        "\n",
        "= -[(p/(p+n))log2(p/(p+n)) + (n/(p+n))log2(n/(p+n))]\n",
        "\n",
        "= -(p/(p+n))log2(p/(p+n)) + -(n/(p+n))log2(n/(p+n))\n",
        "\n",
        "= -(9/(9+5))log2(9/(9+5)) + -(5/(9+5))log2(5/(9+5))\n",
        "\n",
        "= -(9/(9+5))log2(9/(9+5)) + -(5/(9+5))log2(5/(9+5))\n",
        "\n",
        "= 0.9403\n",
        "\n",
        "2- Calculando o ganho de informação em cada atributo:\n",
        "\n",
        "= (5/14)Isunny(p,n) + (4/14)Iovercast(p,n) + (5/14)*Irainy(p,n)\n",
        "\n",
        "Isunny(p,n)\n",
        "\n",
        "= I(2,3)\n",
        "\n",
        "= -(p/(p+n))log2(p/(p+n)) + -(n/(p+n))log2(n/(p+n))\n",
        "\n",
        "= -(2/(2+3))log2(2/(2+3)) + -(3/(2+3))log2(3/(2+3))\n",
        "\n",
        "= 0.9710\n",
        "\n",
        "Iovercast(p,n)\n",
        "\n",
        "= I(4,0)\n",
        "\n",
        "= -(p/(p+n))log2(p/(p+n)) + -(n/(p+n))log2(n/(p+n))\n",
        "\n",
        "= -(4/(4+0))log2(4/(4+0)) + -(0/(4+0))log2(0/(4+0))\n",
        "\n",
        "= 0\n",
        "\n",
        "Irainy(p,n)\n",
        "\n",
        "= I(3,2)\n",
        "\n",
        "= -(p/(p+n))log2(p/(p+n)) + -(n/(p+n))log2(n/(p+n))\n",
        "\n",
        "= -(3/(3+2))log2(3/(3+2)) + -(2/(3+2))log2(2/(3+2))\n",
        "\n",
        "= 0.9710\n",
        "\n",
        "Calculando a entropia para o Outlook =\n",
        "\n",
        "= [Soma ponderada das pontuações de entropia de cada subconjunto de valor de atributo]\n",
        "\n",
        "= (5/14)Isunny(p,n) + (4/14)Iovercast(p,n) + (5/14)*Irainy(p,n)\n",
        "\n",
        "= (5/14) (0.9710) + (4/14) 0 + (5/14) * (0.9710)\n",
        "\n",
        "= 0.6936\n",
        "\n",
        "Daí a entropia resultante é dada por:\n",
        "\n",
        "= 0.9403 – 0.6936\n",
        "\n",
        "= 0.246\n",
        "\n",
        "Entropia para Temperature = 0.911\n",
        "\n",
        "Entropia para Humidity = 0.789\n",
        "\n",
        "Entropia para Wind = 0.892\n",
        "\n",
        "Ganho de informação para o atributo: Temperature = 0.9403 – 0.911 = 0.0293\n",
        "\n",
        "Ganho de informação para o atributo: Humidity = 0.9403 – 0.789 = 0.1513\n",
        "\n",
        "Ganho de informação para o atributo: Wind = 0.9403 – 0.892 = 0.0483\n",
        "\n",
        "3- calcular o atributo que obteve o máximo de informações:\n",
        "\n",
        "Fácil concluir que a raiz será por outlook\n",
        "\n",
        "4- Particionar o conjunto de dados com base nos valores do atributo que obteve o máximo de informações, assim:\n",
        "\n",
        "\n",
        "b) outlook -> Overcast -> Yes"
      ]
    },
    {
      "cell_type": "markdown",
      "metadata": {
        "id": "k872h8iYuL3u",
        "colab_type": "text"
      },
      "source": [
        "b) Discuta o resultado obtido em a), relativamente ao obtido com a AD construída seguindo o algoritmo ID3 sobre esse conjunto de treinamento; Obs.: Para a construção com ID3 considere a parte já feita em sala de aula, complementando- a nos níveis restantes, mostrando os respectivos cálculos. \n"
      ]
    },
    {
      "cell_type": "markdown",
      "metadata": {
        "id": "Riynmw96uNgQ",
        "colab_type": "text"
      },
      "source": [
        "c) Rode, em alguma biblioteca de AM de sua preferência, o algoritmo C4.5 sobre esse conjunto de treinamento, comparando a AD obtida com a obtida pelo algoritmos ID3."
      ]
    },
    {
      "cell_type": "code",
      "metadata": {
        "id": "DmbI3OjaNf0c",
        "colab_type": "code",
        "colab": {
          "base_uri": "https://localhost:8080/",
          "height": 204
        },
        "outputId": "85da2c74-d003-4169-eed4-20b6a1a6f6b9"
      },
      "source": [
        "import numpy as np\n",
        "import pandas as pd\n",
        "import matplotlib as plt\n",
        "from math import log\n",
        "\n",
        "url2 = 'https://raw.githubusercontent.com/Reis25/Testes_py/master/jogar_tenis.csv'\n",
        "\n",
        "data_frame = pd.read_csv(url2)\n",
        "\n",
        "data_frame.head()"
      ],
      "execution_count": 14,
      "outputs": [
        {
          "output_type": "execute_result",
          "data": {
            "text/html": [
              "<div>\n",
              "<style scoped>\n",
              "    .dataframe tbody tr th:only-of-type {\n",
              "        vertical-align: middle;\n",
              "    }\n",
              "\n",
              "    .dataframe tbody tr th {\n",
              "        vertical-align: top;\n",
              "    }\n",
              "\n",
              "    .dataframe thead th {\n",
              "        text-align: right;\n",
              "    }\n",
              "</style>\n",
              "<table border=\"1\" class=\"dataframe\">\n",
              "  <thead>\n",
              "    <tr style=\"text-align: right;\">\n",
              "      <th></th>\n",
              "      <th>Day</th>\n",
              "      <th>Outlook</th>\n",
              "      <th>Temperature</th>\n",
              "      <th>Humidity</th>\n",
              "      <th>Wind</th>\n",
              "      <th>PlayTenis</th>\n",
              "    </tr>\n",
              "  </thead>\n",
              "  <tbody>\n",
              "    <tr>\n",
              "      <th>0</th>\n",
              "      <td>D1</td>\n",
              "      <td>Sunny</td>\n",
              "      <td>Hot</td>\n",
              "      <td>High</td>\n",
              "      <td>Weak</td>\n",
              "      <td>No</td>\n",
              "    </tr>\n",
              "    <tr>\n",
              "      <th>1</th>\n",
              "      <td>D2</td>\n",
              "      <td>Sunny</td>\n",
              "      <td>Hot</td>\n",
              "      <td>High</td>\n",
              "      <td>Strong</td>\n",
              "      <td>No</td>\n",
              "    </tr>\n",
              "    <tr>\n",
              "      <th>2</th>\n",
              "      <td>D3</td>\n",
              "      <td>Overcast</td>\n",
              "      <td>Hot</td>\n",
              "      <td>High</td>\n",
              "      <td>Weak</td>\n",
              "      <td>Yes</td>\n",
              "    </tr>\n",
              "    <tr>\n",
              "      <th>3</th>\n",
              "      <td>D4</td>\n",
              "      <td>Rain</td>\n",
              "      <td>Mild</td>\n",
              "      <td>High</td>\n",
              "      <td>Weak</td>\n",
              "      <td>Yes</td>\n",
              "    </tr>\n",
              "    <tr>\n",
              "      <th>4</th>\n",
              "      <td>D5</td>\n",
              "      <td>Rain</td>\n",
              "      <td>Cool</td>\n",
              "      <td>Normal</td>\n",
              "      <td>Weak</td>\n",
              "      <td>Yes</td>\n",
              "    </tr>\n",
              "  </tbody>\n",
              "</table>\n",
              "</div>"
            ],
            "text/plain": [
              "  Day   Outlook Temperature Humidity    Wind PlayTenis\n",
              "0  D1     Sunny         Hot     High    Weak        No\n",
              "1  D2     Sunny         Hot     High  Strong        No\n",
              "2  D3  Overcast         Hot     High    Weak       Yes\n",
              "3  D4      Rain        Mild     High    Weak       Yes\n",
              "4  D5      Rain        Cool   Normal    Weak       Yes"
            ]
          },
          "metadata": {
            "tags": []
          },
          "execution_count": 14
        }
      ]
    },
    {
      "cell_type": "code",
      "metadata": {
        "id": "2M80wwEG3x3y",
        "colab_type": "code",
        "colab": {}
      },
      "source": [
        "from sklearn.preprocessing import LabelEncoder\n",
        "Le = LabelEncoder()\n",
        "\n",
        "data_frame['Outlook'] = Le.fit_transform(data_frame['Outlook'])\n",
        "data_frame['Temperature'] = Le.fit_transform(data_frame['Temperature'])\n",
        "data_frame['Humidity'] = Le.fit_transform(data_frame['Humidity'])\n",
        "data_frame['Wind'] = Le.fit_transform(data_frame['Wind'])\n",
        "data_frame['PlayTenis'] = Le.fit_transform(data_frame['PlayTenis'])"
      ],
      "execution_count": 15,
      "outputs": []
    },
    {
      "cell_type": "code",
      "metadata": {
        "id": "0QT9ld4xFhuG",
        "colab_type": "code",
        "colab": {}
      },
      "source": [
        "data_frame = data_frame.drop(['Day'], axis=1)"
      ],
      "execution_count": 16,
      "outputs": []
    },
    {
      "cell_type": "code",
      "metadata": {
        "id": "j_BHU5HrEFA2",
        "colab_type": "code",
        "colab": {
          "base_uri": "https://localhost:8080/",
          "height": 204
        },
        "outputId": "28490a1c-250d-4d9b-c68f-e673ac737d79"
      },
      "source": [
        "data_frame.head()"
      ],
      "execution_count": 17,
      "outputs": [
        {
          "output_type": "execute_result",
          "data": {
            "text/html": [
              "<div>\n",
              "<style scoped>\n",
              "    .dataframe tbody tr th:only-of-type {\n",
              "        vertical-align: middle;\n",
              "    }\n",
              "\n",
              "    .dataframe tbody tr th {\n",
              "        vertical-align: top;\n",
              "    }\n",
              "\n",
              "    .dataframe thead th {\n",
              "        text-align: right;\n",
              "    }\n",
              "</style>\n",
              "<table border=\"1\" class=\"dataframe\">\n",
              "  <thead>\n",
              "    <tr style=\"text-align: right;\">\n",
              "      <th></th>\n",
              "      <th>Outlook</th>\n",
              "      <th>Temperature</th>\n",
              "      <th>Humidity</th>\n",
              "      <th>Wind</th>\n",
              "      <th>PlayTenis</th>\n",
              "    </tr>\n",
              "  </thead>\n",
              "  <tbody>\n",
              "    <tr>\n",
              "      <th>0</th>\n",
              "      <td>2</td>\n",
              "      <td>1</td>\n",
              "      <td>0</td>\n",
              "      <td>1</td>\n",
              "      <td>0</td>\n",
              "    </tr>\n",
              "    <tr>\n",
              "      <th>1</th>\n",
              "      <td>2</td>\n",
              "      <td>1</td>\n",
              "      <td>0</td>\n",
              "      <td>0</td>\n",
              "      <td>0</td>\n",
              "    </tr>\n",
              "    <tr>\n",
              "      <th>2</th>\n",
              "      <td>0</td>\n",
              "      <td>1</td>\n",
              "      <td>0</td>\n",
              "      <td>1</td>\n",
              "      <td>1</td>\n",
              "    </tr>\n",
              "    <tr>\n",
              "      <th>3</th>\n",
              "      <td>1</td>\n",
              "      <td>2</td>\n",
              "      <td>0</td>\n",
              "      <td>1</td>\n",
              "      <td>1</td>\n",
              "    </tr>\n",
              "    <tr>\n",
              "      <th>4</th>\n",
              "      <td>1</td>\n",
              "      <td>0</td>\n",
              "      <td>1</td>\n",
              "      <td>1</td>\n",
              "      <td>1</td>\n",
              "    </tr>\n",
              "  </tbody>\n",
              "</table>\n",
              "</div>"
            ],
            "text/plain": [
              "   Outlook  Temperature  Humidity  Wind  PlayTenis\n",
              "0        2            1         0     1          0\n",
              "1        2            1         0     0          0\n",
              "2        0            1         0     1          1\n",
              "3        1            2         0     1          1\n",
              "4        1            0         1     1          1"
            ]
          },
          "metadata": {
            "tags": []
          },
          "execution_count": 17
        }
      ]
    },
    {
      "cell_type": "code",
      "metadata": {
        "id": "gLUHlieCE9qT",
        "colab_type": "code",
        "colab": {}
      },
      "source": [
        "y = data_frame['PlayTenis']\n",
        "\n",
        "X = data_frame.drop(['PlayTenis'], axis=1)"
      ],
      "execution_count": 18,
      "outputs": []
    },
    {
      "cell_type": "code",
      "metadata": {
        "id": "FaZ3uDQwFRlT",
        "colab_type": "code",
        "colab": {
          "base_uri": "https://localhost:8080/",
          "height": 483
        },
        "outputId": "25e043d3-503b-43ab-a099-3ba56b8de9c6"
      },
      "source": [
        "X \n"
      ],
      "execution_count": 20,
      "outputs": [
        {
          "output_type": "execute_result",
          "data": {
            "text/html": [
              "<div>\n",
              "<style scoped>\n",
              "    .dataframe tbody tr th:only-of-type {\n",
              "        vertical-align: middle;\n",
              "    }\n",
              "\n",
              "    .dataframe tbody tr th {\n",
              "        vertical-align: top;\n",
              "    }\n",
              "\n",
              "    .dataframe thead th {\n",
              "        text-align: right;\n",
              "    }\n",
              "</style>\n",
              "<table border=\"1\" class=\"dataframe\">\n",
              "  <thead>\n",
              "    <tr style=\"text-align: right;\">\n",
              "      <th></th>\n",
              "      <th>Outlook</th>\n",
              "      <th>Temperature</th>\n",
              "      <th>Humidity</th>\n",
              "      <th>Wind</th>\n",
              "    </tr>\n",
              "  </thead>\n",
              "  <tbody>\n",
              "    <tr>\n",
              "      <th>0</th>\n",
              "      <td>2</td>\n",
              "      <td>1</td>\n",
              "      <td>0</td>\n",
              "      <td>1</td>\n",
              "    </tr>\n",
              "    <tr>\n",
              "      <th>1</th>\n",
              "      <td>2</td>\n",
              "      <td>1</td>\n",
              "      <td>0</td>\n",
              "      <td>0</td>\n",
              "    </tr>\n",
              "    <tr>\n",
              "      <th>2</th>\n",
              "      <td>0</td>\n",
              "      <td>1</td>\n",
              "      <td>0</td>\n",
              "      <td>1</td>\n",
              "    </tr>\n",
              "    <tr>\n",
              "      <th>3</th>\n",
              "      <td>1</td>\n",
              "      <td>2</td>\n",
              "      <td>0</td>\n",
              "      <td>1</td>\n",
              "    </tr>\n",
              "    <tr>\n",
              "      <th>4</th>\n",
              "      <td>1</td>\n",
              "      <td>0</td>\n",
              "      <td>1</td>\n",
              "      <td>1</td>\n",
              "    </tr>\n",
              "    <tr>\n",
              "      <th>5</th>\n",
              "      <td>1</td>\n",
              "      <td>0</td>\n",
              "      <td>1</td>\n",
              "      <td>0</td>\n",
              "    </tr>\n",
              "    <tr>\n",
              "      <th>6</th>\n",
              "      <td>0</td>\n",
              "      <td>0</td>\n",
              "      <td>1</td>\n",
              "      <td>0</td>\n",
              "    </tr>\n",
              "    <tr>\n",
              "      <th>7</th>\n",
              "      <td>2</td>\n",
              "      <td>2</td>\n",
              "      <td>0</td>\n",
              "      <td>1</td>\n",
              "    </tr>\n",
              "    <tr>\n",
              "      <th>8</th>\n",
              "      <td>2</td>\n",
              "      <td>0</td>\n",
              "      <td>1</td>\n",
              "      <td>1</td>\n",
              "    </tr>\n",
              "    <tr>\n",
              "      <th>9</th>\n",
              "      <td>1</td>\n",
              "      <td>2</td>\n",
              "      <td>1</td>\n",
              "      <td>1</td>\n",
              "    </tr>\n",
              "    <tr>\n",
              "      <th>10</th>\n",
              "      <td>2</td>\n",
              "      <td>2</td>\n",
              "      <td>1</td>\n",
              "      <td>0</td>\n",
              "    </tr>\n",
              "    <tr>\n",
              "      <th>11</th>\n",
              "      <td>0</td>\n",
              "      <td>2</td>\n",
              "      <td>0</td>\n",
              "      <td>0</td>\n",
              "    </tr>\n",
              "    <tr>\n",
              "      <th>12</th>\n",
              "      <td>0</td>\n",
              "      <td>1</td>\n",
              "      <td>1</td>\n",
              "      <td>1</td>\n",
              "    </tr>\n",
              "    <tr>\n",
              "      <th>13</th>\n",
              "      <td>1</td>\n",
              "      <td>2</td>\n",
              "      <td>0</td>\n",
              "      <td>0</td>\n",
              "    </tr>\n",
              "  </tbody>\n",
              "</table>\n",
              "</div>"
            ],
            "text/plain": [
              "    Outlook  Temperature  Humidity  Wind\n",
              "0         2            1         0     1\n",
              "1         2            1         0     0\n",
              "2         0            1         0     1\n",
              "3         1            2         0     1\n",
              "4         1            0         1     1\n",
              "5         1            0         1     0\n",
              "6         0            0         1     0\n",
              "7         2            2         0     1\n",
              "8         2            0         1     1\n",
              "9         1            2         1     1\n",
              "10        2            2         1     0\n",
              "11        0            2         0     0\n",
              "12        0            1         1     1\n",
              "13        1            2         0     0"
            ]
          },
          "metadata": {
            "tags": []
          },
          "execution_count": 20
        }
      ]
    },
    {
      "cell_type": "code",
      "metadata": {
        "id": "EF4avloHGqou",
        "colab_type": "code",
        "colab": {
          "base_uri": "https://localhost:8080/",
          "height": 272
        },
        "outputId": "14f38a07-6477-4af1-f3e5-38e408386d99"
      },
      "source": [
        "y"
      ],
      "execution_count": 21,
      "outputs": [
        {
          "output_type": "execute_result",
          "data": {
            "text/plain": [
              "0     0\n",
              "1     0\n",
              "2     1\n",
              "3     1\n",
              "4     1\n",
              "5     0\n",
              "6     1\n",
              "7     0\n",
              "8     1\n",
              "9     1\n",
              "10    1\n",
              "11    1\n",
              "12    1\n",
              "13    0\n",
              "Name: PlayTenis, dtype: int64"
            ]
          },
          "metadata": {
            "tags": []
          },
          "execution_count": 21
        }
      ]
    },
    {
      "cell_type": "code",
      "metadata": {
        "id": "f3_SxQm8HEDU",
        "colab_type": "code",
        "colab": {}
      },
      "source": [
        "# Fitting the model\n",
        "from sklearn import tree\n",
        "clf = tree.DecisionTreeClassifier(criterion = 'entropy')\n",
        "clf = clf.fit(X, y)"
      ],
      "execution_count": 22,
      "outputs": []
    },
    {
      "cell_type": "code",
      "metadata": {
        "id": "dXltsj0sHVy7",
        "colab_type": "code",
        "colab": {
          "base_uri": "https://localhost:8080/",
          "height": 657
        },
        "outputId": "bd1540a8-7b8d-4dc1-efec-48db807138a5"
      },
      "source": [
        "import graphviz \n",
        "dot_data = tree.export_graphviz(clf, out_file=None) \n",
        "graph = graphviz.Source(dot_data) \n",
        "graph"
      ],
      "execution_count": 24,
      "outputs": [
        {
          "output_type": "execute_result",
          "data": {
            "text/plain": [
              "<graphviz.files.Source at 0x7f00accfe400>"
            ],
            "image/svg+xml": "<?xml version=\"1.0\" encoding=\"UTF-8\" standalone=\"no\"?>\n<!DOCTYPE svg PUBLIC \"-//W3C//DTD SVG 1.1//EN\"\n \"http://www.w3.org/Graphics/SVG/1.1/DTD/svg11.dtd\">\n<!-- Generated by graphviz version 2.40.1 (20161225.0304)\n -->\n<!-- Title: Tree Pages: 1 -->\n<svg width=\"502pt\" height=\"477pt\"\n viewBox=\"0.00 0.00 502.00 477.00\" xmlns=\"http://www.w3.org/2000/svg\" xmlns:xlink=\"http://www.w3.org/1999/xlink\">\n<g id=\"graph0\" class=\"graph\" transform=\"scale(1 1) rotate(0) translate(4 473)\">\n<title>Tree</title>\n<polygon fill=\"#ffffff\" stroke=\"transparent\" points=\"-4,4 -4,-473 498,-473 498,4 -4,4\"/>\n<!-- 0 -->\n<g id=\"node1\" class=\"node\">\n<title>0</title>\n<polygon fill=\"none\" stroke=\"#000000\" points=\"268,-469 165,-469 165,-401 268,-401 268,-469\"/>\n<text text-anchor=\"middle\" x=\"216.5\" y=\"-453.8\" font-family=\"Times,serif\" font-size=\"14.00\" fill=\"#000000\">X[0] &lt;= 0.5</text>\n<text text-anchor=\"middle\" x=\"216.5\" y=\"-438.8\" font-family=\"Times,serif\" font-size=\"14.00\" fill=\"#000000\">entropy = 0.94</text>\n<text text-anchor=\"middle\" x=\"216.5\" y=\"-423.8\" font-family=\"Times,serif\" font-size=\"14.00\" fill=\"#000000\">samples = 14</text>\n<text text-anchor=\"middle\" x=\"216.5\" y=\"-408.8\" font-family=\"Times,serif\" font-size=\"14.00\" fill=\"#000000\">value = [5, 9]</text>\n</g>\n<!-- 1 -->\n<g id=\"node2\" class=\"node\">\n<title>1</title>\n<polygon fill=\"none\" stroke=\"#000000\" points=\"208,-357.5 113,-357.5 113,-304.5 208,-304.5 208,-357.5\"/>\n<text text-anchor=\"middle\" x=\"160.5\" y=\"-342.3\" font-family=\"Times,serif\" font-size=\"14.00\" fill=\"#000000\">entropy = 0.0</text>\n<text text-anchor=\"middle\" x=\"160.5\" y=\"-327.3\" font-family=\"Times,serif\" font-size=\"14.00\" fill=\"#000000\">samples = 4</text>\n<text text-anchor=\"middle\" x=\"160.5\" y=\"-312.3\" font-family=\"Times,serif\" font-size=\"14.00\" fill=\"#000000\">value = [0, 4]</text>\n</g>\n<!-- 0&#45;&gt;1 -->\n<g id=\"edge1\" class=\"edge\">\n<title>0&#45;&gt;1</title>\n<path fill=\"none\" stroke=\"#000000\" d=\"M198.1635,-400.9465C192.2324,-389.9316 185.6419,-377.6922 179.6532,-366.5703\"/>\n<polygon fill=\"#000000\" stroke=\"#000000\" points=\"182.6146,-364.6875 174.7919,-357.5422 176.4513,-368.0063 182.6146,-364.6875\"/>\n<text text-anchor=\"middle\" x=\"167.6082\" y=\"-377.7878\" font-family=\"Times,serif\" font-size=\"14.00\" fill=\"#000000\">True</text>\n</g>\n<!-- 2 -->\n<g id=\"node3\" class=\"node\">\n<title>2</title>\n<polygon fill=\"none\" stroke=\"#000000\" points=\"321,-365 226,-365 226,-297 321,-297 321,-365\"/>\n<text text-anchor=\"middle\" x=\"273.5\" y=\"-349.8\" font-family=\"Times,serif\" font-size=\"14.00\" fill=\"#000000\">X[2] &lt;= 0.5</text>\n<text text-anchor=\"middle\" x=\"273.5\" y=\"-334.8\" font-family=\"Times,serif\" font-size=\"14.00\" fill=\"#000000\">entropy = 1.0</text>\n<text text-anchor=\"middle\" x=\"273.5\" y=\"-319.8\" font-family=\"Times,serif\" font-size=\"14.00\" fill=\"#000000\">samples = 10</text>\n<text text-anchor=\"middle\" x=\"273.5\" y=\"-304.8\" font-family=\"Times,serif\" font-size=\"14.00\" fill=\"#000000\">value = [5, 5]</text>\n</g>\n<!-- 0&#45;&gt;2 -->\n<g id=\"edge2\" class=\"edge\">\n<title>0&#45;&gt;2</title>\n<path fill=\"none\" stroke=\"#000000\" d=\"M235.1639,-400.9465C239.888,-392.3271 245.0231,-382.9579 249.954,-373.9611\"/>\n<polygon fill=\"#000000\" stroke=\"#000000\" points=\"253.0571,-375.5815 254.7941,-365.13 246.9186,-372.2171 253.0571,-375.5815\"/>\n<text text-anchor=\"middle\" x=\"261.7999\" y=\"-385.4283\" font-family=\"Times,serif\" font-size=\"14.00\" fill=\"#000000\">False</text>\n</g>\n<!-- 3 -->\n<g id=\"node4\" class=\"node\">\n<title>3</title>\n<polygon fill=\"none\" stroke=\"#000000\" points=\"264.5,-261 154.5,-261 154.5,-193 264.5,-193 264.5,-261\"/>\n<text text-anchor=\"middle\" x=\"209.5\" y=\"-245.8\" font-family=\"Times,serif\" font-size=\"14.00\" fill=\"#000000\">X[0] &lt;= 1.5</text>\n<text text-anchor=\"middle\" x=\"209.5\" y=\"-230.8\" font-family=\"Times,serif\" font-size=\"14.00\" fill=\"#000000\">entropy = 0.722</text>\n<text text-anchor=\"middle\" x=\"209.5\" y=\"-215.8\" font-family=\"Times,serif\" font-size=\"14.00\" fill=\"#000000\">samples = 5</text>\n<text text-anchor=\"middle\" x=\"209.5\" y=\"-200.8\" font-family=\"Times,serif\" font-size=\"14.00\" fill=\"#000000\">value = [4, 1]</text>\n</g>\n<!-- 2&#45;&gt;3 -->\n<g id=\"edge3\" class=\"edge\">\n<title>2&#45;&gt;3</title>\n<path fill=\"none\" stroke=\"#000000\" d=\"M252.544,-296.9465C247.1845,-288.2373 241.3539,-278.7626 235.7647,-269.6801\"/>\n<polygon fill=\"#000000\" stroke=\"#000000\" points=\"238.7249,-267.8122 230.5031,-261.13 232.7633,-271.481 238.7249,-267.8122\"/>\n</g>\n<!-- 8 -->\n<g id=\"node9\" class=\"node\">\n<title>8</title>\n<polygon fill=\"none\" stroke=\"#000000\" points=\"392.5,-261 282.5,-261 282.5,-193 392.5,-193 392.5,-261\"/>\n<text text-anchor=\"middle\" x=\"337.5\" y=\"-245.8\" font-family=\"Times,serif\" font-size=\"14.00\" fill=\"#000000\">X[3] &lt;= 0.5</text>\n<text text-anchor=\"middle\" x=\"337.5\" y=\"-230.8\" font-family=\"Times,serif\" font-size=\"14.00\" fill=\"#000000\">entropy = 0.722</text>\n<text text-anchor=\"middle\" x=\"337.5\" y=\"-215.8\" font-family=\"Times,serif\" font-size=\"14.00\" fill=\"#000000\">samples = 5</text>\n<text text-anchor=\"middle\" x=\"337.5\" y=\"-200.8\" font-family=\"Times,serif\" font-size=\"14.00\" fill=\"#000000\">value = [1, 4]</text>\n</g>\n<!-- 2&#45;&gt;8 -->\n<g id=\"edge8\" class=\"edge\">\n<title>2&#45;&gt;8</title>\n<path fill=\"none\" stroke=\"#000000\" d=\"M294.456,-296.9465C299.8155,-288.2373 305.6461,-278.7626 311.2353,-269.6801\"/>\n<polygon fill=\"#000000\" stroke=\"#000000\" points=\"314.2367,-271.481 316.4969,-261.13 308.2751,-267.8122 314.2367,-271.481\"/>\n</g>\n<!-- 4 -->\n<g id=\"node5\" class=\"node\">\n<title>4</title>\n<polygon fill=\"none\" stroke=\"#000000\" points=\"148,-157 53,-157 53,-89 148,-89 148,-157\"/>\n<text text-anchor=\"middle\" x=\"100.5\" y=\"-141.8\" font-family=\"Times,serif\" font-size=\"14.00\" fill=\"#000000\">X[3] &lt;= 0.5</text>\n<text text-anchor=\"middle\" x=\"100.5\" y=\"-126.8\" font-family=\"Times,serif\" font-size=\"14.00\" fill=\"#000000\">entropy = 1.0</text>\n<text text-anchor=\"middle\" x=\"100.5\" y=\"-111.8\" font-family=\"Times,serif\" font-size=\"14.00\" fill=\"#000000\">samples = 2</text>\n<text text-anchor=\"middle\" x=\"100.5\" y=\"-96.8\" font-family=\"Times,serif\" font-size=\"14.00\" fill=\"#000000\">value = [1, 1]</text>\n</g>\n<!-- 3&#45;&gt;4 -->\n<g id=\"edge4\" class=\"edge\">\n<title>3&#45;&gt;4</title>\n<path fill=\"none\" stroke=\"#000000\" d=\"M173.8093,-192.9465C164.2109,-183.7884 153.7253,-173.7838 143.7634,-164.2788\"/>\n<polygon fill=\"#000000\" stroke=\"#000000\" points=\"145.9221,-161.5009 136.2709,-157.13 141.0898,-166.5655 145.9221,-161.5009\"/>\n</g>\n<!-- 7 -->\n<g id=\"node8\" class=\"node\">\n<title>7</title>\n<polygon fill=\"none\" stroke=\"#000000\" points=\"261,-149.5 166,-149.5 166,-96.5 261,-96.5 261,-149.5\"/>\n<text text-anchor=\"middle\" x=\"213.5\" y=\"-134.3\" font-family=\"Times,serif\" font-size=\"14.00\" fill=\"#000000\">entropy = 0.0</text>\n<text text-anchor=\"middle\" x=\"213.5\" y=\"-119.3\" font-family=\"Times,serif\" font-size=\"14.00\" fill=\"#000000\">samples = 3</text>\n<text text-anchor=\"middle\" x=\"213.5\" y=\"-104.3\" font-family=\"Times,serif\" font-size=\"14.00\" fill=\"#000000\">value = [3, 0]</text>\n</g>\n<!-- 3&#45;&gt;7 -->\n<g id=\"edge7\" class=\"edge\">\n<title>3&#45;&gt;7</title>\n<path fill=\"none\" stroke=\"#000000\" d=\"M210.8097,-192.9465C211.2207,-182.2621 211.6759,-170.4254 212.0933,-159.5742\"/>\n<polygon fill=\"#000000\" stroke=\"#000000\" points=\"215.5921,-159.6693 212.4791,-149.5422 208.5973,-159.4002 215.5921,-159.6693\"/>\n</g>\n<!-- 5 -->\n<g id=\"node6\" class=\"node\">\n<title>5</title>\n<polygon fill=\"none\" stroke=\"#000000\" points=\"95,-53 0,-53 0,0 95,0 95,-53\"/>\n<text text-anchor=\"middle\" x=\"47.5\" y=\"-37.8\" font-family=\"Times,serif\" font-size=\"14.00\" fill=\"#000000\">entropy = 0.0</text>\n<text text-anchor=\"middle\" x=\"47.5\" y=\"-22.8\" font-family=\"Times,serif\" font-size=\"14.00\" fill=\"#000000\">samples = 1</text>\n<text text-anchor=\"middle\" x=\"47.5\" y=\"-7.8\" font-family=\"Times,serif\" font-size=\"14.00\" fill=\"#000000\">value = [1, 0]</text>\n</g>\n<!-- 4&#45;&gt;5 -->\n<g id=\"edge5\" class=\"edge\">\n<title>4&#45;&gt;5</title>\n<path fill=\"none\" stroke=\"#000000\" d=\"M81.8142,-88.9777C77.0364,-80.2786 71.8865,-70.9018 67.0659,-62.1247\"/>\n<polygon fill=\"#000000\" stroke=\"#000000\" points=\"70.0726,-60.3286 62.1909,-53.2485 63.9371,-63.6984 70.0726,-60.3286\"/>\n</g>\n<!-- 6 -->\n<g id=\"node7\" class=\"node\">\n<title>6</title>\n<polygon fill=\"none\" stroke=\"#000000\" points=\"208,-53 113,-53 113,0 208,0 208,-53\"/>\n<text text-anchor=\"middle\" x=\"160.5\" y=\"-37.8\" font-family=\"Times,serif\" font-size=\"14.00\" fill=\"#000000\">entropy = 0.0</text>\n<text text-anchor=\"middle\" x=\"160.5\" y=\"-22.8\" font-family=\"Times,serif\" font-size=\"14.00\" fill=\"#000000\">samples = 1</text>\n<text text-anchor=\"middle\" x=\"160.5\" y=\"-7.8\" font-family=\"Times,serif\" font-size=\"14.00\" fill=\"#000000\">value = [0, 1]</text>\n</g>\n<!-- 4&#45;&gt;6 -->\n<g id=\"edge6\" class=\"edge\">\n<title>4&#45;&gt;6</title>\n<path fill=\"none\" stroke=\"#000000\" d=\"M121.6538,-88.9777C127.1195,-80.187 133.0154,-70.7044 138.5222,-61.8477\"/>\n<polygon fill=\"#000000\" stroke=\"#000000\" points=\"141.5609,-63.5889 143.8688,-53.2485 135.6163,-59.8927 141.5609,-63.5889\"/>\n</g>\n<!-- 9 -->\n<g id=\"node10\" class=\"node\">\n<title>9</title>\n<polygon fill=\"none\" stroke=\"#000000\" points=\"381,-157 286,-157 286,-89 381,-89 381,-157\"/>\n<text text-anchor=\"middle\" x=\"333.5\" y=\"-141.8\" font-family=\"Times,serif\" font-size=\"14.00\" fill=\"#000000\">X[1] &lt;= 1.0</text>\n<text text-anchor=\"middle\" x=\"333.5\" y=\"-126.8\" font-family=\"Times,serif\" font-size=\"14.00\" fill=\"#000000\">entropy = 1.0</text>\n<text text-anchor=\"middle\" x=\"333.5\" y=\"-111.8\" font-family=\"Times,serif\" font-size=\"14.00\" fill=\"#000000\">samples = 2</text>\n<text text-anchor=\"middle\" x=\"333.5\" y=\"-96.8\" font-family=\"Times,serif\" font-size=\"14.00\" fill=\"#000000\">value = [1, 1]</text>\n</g>\n<!-- 8&#45;&gt;9 -->\n<g id=\"edge9\" class=\"edge\">\n<title>8&#45;&gt;9</title>\n<path fill=\"none\" stroke=\"#000000\" d=\"M336.1903,-192.9465C335.876,-184.776 335.5358,-175.9318 335.2065,-167.3697\"/>\n<polygon fill=\"#000000\" stroke=\"#000000\" points=\"338.6945,-166.9881 334.8127,-157.13 331.6997,-167.2572 338.6945,-166.9881\"/>\n</g>\n<!-- 12 -->\n<g id=\"node13\" class=\"node\">\n<title>12</title>\n<polygon fill=\"none\" stroke=\"#000000\" points=\"494,-149.5 399,-149.5 399,-96.5 494,-96.5 494,-149.5\"/>\n<text text-anchor=\"middle\" x=\"446.5\" y=\"-134.3\" font-family=\"Times,serif\" font-size=\"14.00\" fill=\"#000000\">entropy = 0.0</text>\n<text text-anchor=\"middle\" x=\"446.5\" y=\"-119.3\" font-family=\"Times,serif\" font-size=\"14.00\" fill=\"#000000\">samples = 3</text>\n<text text-anchor=\"middle\" x=\"446.5\" y=\"-104.3\" font-family=\"Times,serif\" font-size=\"14.00\" fill=\"#000000\">value = [0, 3]</text>\n</g>\n<!-- 8&#45;&gt;12 -->\n<g id=\"edge12\" class=\"edge\">\n<title>8&#45;&gt;12</title>\n<path fill=\"none\" stroke=\"#000000\" d=\"M373.1907,-192.9465C385.4278,-181.2707 399.107,-168.219 411.3046,-156.5809\"/>\n<polygon fill=\"#000000\" stroke=\"#000000\" points=\"413.8628,-158.9777 418.6818,-149.5422 409.0306,-153.9131 413.8628,-158.9777\"/>\n</g>\n<!-- 10 -->\n<g id=\"node11\" class=\"node\">\n<title>10</title>\n<polygon fill=\"none\" stroke=\"#000000\" points=\"351,-53 256,-53 256,0 351,0 351,-53\"/>\n<text text-anchor=\"middle\" x=\"303.5\" y=\"-37.8\" font-family=\"Times,serif\" font-size=\"14.00\" fill=\"#000000\">entropy = 0.0</text>\n<text text-anchor=\"middle\" x=\"303.5\" y=\"-22.8\" font-family=\"Times,serif\" font-size=\"14.00\" fill=\"#000000\">samples = 1</text>\n<text text-anchor=\"middle\" x=\"303.5\" y=\"-7.8\" font-family=\"Times,serif\" font-size=\"14.00\" fill=\"#000000\">value = [1, 0]</text>\n</g>\n<!-- 9&#45;&gt;10 -->\n<g id=\"edge10\" class=\"edge\">\n<title>9&#45;&gt;10</title>\n<path fill=\"none\" stroke=\"#000000\" d=\"M322.9231,-88.9777C320.3041,-80.5533 317.4876,-71.4934 314.8341,-62.9579\"/>\n<polygon fill=\"#000000\" stroke=\"#000000\" points=\"318.1265,-61.7586 311.8156,-53.2485 311.4421,-63.8367 318.1265,-61.7586\"/>\n</g>\n<!-- 11 -->\n<g id=\"node12\" class=\"node\">\n<title>11</title>\n<polygon fill=\"none\" stroke=\"#000000\" points=\"464,-53 369,-53 369,0 464,0 464,-53\"/>\n<text text-anchor=\"middle\" x=\"416.5\" y=\"-37.8\" font-family=\"Times,serif\" font-size=\"14.00\" fill=\"#000000\">entropy = 0.0</text>\n<text text-anchor=\"middle\" x=\"416.5\" y=\"-22.8\" font-family=\"Times,serif\" font-size=\"14.00\" fill=\"#000000\">samples = 1</text>\n<text text-anchor=\"middle\" x=\"416.5\" y=\"-7.8\" font-family=\"Times,serif\" font-size=\"14.00\" fill=\"#000000\">value = [0, 1]</text>\n</g>\n<!-- 9&#45;&gt;11 -->\n<g id=\"edge11\" class=\"edge\">\n<title>9&#45;&gt;11</title>\n<path fill=\"none\" stroke=\"#000000\" d=\"M362.7627,-88.9777C370.5599,-79.9123 378.99,-70.111 386.8099,-61.0192\"/>\n<polygon fill=\"#000000\" stroke=\"#000000\" points=\"389.6262,-63.1123 393.4935,-53.2485 384.3191,-58.5477 389.6262,-63.1123\"/>\n</g>\n</g>\n</svg>\n"
          },
          "metadata": {
            "tags": []
          },
          "execution_count": 24
        }
      ]
    },
    {
      "cell_type": "markdown",
      "metadata": {
        "id": "MWZXe0EAHq9I",
        "colab_type": "text"
      },
      "source": [
        "X[0] -> Outlook\n",
        "\n",
        "X[1] -> Temperature\n",
        "\n",
        "X[2] -> Humidity\n",
        "\n",
        "X[3] -> Wind"
      ]
    },
    {
      "cell_type": "code",
      "metadata": {
        "id": "lQzKTXjPLv3U",
        "colab_type": "code",
        "colab": {
          "base_uri": "https://localhost:8080/",
          "height": 657
        },
        "outputId": "4802b68d-678c-41b0-b0a5-c46f706cd335"
      },
      "source": [
        "# Fitting the model\n",
        "clf2 = tree.DecisionTreeClassifier()\n",
        "clf2 = clf2.fit(X, y)\n",
        "\n",
        "dot_data2 = tree.export_graphviz(clf2, out_file=None) \n",
        "graph1 = graphviz.Source(dot_data2) \n",
        "graph1"
      ],
      "execution_count": 27,
      "outputs": [
        {
          "output_type": "execute_result",
          "data": {
            "text/plain": [
              "<graphviz.files.Source at 0x7f00acc810f0>"
            ],
            "image/svg+xml": "<?xml version=\"1.0\" encoding=\"UTF-8\" standalone=\"no\"?>\n<!DOCTYPE svg PUBLIC \"-//W3C//DTD SVG 1.1//EN\"\n \"http://www.w3.org/Graphics/SVG/1.1/DTD/svg11.dtd\">\n<!-- Generated by graphviz version 2.40.1 (20161225.0304)\n -->\n<!-- Title: Tree Pages: 1 -->\n<svg width=\"498pt\" height=\"477pt\"\n viewBox=\"0.00 0.00 498.00 477.00\" xmlns=\"http://www.w3.org/2000/svg\" xmlns:xlink=\"http://www.w3.org/1999/xlink\">\n<g id=\"graph0\" class=\"graph\" transform=\"scale(1 1) rotate(0) translate(4 473)\">\n<title>Tree</title>\n<polygon fill=\"#ffffff\" stroke=\"transparent\" points=\"-4,4 -4,-473 494,-473 494,4 -4,4\"/>\n<!-- 0 -->\n<g id=\"node1\" class=\"node\">\n<title>0</title>\n<polygon fill=\"none\" stroke=\"#000000\" points=\"264,-469 169,-469 169,-401 264,-401 264,-469\"/>\n<text text-anchor=\"middle\" x=\"216.5\" y=\"-453.8\" font-family=\"Times,serif\" font-size=\"14.00\" fill=\"#000000\">X[0] &lt;= 0.5</text>\n<text text-anchor=\"middle\" x=\"216.5\" y=\"-438.8\" font-family=\"Times,serif\" font-size=\"14.00\" fill=\"#000000\">gini = 0.459</text>\n<text text-anchor=\"middle\" x=\"216.5\" y=\"-423.8\" font-family=\"Times,serif\" font-size=\"14.00\" fill=\"#000000\">samples = 14</text>\n<text text-anchor=\"middle\" x=\"216.5\" y=\"-408.8\" font-family=\"Times,serif\" font-size=\"14.00\" fill=\"#000000\">value = [5, 9]</text>\n</g>\n<!-- 1 -->\n<g id=\"node2\" class=\"node\">\n<title>1</title>\n<polygon fill=\"none\" stroke=\"#000000\" points=\"208,-357.5 113,-357.5 113,-304.5 208,-304.5 208,-357.5\"/>\n<text text-anchor=\"middle\" x=\"160.5\" y=\"-342.3\" font-family=\"Times,serif\" font-size=\"14.00\" fill=\"#000000\">gini = 0.0</text>\n<text text-anchor=\"middle\" x=\"160.5\" y=\"-327.3\" font-family=\"Times,serif\" font-size=\"14.00\" fill=\"#000000\">samples = 4</text>\n<text text-anchor=\"middle\" x=\"160.5\" y=\"-312.3\" font-family=\"Times,serif\" font-size=\"14.00\" fill=\"#000000\">value = [0, 4]</text>\n</g>\n<!-- 0&#45;&gt;1 -->\n<g id=\"edge1\" class=\"edge\">\n<title>0&#45;&gt;1</title>\n<path fill=\"none\" stroke=\"#000000\" d=\"M198.1635,-400.9465C192.2324,-389.9316 185.6419,-377.6922 179.6532,-366.5703\"/>\n<polygon fill=\"#000000\" stroke=\"#000000\" points=\"182.6146,-364.6875 174.7919,-357.5422 176.4513,-368.0063 182.6146,-364.6875\"/>\n<text text-anchor=\"middle\" x=\"167.6082\" y=\"-377.7878\" font-family=\"Times,serif\" font-size=\"14.00\" fill=\"#000000\">True</text>\n</g>\n<!-- 2 -->\n<g id=\"node3\" class=\"node\">\n<title>2</title>\n<polygon fill=\"none\" stroke=\"#000000\" points=\"321,-365 226,-365 226,-297 321,-297 321,-365\"/>\n<text text-anchor=\"middle\" x=\"273.5\" y=\"-349.8\" font-family=\"Times,serif\" font-size=\"14.00\" fill=\"#000000\">X[2] &lt;= 0.5</text>\n<text text-anchor=\"middle\" x=\"273.5\" y=\"-334.8\" font-family=\"Times,serif\" font-size=\"14.00\" fill=\"#000000\">gini = 0.5</text>\n<text text-anchor=\"middle\" x=\"273.5\" y=\"-319.8\" font-family=\"Times,serif\" font-size=\"14.00\" fill=\"#000000\">samples = 10</text>\n<text text-anchor=\"middle\" x=\"273.5\" y=\"-304.8\" font-family=\"Times,serif\" font-size=\"14.00\" fill=\"#000000\">value = [5, 5]</text>\n</g>\n<!-- 0&#45;&gt;2 -->\n<g id=\"edge2\" class=\"edge\">\n<title>0&#45;&gt;2</title>\n<path fill=\"none\" stroke=\"#000000\" d=\"M235.1639,-400.9465C239.888,-392.3271 245.0231,-382.9579 249.954,-373.9611\"/>\n<polygon fill=\"#000000\" stroke=\"#000000\" points=\"253.0571,-375.5815 254.7941,-365.13 246.9186,-372.2171 253.0571,-375.5815\"/>\n<text text-anchor=\"middle\" x=\"261.7999\" y=\"-385.4283\" font-family=\"Times,serif\" font-size=\"14.00\" fill=\"#000000\">False</text>\n</g>\n<!-- 3 -->\n<g id=\"node4\" class=\"node\">\n<title>3</title>\n<polygon fill=\"none\" stroke=\"#000000\" points=\"264,-261 169,-261 169,-193 264,-193 264,-261\"/>\n<text text-anchor=\"middle\" x=\"216.5\" y=\"-245.8\" font-family=\"Times,serif\" font-size=\"14.00\" fill=\"#000000\">X[0] &lt;= 1.5</text>\n<text text-anchor=\"middle\" x=\"216.5\" y=\"-230.8\" font-family=\"Times,serif\" font-size=\"14.00\" fill=\"#000000\">gini = 0.32</text>\n<text text-anchor=\"middle\" x=\"216.5\" y=\"-215.8\" font-family=\"Times,serif\" font-size=\"14.00\" fill=\"#000000\">samples = 5</text>\n<text text-anchor=\"middle\" x=\"216.5\" y=\"-200.8\" font-family=\"Times,serif\" font-size=\"14.00\" fill=\"#000000\">value = [4, 1]</text>\n</g>\n<!-- 2&#45;&gt;3 -->\n<g id=\"edge3\" class=\"edge\">\n<title>2&#45;&gt;3</title>\n<path fill=\"none\" stroke=\"#000000\" d=\"M254.8361,-296.9465C250.112,-288.3271 244.9769,-278.9579 240.046,-269.9611\"/>\n<polygon fill=\"#000000\" stroke=\"#000000\" points=\"243.0814,-268.2171 235.2059,-261.13 236.9429,-271.5815 243.0814,-268.2171\"/>\n</g>\n<!-- 8 -->\n<g id=\"node9\" class=\"node\">\n<title>8</title>\n<polygon fill=\"none\" stroke=\"#000000\" points=\"377,-261 282,-261 282,-193 377,-193 377,-261\"/>\n<text text-anchor=\"middle\" x=\"329.5\" y=\"-245.8\" font-family=\"Times,serif\" font-size=\"14.00\" fill=\"#000000\">X[3] &lt;= 0.5</text>\n<text text-anchor=\"middle\" x=\"329.5\" y=\"-230.8\" font-family=\"Times,serif\" font-size=\"14.00\" fill=\"#000000\">gini = 0.32</text>\n<text text-anchor=\"middle\" x=\"329.5\" y=\"-215.8\" font-family=\"Times,serif\" font-size=\"14.00\" fill=\"#000000\">samples = 5</text>\n<text text-anchor=\"middle\" x=\"329.5\" y=\"-200.8\" font-family=\"Times,serif\" font-size=\"14.00\" fill=\"#000000\">value = [1, 4]</text>\n</g>\n<!-- 2&#45;&gt;8 -->\n<g id=\"edge8\" class=\"edge\">\n<title>2&#45;&gt;8</title>\n<path fill=\"none\" stroke=\"#000000\" d=\"M291.8365,-296.9465C296.4777,-288.3271 301.5227,-278.9579 306.3671,-269.9611\"/>\n<polygon fill=\"#000000\" stroke=\"#000000\" points=\"309.4629,-271.5941 311.1223,-261.13 303.2996,-268.2754 309.4629,-271.5941\"/>\n</g>\n<!-- 4 -->\n<g id=\"node5\" class=\"node\">\n<title>4</title>\n<polygon fill=\"none\" stroke=\"#000000\" points=\"151,-157 56,-157 56,-89 151,-89 151,-157\"/>\n<text text-anchor=\"middle\" x=\"103.5\" y=\"-141.8\" font-family=\"Times,serif\" font-size=\"14.00\" fill=\"#000000\">X[3] &lt;= 0.5</text>\n<text text-anchor=\"middle\" x=\"103.5\" y=\"-126.8\" font-family=\"Times,serif\" font-size=\"14.00\" fill=\"#000000\">gini = 0.5</text>\n<text text-anchor=\"middle\" x=\"103.5\" y=\"-111.8\" font-family=\"Times,serif\" font-size=\"14.00\" fill=\"#000000\">samples = 2</text>\n<text text-anchor=\"middle\" x=\"103.5\" y=\"-96.8\" font-family=\"Times,serif\" font-size=\"14.00\" fill=\"#000000\">value = [1, 1]</text>\n</g>\n<!-- 3&#45;&gt;4 -->\n<g id=\"edge4\" class=\"edge\">\n<title>3&#45;&gt;4</title>\n<path fill=\"none\" stroke=\"#000000\" d=\"M179.4996,-192.9465C169.4514,-183.6986 158.4653,-173.5876 148.0474,-163.9994\"/>\n<polygon fill=\"#000000\" stroke=\"#000000\" points=\"150.3118,-161.3267 140.5836,-157.13 145.5714,-166.4773 150.3118,-161.3267\"/>\n</g>\n<!-- 7 -->\n<g id=\"node8\" class=\"node\">\n<title>7</title>\n<polygon fill=\"none\" stroke=\"#000000\" points=\"264,-149.5 169,-149.5 169,-96.5 264,-96.5 264,-149.5\"/>\n<text text-anchor=\"middle\" x=\"216.5\" y=\"-134.3\" font-family=\"Times,serif\" font-size=\"14.00\" fill=\"#000000\">gini = 0.0</text>\n<text text-anchor=\"middle\" x=\"216.5\" y=\"-119.3\" font-family=\"Times,serif\" font-size=\"14.00\" fill=\"#000000\">samples = 3</text>\n<text text-anchor=\"middle\" x=\"216.5\" y=\"-104.3\" font-family=\"Times,serif\" font-size=\"14.00\" fill=\"#000000\">value = [3, 0]</text>\n</g>\n<!-- 3&#45;&gt;7 -->\n<g id=\"edge7\" class=\"edge\">\n<title>3&#45;&gt;7</title>\n<path fill=\"none\" stroke=\"#000000\" d=\"M216.5,-192.9465C216.5,-182.2621 216.5,-170.4254 216.5,-159.5742\"/>\n<polygon fill=\"#000000\" stroke=\"#000000\" points=\"220.0001,-159.5421 216.5,-149.5422 213.0001,-159.5422 220.0001,-159.5421\"/>\n</g>\n<!-- 5 -->\n<g id=\"node6\" class=\"node\">\n<title>5</title>\n<polygon fill=\"none\" stroke=\"#000000\" points=\"95,-53 0,-53 0,0 95,0 95,-53\"/>\n<text text-anchor=\"middle\" x=\"47.5\" y=\"-37.8\" font-family=\"Times,serif\" font-size=\"14.00\" fill=\"#000000\">gini = 0.0</text>\n<text text-anchor=\"middle\" x=\"47.5\" y=\"-22.8\" font-family=\"Times,serif\" font-size=\"14.00\" fill=\"#000000\">samples = 1</text>\n<text text-anchor=\"middle\" x=\"47.5\" y=\"-7.8\" font-family=\"Times,serif\" font-size=\"14.00\" fill=\"#000000\">value = [1, 0]</text>\n</g>\n<!-- 4&#45;&gt;5 -->\n<g id=\"edge5\" class=\"edge\">\n<title>4&#45;&gt;5</title>\n<path fill=\"none\" stroke=\"#000000\" d=\"M83.7565,-88.9777C78.7083,-80.2786 73.2669,-70.9018 68.1734,-62.1247\"/>\n<polygon fill=\"#000000\" stroke=\"#000000\" points=\"71.0689,-60.1409 63.0224,-53.2485 65.0145,-63.6544 71.0689,-60.1409\"/>\n</g>\n<!-- 6 -->\n<g id=\"node7\" class=\"node\">\n<title>6</title>\n<polygon fill=\"none\" stroke=\"#000000\" points=\"208,-53 113,-53 113,0 208,0 208,-53\"/>\n<text text-anchor=\"middle\" x=\"160.5\" y=\"-37.8\" font-family=\"Times,serif\" font-size=\"14.00\" fill=\"#000000\">gini = 0.0</text>\n<text text-anchor=\"middle\" x=\"160.5\" y=\"-22.8\" font-family=\"Times,serif\" font-size=\"14.00\" fill=\"#000000\">samples = 1</text>\n<text text-anchor=\"middle\" x=\"160.5\" y=\"-7.8\" font-family=\"Times,serif\" font-size=\"14.00\" fill=\"#000000\">value = [0, 1]</text>\n</g>\n<!-- 4&#45;&gt;6 -->\n<g id=\"edge6\" class=\"edge\">\n<title>4&#45;&gt;6</title>\n<path fill=\"none\" stroke=\"#000000\" d=\"M123.5961,-88.9777C128.7344,-80.2786 134.273,-70.9018 139.4575,-62.1247\"/>\n<polygon fill=\"#000000\" stroke=\"#000000\" points=\"142.6281,-63.6387 144.7004,-53.2485 136.601,-60.0786 142.6281,-63.6387\"/>\n</g>\n<!-- 9 -->\n<g id=\"node10\" class=\"node\">\n<title>9</title>\n<polygon fill=\"none\" stroke=\"#000000\" points=\"377,-157 282,-157 282,-89 377,-89 377,-157\"/>\n<text text-anchor=\"middle\" x=\"329.5\" y=\"-141.8\" font-family=\"Times,serif\" font-size=\"14.00\" fill=\"#000000\">X[0] &lt;= 1.5</text>\n<text text-anchor=\"middle\" x=\"329.5\" y=\"-126.8\" font-family=\"Times,serif\" font-size=\"14.00\" fill=\"#000000\">gini = 0.5</text>\n<text text-anchor=\"middle\" x=\"329.5\" y=\"-111.8\" font-family=\"Times,serif\" font-size=\"14.00\" fill=\"#000000\">samples = 2</text>\n<text text-anchor=\"middle\" x=\"329.5\" y=\"-96.8\" font-family=\"Times,serif\" font-size=\"14.00\" fill=\"#000000\">value = [1, 1]</text>\n</g>\n<!-- 8&#45;&gt;9 -->\n<g id=\"edge9\" class=\"edge\">\n<title>8&#45;&gt;9</title>\n<path fill=\"none\" stroke=\"#000000\" d=\"M329.5,-192.9465C329.5,-184.776 329.5,-175.9318 329.5,-167.3697\"/>\n<polygon fill=\"#000000\" stroke=\"#000000\" points=\"333.0001,-167.13 329.5,-157.13 326.0001,-167.13 333.0001,-167.13\"/>\n</g>\n<!-- 12 -->\n<g id=\"node13\" class=\"node\">\n<title>12</title>\n<polygon fill=\"none\" stroke=\"#000000\" points=\"490,-149.5 395,-149.5 395,-96.5 490,-96.5 490,-149.5\"/>\n<text text-anchor=\"middle\" x=\"442.5\" y=\"-134.3\" font-family=\"Times,serif\" font-size=\"14.00\" fill=\"#000000\">gini = 0.0</text>\n<text text-anchor=\"middle\" x=\"442.5\" y=\"-119.3\" font-family=\"Times,serif\" font-size=\"14.00\" fill=\"#000000\">samples = 3</text>\n<text text-anchor=\"middle\" x=\"442.5\" y=\"-104.3\" font-family=\"Times,serif\" font-size=\"14.00\" fill=\"#000000\">value = [0, 3]</text>\n</g>\n<!-- 8&#45;&gt;12 -->\n<g id=\"edge12\" class=\"edge\">\n<title>8&#45;&gt;12</title>\n<path fill=\"none\" stroke=\"#000000\" d=\"M366.5004,-192.9465C379.1866,-181.2707 393.3678,-168.219 406.013,-156.5809\"/>\n<polygon fill=\"#000000\" stroke=\"#000000\" points=\"408.6731,-158.8895 413.6609,-149.5422 403.9327,-153.7389 408.6731,-158.8895\"/>\n</g>\n<!-- 10 -->\n<g id=\"node11\" class=\"node\">\n<title>10</title>\n<polygon fill=\"none\" stroke=\"#000000\" points=\"349,-53 254,-53 254,0 349,0 349,-53\"/>\n<text text-anchor=\"middle\" x=\"301.5\" y=\"-37.8\" font-family=\"Times,serif\" font-size=\"14.00\" fill=\"#000000\">gini = 0.0</text>\n<text text-anchor=\"middle\" x=\"301.5\" y=\"-22.8\" font-family=\"Times,serif\" font-size=\"14.00\" fill=\"#000000\">samples = 1</text>\n<text text-anchor=\"middle\" x=\"301.5\" y=\"-7.8\" font-family=\"Times,serif\" font-size=\"14.00\" fill=\"#000000\">value = [1, 0]</text>\n</g>\n<!-- 9&#45;&gt;10 -->\n<g id=\"edge10\" class=\"edge\">\n<title>9&#45;&gt;10</title>\n<path fill=\"none\" stroke=\"#000000\" d=\"M319.6282,-88.9777C317.1839,-80.5533 314.5551,-71.4934 312.0785,-62.9579\"/>\n<polygon fill=\"#000000\" stroke=\"#000000\" points=\"315.4093,-61.877 309.2612,-53.2485 308.6865,-63.8277 315.4093,-61.877\"/>\n</g>\n<!-- 11 -->\n<g id=\"node12\" class=\"node\">\n<title>11</title>\n<polygon fill=\"none\" stroke=\"#000000\" points=\"462,-53 367,-53 367,0 462,0 462,-53\"/>\n<text text-anchor=\"middle\" x=\"414.5\" y=\"-37.8\" font-family=\"Times,serif\" font-size=\"14.00\" fill=\"#000000\">gini = 0.0</text>\n<text text-anchor=\"middle\" x=\"414.5\" y=\"-22.8\" font-family=\"Times,serif\" font-size=\"14.00\" fill=\"#000000\">samples = 1</text>\n<text text-anchor=\"middle\" x=\"414.5\" y=\"-7.8\" font-family=\"Times,serif\" font-size=\"14.00\" fill=\"#000000\">value = [0, 1]</text>\n</g>\n<!-- 9&#45;&gt;11 -->\n<g id=\"edge11\" class=\"edge\">\n<title>9&#45;&gt;11</title>\n<path fill=\"none\" stroke=\"#000000\" d=\"M359.4678,-88.9777C367.4529,-79.9123 376.0862,-70.111 384.0944,-61.0192\"/>\n<polygon fill=\"#000000\" stroke=\"#000000\" points=\"386.9558,-63.066 390.9392,-53.2485 381.7029,-58.4391 386.9558,-63.066\"/>\n</g>\n</g>\n</svg>\n"
          },
          "metadata": {
            "tags": []
          },
          "execution_count": 27
        }
      ]
    },
    {
      "cell_type": "code",
      "metadata": {
        "id": "NdBhL_UjIHOR",
        "colab_type": "code",
        "colab": {
          "base_uri": "https://localhost:8080/",
          "height": 272
        },
        "outputId": "07c40ddc-2a58-416c-b819-c9d4172b2ef1"
      },
      "source": [
        "# Verificando a construção\n",
        "X_pred == y"
      ],
      "execution_count": 29,
      "outputs": [
        {
          "output_type": "execute_result",
          "data": {
            "text/plain": [
              "0     True\n",
              "1     True\n",
              "2     True\n",
              "3     True\n",
              "4     True\n",
              "5     True\n",
              "6     True\n",
              "7     True\n",
              "8     True\n",
              "9     True\n",
              "10    True\n",
              "11    True\n",
              "12    True\n",
              "13    True\n",
              "Name: PlayTenis, dtype: bool"
            ]
          },
          "metadata": {
            "tags": []
          },
          "execution_count": 29
        }
      ]
    }
  ]
}