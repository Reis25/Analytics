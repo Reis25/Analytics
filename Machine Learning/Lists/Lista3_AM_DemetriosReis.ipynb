{
  "nbformat": 4,
  "nbformat_minor": 0,
  "metadata": {
    "colab": {
      "name": "Lista3_AM_DemetriosReis.ipynb",
      "provenance": [],
      "collapsed_sections": [],
      "authorship_tag": "ABX9TyMzjV7O/OI41TUhECwySAez",
      "include_colab_link": true
    },
    "kernelspec": {
      "name": "python3",
      "display_name": "Python 3"
    }
  },
  "cells": [
    {
      "cell_type": "markdown",
      "metadata": {
        "id": "view-in-github",
        "colab_type": "text"
      },
      "source": [
        "<a href=\"https://colab.research.google.com/github/Reis25/CienciaDosDados/blob/master/Lista3_AM_DemetriosReis.ipynb\" target=\"_parent\"><img src=\"https://colab.research.google.com/assets/colab-badge.svg\" alt=\"Open In Colab\"/></a>"
      ]
    },
    {
      "cell_type": "markdown",
      "metadata": {
        "id": "86GMbzTT5OgU",
        "colab_type": "text"
      },
      "source": [
        "#**Lista 3**\n",
        "\n",
        "Aprendizado de Máquina\n",
        "\n",
        "Profs. Evandro Costa e Xu Yang\n",
        "\n",
        "Aluno: Demétrios Reis Costa"
      ]
    },
    {
      "cell_type": "markdown",
      "metadata": {
        "id": "diz5-eoO5cbW",
        "colab_type": "text"
      },
      "source": [
        "(1) Segue o exemplo na aula, acha (???)\n",
        "\n"
      ]
    },
    {
      "cell_type": "markdown",
      "metadata": {
        "id": "RQuAKg3T5pYb",
        "colab_type": "text"
      },
      "source": [
        "(2) Utilizando um algoritmo que realize a técnica de rede neural Perceptron,\n",
        "verifique e demonstre, inclusive ilustrando graficamente, como implementar\n",
        "as funções lógicas OR e XOR (OU Exclusivo), considerando apenas duas\n",
        "entradas A e B.\n",
        "Dica: A disjunção exclusiva (XOR)é uma operação sobre dois ou mais\n",
        "valores lógicos, tipicamente os valores de duas proposições, que produz\n",
        "um valor verdadeiro apenas se a quantidade de operadores verdadeiros for\n",
        "ímpar."
      ]
    },
    {
      "cell_type": "code",
      "metadata": {
        "id": "bcRrIeRE7gTx",
        "colab_type": "code",
        "colab": {}
      },
      "source": [
        "import os\n",
        "import sys\n",
        "import numpy as np \n",
        "import matplotlib.pyplot as plt\n",
        "\n",
        "from mpl_toolkits.mplot3d import Axes3D\n",
        "from math import sqrt\n",
        "from sympy import *\n"
      ],
      "execution_count": null,
      "outputs": []
    },
    {
      "cell_type": "code",
      "metadata": {
        "id": "P9SsBmrq7ekK",
        "colab_type": "code",
        "colab": {}
      },
      "source": [
        "# Possibilidade de A e B:\n",
        "X = np.array([[0, 1], [1,0], [1,1], [0, 0]])\n",
        "\n",
        "# Rótulo de treinamento: \n",
        "y = np.array([[1], [1], [0], [0]])\n",
        "T = np.array([[1], [1], [1], [0]])\n",
        "# Parametros ajustáveis adicionais para as dimensões:\n",
        "number_inp = 2\n",
        "number_Hid = 2\n",
        "number_out = 1\n",
        "\n",
        "# Parametris da Rede Neural: \n",
        "learning_rate = 0.01  # Rate do gradiente de aprendizagem \n",
        "reg_param = 0         # parametro de overfitting \n",
        "max_iter = 5000       # Maximos gradiente de interação \n",
        "m = 4                 # Numero de treinamento\n",
        "\n",
        "# Geração de Pesos: \n",
        "np.random.seed(1)\n",
        "\n",
        "W1 = np.random.normal(0, 1, (number_Hid, number_inp)) # 2x2\n",
        "W2 = np.random.normal(0, 1, (number_out, number_Hid)) # 1x2\n",
        "\n",
        "B1 = np.random.random((number_Hid, 1)) # 2x1\n",
        "B2 = np.random.random((number_out, 1)) # 1x1\n",
        "\n",
        "\n"
      ],
      "execution_count": null,
      "outputs": []
    },
    {
      "cell_type": "code",
      "metadata": {
        "id": "46dqwSxzC5QB",
        "colab_type": "code",
        "colab": {}
      },
      "source": [
        "# Função Sigmoide \n",
        "def sigmoid(z, derv=False):\n",
        "    if derv: return z * (1 - z)\n",
        "    return 1 / (1 + np.exp(-z))\n"
      ],
      "execution_count": null,
      "outputs": []
    },
    {
      "cell_type": "code",
      "metadata": {
        "id": "tGwAK3WEDGRq",
        "colab_type": "code",
        "colab": {}
      },
      "source": [
        "# Forward Propagation\n",
        "def forward(x, predict=False):\n",
        "    a1 = x.reshape(x.shape[0], 1) # Getting the training example as a column vector.\n",
        "\n",
        "    z2 = W1.dot(a1) + B1 # 2x2 * 2x1 + 2x1 = 2x1\n",
        "    a2 = sigmoid(z2) # 2x1\n",
        "\n",
        "    z3 = W2.dot(a2) + B2 # 1x2 * 2x1 + 1x1 = 1x1\n",
        "    a3 = sigmoid(z3)\n",
        "\n",
        "    if predict: return a3\n",
        "    return (a1, a2, a3)"
      ],
      "execution_count": null,
      "outputs": []
    },
    {
      "cell_type": "code",
      "metadata": {
        "id": "_HQxYIwFEm-x",
        "colab_type": "code",
        "colab": {}
      },
      "source": [
        "dW1 = 0 # Gradient for W1\n",
        "dW2 = 0 # Gradient for W2\n",
        "\n",
        "dB1 = 0 # Gradient for B1\n",
        "dB2 = 0 # Gradient for B2\n",
        "\n",
        "cost = np.zeros((max_iter, 1)) # Column vector to record the cost of the NN after each Gradient Descent iteration."
      ],
      "execution_count": null,
      "outputs": []
    },
    {
      "cell_type": "code",
      "metadata": {
        "id": "KRE8ofCwExAb",
        "colab_type": "code",
        "colab": {}
      },
      "source": [
        "def train(_W1, _W2, _B1, _B2): # The arguments are to bypass UnboundLocalError error\n",
        "    for i in range(max_iter):\n",
        "        c = 0\n",
        "        \n",
        "        dW1 = 0\n",
        "        dW2 = 0\n",
        "\n",
        "        dB1 = 0\n",
        "        dB2 = 0\n",
        "        \n",
        "        for j in range(m):\n",
        "            sys.stdout.write(\"\\rIteration: {} and {}\".format(i + 1, j + 1))\n",
        "\n",
        "            # Forward Prop.\n",
        "            a0 = X[j].reshape(X[j].shape[0], 1) # 2x1\n",
        "\n",
        "            z1 = _W1.dot(a0) + _B1 # 2x2 * 2x1 + 2x1 = 2x1\n",
        "            a1 = sigmoid(z1) # 2x1\n",
        "\n",
        "            z2 = _W2.dot(a1) + _B2 # 1x2 * 2x1 + 1x1 = 1x1\n",
        "            a2 = sigmoid(z2) # 1x1\n",
        "\n",
        "            # Back prop.\n",
        "            dz2 = a2 - y[j] # 1x1\n",
        "            dW2 += dz2 * a1.T # 1x1 .* 1x2 = 1x2\n",
        "\n",
        "            dz1 = np.multiply((_W2.T * dz2), sigmoid(a1, derv=True)) # (2x1 * 1x1) .* 2x1 = 2x1\n",
        "            dW1 += dz1.dot(a0.T) # 2x1 * 1x2 = 2x2\n",
        "\n",
        "            dB1 += dz1 # 2x1\n",
        "            dB2 += dz2 # 1x1\n",
        "\n",
        "            c = c + (-(y[j] * np.log(a2)) - ((1 - y[j]) * np.log(1 - a2)))\n",
        "            sys.stdout.flush() # Updating the text.\n",
        "        \n",
        "        _W1 = _W1 - learning_rate * (dW1 / m) + ( (reg_param / m) * _W1)\n",
        "        _W2 = _W2 - learning_rate * (dW2 / m) + ( (reg_param / m) * _W2)\n",
        "\n",
        "        _B1 = _B1 - learning_rate * (dB1 / m)\n",
        "        _B2 = _B2 - learning_rate * (dB2 / m)\n",
        "        cost[i] = (c / m) + ( \n",
        "            (reg_param / (2 * m)) * \n",
        "            (\n",
        "                np.sum(np.power(_W1, 2)) + \n",
        "                np.sum(np.power(_W2, 2))\n",
        "            )\n",
        "        )\n",
        "    return (_W1, _W2, _B1, _B2)"
      ],
      "execution_count": null,
      "outputs": []
    },
    {
      "cell_type": "code",
      "metadata": {
        "id": "8SE-1NBUE0m9",
        "colab_type": "code",
        "colab": {
          "base_uri": "https://localhost:8080/",
          "height": 34
        },
        "outputId": "eebe19e5-bec4-4164-f825-8ea21e904da2"
      },
      "source": [
        "# Running -> Treinamento\n",
        "W1, W2, B1, B2 = train(W1, W2, B1, B2)\n"
      ],
      "execution_count": null,
      "outputs": [
        {
          "output_type": "stream",
          "text": [
            "Iteration: 2805 and 1"
          ],
          "name": "stdout"
        }
      ]
    },
    {
      "cell_type": "code",
      "metadata": {
        "id": "5TPoMnvoE9uS",
        "colab_type": "code",
        "colab": {
          "base_uri": "https://localhost:8080/",
          "height": 279
        },
        "outputId": "e520e57d-0119-4990-8903-8c14ed00dca2"
      },
      "source": [
        "# Plotagem \n",
        "# Assigning the axes to the different elements.\n",
        "plt.plot(range(max_iter), cost)\n",
        "\n",
        "# Labelling the x axis as the iterations axis.\n",
        "plt.xlabel(\"Iterations\")\n",
        "\n",
        "# Labelling the y axis as the cost axis.\n",
        "plt.ylabel(\"Cost\")\n",
        "\n",
        "# Showing the plot.\n",
        "plt.show()"
      ],
      "execution_count": null,
      "outputs": [
        {
          "output_type": "display_data",
          "data": {
            "image/png": "[encoded data removed]",
            "text/plain": [
              "<Figure size 432x288 with 1 Axes>"
            ]
          },
          "metadata": {
            "tags": [],
            "needs_background": "light"
          }
        }
      ]
    },
    {
      "cell_type": "markdown",
      "metadata": {
        "id": "qzSMKUaN5rbz",
        "colab_type": "text"
      },
      "source": [
        "\n",
        "(3) Escrever a equação do plano que passa pelo ponto P = (2, 1, 1), sabendo\n",
        "que o vetor n = (1, 1, 1) é normal ao plano.\n",
        "[Dica: Consideramos um ponto qualquer, P1 = (x, y, z), que pertence ao plano. O vetor P x P1 que pertence ao plano é perpendicular ao vetor n,\n",
        "então temos PP1 x n = 0.]\n"
      ]
    },
    {
      "cell_type": "code",
      "metadata": {
        "id": "xyxWqO2p7du3",
        "colab_type": "code",
        "colab": {
          "base_uri": "https://localhost:8080/",
          "height": 265
        },
        "outputId": "9664edb0-43ff-437a-d999-d54702689f2d"
      },
      "source": [
        "# Um plano é definido como: a*x+b*y+c*z+d=0, onde: [a,b,c] vem do vetor normal; \n",
        "P1  = np.array([2, 1, 1])\n",
        "\n",
        "P2 = np.array([0, 0, 0])\n",
        "\n",
        "N = np.array([1, 1, 1])\n",
        "\n",
        "D = -P1.dot(N)\n",
        "\n",
        "# Criando os eixos X e Y\n",
        "x, y = np.meshgrid(range(10), range(10))\n",
        "\n",
        "# Calculando a variável Z\n",
        "z = (-N[0]*x - N[1]*y - D) * 1. /N[2]\n",
        "\n",
        "# Criando a figura 3d;\n",
        "plt3d = plt.figure().gca(projection='3d')\n",
        "\n",
        "# Plotando a superfície da figura \n",
        "plt3d.plot_surface(x, y, z, alpha=0.2)\n",
        "\n",
        "# Em suma a equação, considerando P2 = (x, y, z) é dada por:\n",
        "#((x - 2),(y - 1),(z - 1))(1, 1, 1) = 0\n",
        "# x + y + z - 4 = 0\n"
      ],
      "execution_count": null,
      "outputs": [
        {
          "output_type": "execute_result",
          "data": {
            "text/plain": [
              "<mpl_toolkits.mplot3d.art3d.Poly3DCollection at 0x7fe98dd0a710>"
            ]
          },
          "metadata": {
            "tags": []
          },
          "execution_count": 33
        },
        {
          "output_type": "display_data",
          "data": {
            "image/png": "[encoded data removed]",
            "text/plain": [
              "<Figure size 432x288 with 1 Axes>"
            ]
          },
          "metadata": {
            "tags": [],
            "needs_background": "light"
          }
        }
      ]
    },
    {
      "cell_type": "markdown",
      "metadata": {
        "id": "D35Vzjrn6bR9",
        "colab_type": "text"
      },
      "source": [
        "(4) Considere o plano: 2x + y -z +1 = 0 e o ponto P = (3, 2, 1). Qual é a distância entre eles?\n",
        "[Dica: Se tivermos um ponto P = (x0 , y0 , z0) e um plano π com equação\n",
        "geral: ax + by + cz + d = 0 a distância entre o ponto P e o plano π será ]"
      ]
    },
    {
      "cell_type": "code",
      "metadata": {
        "id": "4KiWVo9n40Tz",
        "colab_type": "code",
        "colab": {
          "base_uri": "https://localhost:8080/",
          "height": 265
        },
        "outputId": "86a1ce95-a280-4bd8-a5e0-336829f81a26"
      },
      "source": [
        "# Um plano é definido como: a*x+b*y+c*z+d=0, onde: [a,b,c] vem do vetor VN; \n",
        "P1  = np.array([1, 2, 3])\n",
        "\n",
        "VN = np.array([2, 1, -1])\n",
        "\n",
        "P2 = np.array([3, 2, 1])\n",
        "\n",
        "d = -P1.dot(VN)\n",
        "\n",
        "# Criando os eixos X e Y:\n",
        "x, y = np.meshgrid(range(10), range(10))\n",
        "\n",
        "# Isolando Z\n",
        "z = (-VN[0] * x - VN[1] * y - d) * 1. /VN[2]\n",
        "\n",
        "# Criando o plot tridimensional\n",
        "plt3d = plt.figure().gca(projection='3d')\n",
        "\n",
        "# Plano (Superfície)\n",
        "plt3d.plot_surface(x, y, z, alpha=0.2)\n",
        "\n",
        "# Evitando sobrescrita\n",
        "ax = plt.gca()\n",
        "\n",
        "# Plotagem do ponto\n",
        "ax.scatter(P2[0], P2[1], P2[2], color='green')"
      ],
      "execution_count": null,
      "outputs": [
        {
          "output_type": "execute_result",
          "data": {
            "text/plain": [
              "<mpl_toolkits.mplot3d.art3d.Path3DCollection at 0x7fe98df0c518>"
            ]
          },
          "metadata": {
            "tags": []
          },
          "execution_count": 34
        },
        {
          "output_type": "display_data",
          "data": {
            "image/png": "[encoded data removed]",
            "text/plain": [
              "<Figure size 432x288 with 1 Axes>"
            ]
          },
          "metadata": {
            "tags": [],
            "needs_background": "light"
          }
        }
      ]
    },
    {
      "cell_type": "code",
      "metadata": {
        "id": "t5QnsHQrxX3a",
        "colab_type": "code",
        "colab": {
          "base_uri": "https://localhost:8080/",
          "height": 34
        },
        "outputId": "97f5833f-0984-4d26-8427-c0ed6d8e25e7"
      },
      "source": [
        "# Distancia do ponto a reta: \n",
        "\n",
        "Distancia = (abs(P2[0]*VN[0] + P2[1]*VN[1] +P2[2]*VN[[2]]))/(sqrt(VN[0]*VN[0] + VN[1]*VN[1] + VN[2]*VN[2]))\n",
        "\n",
        "print(\"A distancia entre o plano PI e o ponto P2 é: \", Distancia)"
      ],
      "execution_count": null,
      "outputs": [
        {
          "output_type": "stream",
          "text": [
            "A distancia entre o plano PI e o ponto P2 é:  [2.85773803]\n"
          ],
          "name": "stdout"
        }
      ]
    },
    {
      "cell_type": "markdown",
      "metadata": {
        "id": "-ykXykdP7WBs",
        "colab_type": "text"
      },
      "source": [
        "(5) Considere dois pontos P = (1, 2) e Q = (2, 1). Encontrar uma reta com mesma\n",
        "distância com P e Q e é perpendicular ao vetor P Q.\n"
      ]
    },
    {
      "cell_type": "code",
      "metadata": {
        "id": "necB_mVa7ZyW",
        "colab_type": "code",
        "colab": {
          "base_uri": "https://localhost:8080/",
          "height": 34
        },
        "outputId": "e2d138d7-090e-4f79-d931-a4ef34fca1ab"
      },
      "source": [
        "# A equação da reta 1 que passa por P e Q é dado por: \n",
        "# f(x) = ax + b => \n",
        "#    1 = 2a + b\n",
        "#    2 =  a + b => a = - 1 e b = 3 // para termos uma reta perpendicular,\n",
        "# basta que o coeficiente da reta 2 seja o inverso negativo da reta 1\n",
        "# daí implica que o coeficiente da reta 2 é: 1 logo: f(x) = x + 1\n",
        "\n",
        "distancia_1 = sqrt((2-1)^2 + (1-2)^2) \n",
        "\n",
        "print(\"A distancia entre os pontos P e Q é igual a: \", distancia_p)"
      ],
      "execution_count": null,
      "outputs": [
        {
          "output_type": "stream",
          "text": [
            "A distancia entre os pontos P e Q é igual a:  1.4142135623730951\n"
          ],
          "name": "stdout"
        }
      ]
    },
    {
      "cell_type": "code",
      "metadata": {
        "id": "i6Fxuu467o67",
        "colab_type": "code",
        "colab": {
          "base_uri": "https://localhost:8080/",
          "height": 88
        },
        "outputId": "d6663a31-1843-4494-ec4f-a27cc554f4f0"
      },
      "source": [
        "# Assumindo que P pertence a reta 1, temos que a distancia até o ponto (0, 1)\n",
        "# é a mesma que a distancia entre PQ, verificando temos: \n",
        "\n",
        "distancia_2 = sqrt((1-0)^2 + (2-1)^2) \n",
        "\n",
        "print(\"A distancia entre os pontos P e (0, 1), ponto esse que pertence a reta 2, é igual a: \", distancia_p)\n",
        "print()\n",
        "print(\"Daí nota-se que achamos a reta perpendicular f(x)= x + 1 e o ponto em questão é (0,1)\")"
      ],
      "execution_count": null,
      "outputs": [
        {
          "output_type": "stream",
          "text": [
            "A distancia entre os pontos P e (0, 1), ponto esse que pertence a reta 2, é igual a:  1.4142135623730951\n",
            "\n",
            "Daí nota-se que achamos a reta perpendicular f(x)= x + 1 e o ponto em questão é (0,1)\n"
          ],
          "name": "stdout"
        }
      ]
    },
    {
      "cell_type": "markdown",
      "metadata": {
        "id": "iuD2D_Lh7avM",
        "colab_type": "text"
      },
      "source": [
        "(6) Uma caixa retangular sem tampa deve ser feita com 15m2 de papelão.\n",
        "Determine as dimensões x, y e z que fornecem o volume máximo de tal\n",
        "caixa."
      ]
    },
    {
      "cell_type": "code",
      "metadata": {
        "id": "snzRRfsThSn9",
        "colab_type": "code",
        "colab": {
          "base_uri": "https://localhost:8080/",
          "height": 34
        },
        "outputId": "36462f62-ade0-4664-f8cd-ed699c4c1a15"
      },
      "source": [
        "# A área da caixa é dada por A = 15x15 cm, disso para os recortes de caixa temos que, \n",
        "\n",
        "# As dimensões são dadas por: (15 - x), (15 - x) e x, daí seu volume é dadado por: \n",
        "x = Symbol('x')\n",
        "\n",
        "Volume = ((15 - 2*x)**2)*x\n",
        "\n",
        "# Determinando o máximo absoluto da equação, achamos sua derivada:\n",
        "y_der = y.diff(x)\n",
        "\n",
        "# Sendo os seus coeficientes dados por: \n",
        "y_der_coef = [12, -120, 225]\n",
        "\n",
        "# Determinando as raízes:\n",
        "raizes_y = np.roots(y_der_coef)\n",
        "\n",
        "# Printando as raízes:\n",
        "print(raizes_y)\n",
        "\n",
        "print(\"resposta pelo conjunto solução é: 2.5\") "
      ],
      "execution_count": null,
      "outputs": [
        {
          "output_type": "stream",
          "text": [
            "[7.5 2.5]\n"
          ],
          "name": "stdout"
        }
      ]
    }
  ]
}