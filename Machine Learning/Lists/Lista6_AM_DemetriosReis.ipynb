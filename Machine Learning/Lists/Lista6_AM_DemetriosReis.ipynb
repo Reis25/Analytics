{
  "nbformat": 4,
  "nbformat_minor": 0,
  "metadata": {
    "colab": {
      "name": "Lista6_AM_DemetriosReis",
      "provenance": [],
      "authorship_tag": "ABX9TyPDjudax3x7SP2OQfK6Khd6",
      "include_colab_link": true
    },
    "kernelspec": {
      "name": "python3",
      "display_name": "Python 3"
    }
  },
  "cells": [
    {
      "cell_type": "markdown",
      "metadata": {
        "id": "view-in-github",
        "colab_type": "text"
      },
      "source": [
        "<a href=\"https://colab.research.google.com/github/Reis25/AprendizadoDeMquinas/blob/master/Lista6_AM_DemetriosReis.ipynb\" target=\"_parent\"><img src=\"https://colab.research.google.com/assets/colab-badge.svg\" alt=\"Open In Colab\"/></a>"
      ]
    },
    {
      "cell_type": "markdown",
      "metadata": {
        "id": "d1vXOFDMkImp",
        "colab_type": "text"
      },
      "source": [
        "Universidade Federal de Alagoas\n",
        "\n",
        "Professores: Evandro Barros e Xu Yang\n",
        "\n",
        "Aluno: Demétrios Reis Costa\n"
      ]
    },
    {
      "cell_type": "markdown",
      "metadata": {
        "id": "-gaZ4huHkI7C",
        "colab_type": "text"
      },
      "source": [
        "In the data set (gender.xlsx), we will use Bayes classification to classify the data.\n",
        "In the training dataset, we have two groups (y=gender=1 means male, y=gender=0\n",
        "means female)\n",
        "\n",
        "\n",
        "\n"
      ]
    },
    {
      "cell_type": "code",
      "metadata": {
        "id": "RPlHO3sGjnny",
        "colab_type": "code",
        "colab": {
          "base_uri": "https://localhost:8080/",
          "height": 204
        },
        "outputId": "b0db2604-254d-4f6c-d032-894dabbb444a"
      },
      "source": [
        "# Algoritmo de Naive Bayes\n",
        "\n",
        "# importação das bibliotecas: \n",
        "import numpy as np \n",
        "import pandas as pd \n",
        "import matplotlib.pyplot as plt\n",
        "\n",
        "from sklearn.model_selection import KFold,train_test_split,cross_val_score\n",
        "from sklearn.naive_bayes import GaussianNB\n",
        "\n",
        "import seaborn as sns\n",
        "\n",
        "#Metrics\n",
        "from sklearn.metrics import make_scorer, accuracy_score,precision_score\n",
        "from sklearn.metrics import classification_report\n",
        "from sklearn.metrics import confusion_matrix\n",
        "from sklearn.metrics import accuracy_score ,precision_score,recall_score,f1_score\n",
        "\n",
        "url = 'https://raw.githubusercontent.com/Reis25/Testes_py/master/Gender.csv'\n",
        "\n",
        "data_frame1 = pd.read_csv(url)\n",
        "\n",
        "data_frame1.head()"
      ],
      "execution_count": 77,
      "outputs": [
        {
          "output_type": "execute_result",
          "data": {
            "text/html": [
              "<div>\n",
              "<style scoped>\n",
              "    .dataframe tbody tr th:only-of-type {\n",
              "        vertical-align: middle;\n",
              "    }\n",
              "\n",
              "    .dataframe tbody tr th {\n",
              "        vertical-align: top;\n",
              "    }\n",
              "\n",
              "    .dataframe thead th {\n",
              "        text-align: right;\n",
              "    }\n",
              "</style>\n",
              "<table border=\"1\" class=\"dataframe\">\n",
              "  <thead>\n",
              "    <tr style=\"text-align: right;\">\n",
              "      <th></th>\n",
              "      <th>Gender</th>\n",
              "      <th>Height</th>\n",
              "      <th>Weight</th>\n",
              "      <th>identifier</th>\n",
              "      <th>entry_dt</th>\n",
              "    </tr>\n",
              "  </thead>\n",
              "  <tbody>\n",
              "    <tr>\n",
              "      <th>0</th>\n",
              "      <td>1</td>\n",
              "      <td>73,84701702</td>\n",
              "      <td>241,8935632</td>\n",
              "      <td>A001</td>\n",
              "      <td>01-20-17</td>\n",
              "    </tr>\n",
              "    <tr>\n",
              "      <th>1</th>\n",
              "      <td>1</td>\n",
              "      <td>68,78190405</td>\n",
              "      <td>162,3104725</td>\n",
              "      <td>A002</td>\n",
              "      <td>01-20-17</td>\n",
              "    </tr>\n",
              "    <tr>\n",
              "      <th>2</th>\n",
              "      <td>1</td>\n",
              "      <td>74,11010539</td>\n",
              "      <td>212,7408556</td>\n",
              "      <td>A003</td>\n",
              "      <td>01-20-17</td>\n",
              "    </tr>\n",
              "    <tr>\n",
              "      <th>3</th>\n",
              "      <td>1</td>\n",
              "      <td>71,7309784</td>\n",
              "      <td>220,0424703</td>\n",
              "      <td>A004</td>\n",
              "      <td>01-20-17</td>\n",
              "    </tr>\n",
              "    <tr>\n",
              "      <th>4</th>\n",
              "      <td>1</td>\n",
              "      <td>69,88179586</td>\n",
              "      <td>206,3498006</td>\n",
              "      <td>A005</td>\n",
              "      <td>01-20-17</td>\n",
              "    </tr>\n",
              "  </tbody>\n",
              "</table>\n",
              "</div>"
            ],
            "text/plain": [
              "   Gender       Height       Weight identifier  entry_dt\n",
              "0       1  73,84701702  241,8935632       A001  01-20-17\n",
              "1       1  68,78190405  162,3104725       A002  01-20-17\n",
              "2       1  74,11010539  212,7408556       A003  01-20-17\n",
              "3       1   71,7309784  220,0424703       A004  01-20-17\n",
              "4       1  69,88179586  206,3498006       A005  01-20-17"
            ]
          },
          "metadata": {
            "tags": []
          },
          "execution_count": 77
        }
      ]
    },
    {
      "cell_type": "code",
      "metadata": {
        "id": "FDernE0y_NkK",
        "colab_type": "code",
        "colab": {}
      },
      "source": [
        "# Substituindo as viírgulas por pontos e passando o valor como float\n",
        "\n",
        "data_frame1['Height'] = data_frame1['Height'].str.replace(',', '.').astype(float)\n",
        "data_frame1['Weight'] = data_frame1['Weight'].str.replace(',', '.').astype(float)"
      ],
      "execution_count": 78,
      "outputs": []
    },
    {
      "cell_type": "code",
      "metadata": {
        "id": "4R_9vVLeyvwT",
        "colab_type": "code",
        "colab": {
          "base_uri": "https://localhost:8080/",
          "height": 204
        },
        "outputId": "dc80172a-0a7d-4c84-928d-576a137a64da"
      },
      "source": [
        "# Verificando a limpeza dos dados:\n",
        "data_frame1.head()             "
      ],
      "execution_count": 79,
      "outputs": [
        {
          "output_type": "execute_result",
          "data": {
            "text/html": [
              "<div>\n",
              "<style scoped>\n",
              "    .dataframe tbody tr th:only-of-type {\n",
              "        vertical-align: middle;\n",
              "    }\n",
              "\n",
              "    .dataframe tbody tr th {\n",
              "        vertical-align: top;\n",
              "    }\n",
              "\n",
              "    .dataframe thead th {\n",
              "        text-align: right;\n",
              "    }\n",
              "</style>\n",
              "<table border=\"1\" class=\"dataframe\">\n",
              "  <thead>\n",
              "    <tr style=\"text-align: right;\">\n",
              "      <th></th>\n",
              "      <th>Gender</th>\n",
              "      <th>Height</th>\n",
              "      <th>Weight</th>\n",
              "      <th>identifier</th>\n",
              "      <th>entry_dt</th>\n",
              "    </tr>\n",
              "  </thead>\n",
              "  <tbody>\n",
              "    <tr>\n",
              "      <th>0</th>\n",
              "      <td>1</td>\n",
              "      <td>73.847017</td>\n",
              "      <td>241.893563</td>\n",
              "      <td>A001</td>\n",
              "      <td>01-20-17</td>\n",
              "    </tr>\n",
              "    <tr>\n",
              "      <th>1</th>\n",
              "      <td>1</td>\n",
              "      <td>68.781904</td>\n",
              "      <td>162.310473</td>\n",
              "      <td>A002</td>\n",
              "      <td>01-20-17</td>\n",
              "    </tr>\n",
              "    <tr>\n",
              "      <th>2</th>\n",
              "      <td>1</td>\n",
              "      <td>74.110105</td>\n",
              "      <td>212.740856</td>\n",
              "      <td>A003</td>\n",
              "      <td>01-20-17</td>\n",
              "    </tr>\n",
              "    <tr>\n",
              "      <th>3</th>\n",
              "      <td>1</td>\n",
              "      <td>71.730978</td>\n",
              "      <td>220.042470</td>\n",
              "      <td>A004</td>\n",
              "      <td>01-20-17</td>\n",
              "    </tr>\n",
              "    <tr>\n",
              "      <th>4</th>\n",
              "      <td>1</td>\n",
              "      <td>69.881796</td>\n",
              "      <td>206.349801</td>\n",
              "      <td>A005</td>\n",
              "      <td>01-20-17</td>\n",
              "    </tr>\n",
              "  </tbody>\n",
              "</table>\n",
              "</div>"
            ],
            "text/plain": [
              "   Gender     Height      Weight identifier  entry_dt\n",
              "0       1  73.847017  241.893563       A001  01-20-17\n",
              "1       1  68.781904  162.310473       A002  01-20-17\n",
              "2       1  74.110105  212.740856       A003  01-20-17\n",
              "3       1  71.730978  220.042470       A004  01-20-17\n",
              "4       1  69.881796  206.349801       A005  01-20-17"
            ]
          },
          "metadata": {
            "tags": []
          },
          "execution_count": 79
        }
      ]
    },
    {
      "cell_type": "code",
      "metadata": {
        "id": "FFkl8wK1wb6L",
        "colab_type": "code",
        "colab": {
          "base_uri": "https://localhost:8080/",
          "height": 666
        },
        "outputId": "c7226db4-b28b-48dd-9937-1c734ca6cd1d"
      },
      "source": [
        "# classe de resposta\n",
        "y = data_frame1[['Gender']]\n",
        "\n",
        "# colunas de trinamento \n",
        "X = data_frame1[['Height', 'Weight']]\n",
        "\n",
        "# Separação do conjunto de dados \n",
        "X_train,X_test,y_train,y_test=train_test_split(X,y,test_size=0.3,random_state=0)\n",
        "\n",
        "# Métrica Gaussiana \n",
        "gaussian = GaussianNB()\n",
        "\n",
        "# Fit ajustável com a curva Gaussiana \n",
        "gaussian.fit(X_train, y_train)\n",
        "Y_pred = gaussian.predict(X_test) \n",
        "accuracy_nb=round(accuracy_score(y_test,Y_pred)* 100, 2)\n",
        "acc_gaussian = round(gaussian.score(X_train, y_train) * 100, 2)\n",
        "\n",
        "# Construindo a matriz de confusão \n",
        "cm = confusion_matrix(y_test, Y_pred)\n",
        "accuracy = accuracy_score(y_test,Y_pred)\n",
        "precision =precision_score(y_test, Y_pred,average='micro')\n",
        "recall =  recall_score(y_test, Y_pred,average='micro')\n",
        "f1 = f1_score(y_test,Y_pred,average='micro')\n",
        "\n",
        "print('Matriz de confusão para o Naive Bayes\\n',cm,\"\\n\")\n",
        "print('accuracia para Naive Bayes: %.3f' %accuracy, '\\n')\n",
        "print('precision para Naive Bayes: %.3f' %precision, '\\n')\n",
        "print('recall para o Naive Bayes: %.3f' %recall, '\\n')\n",
        "print('f1-score para o Naive Bayes : %.3f' %f1, \"\\n\\n\")\n",
        "print('Conjunto X: \\n')\n",
        "print(X.head(10),'\\n')\n",
        "print('Conjunto y: \\n')\n",
        "print(y.head())"
      ],
      "execution_count": 81,
      "outputs": [
        {
          "output_type": "stream",
          "text": [
            "Matriz de confusão para o Naive Bayes\n",
            " [[1328  161]\n",
            " [ 193 1318]] \n",
            "\n",
            "accuracia para Naive Bayes: 0.882 \n",
            "\n",
            "precision para Naive Bayes: 0.882 \n",
            "\n",
            "recall para o Naive Bayes: 0.882 \n",
            "\n",
            "f1-score para o Naive Bayes : 0.882 \n",
            "\n",
            "\n",
            "Conjunto X: \n",
            "\n",
            "      Height      Weight\n",
            "0  73.847017  241.893563\n",
            "1  68.781904  162.310473\n",
            "2  74.110105  212.740856\n",
            "3  71.730978  220.042470\n",
            "4  69.881796  206.349801\n",
            "5  67.253016  152.212156\n",
            "6  68.785081  183.927889\n",
            "7  68.348516  167.971111\n",
            "8  67.018950  175.929440\n",
            "9  63.456494  156.399676 \n",
            "\n",
            "Conjunto y: \n",
            "\n",
            "   Gender\n",
            "0       1\n",
            "1       1\n",
            "2       1\n",
            "3       1\n",
            "4       1\n"
          ],
          "name": "stdout"
        },
        {
          "output_type": "stream",
          "text": [
            "/usr/local/lib/python3.6/dist-packages/sklearn/naive_bayes.py:206: DataConversionWarning: A column-vector y was passed when a 1d array was expected. Please change the shape of y to (n_samples, ), for example using ravel().\n",
            "  y = column_or_1d(y, warn=True)\n"
          ],
          "name": "stderr"
        }
      ]
    },
    {
      "cell_type": "code",
      "metadata": {
        "id": "fR0aSFWjO8iH",
        "colab_type": "code",
        "colab": {
          "base_uri": "https://localhost:8080/",
          "height": 493
        },
        "outputId": "d31475a0-db2a-43ad-de60-6f0e9c3fb391"
      },
      "source": [
        "# Descrição da distribuição dos dados Weight\n",
        "print(data_frame1.groupby('Gender')['Weight'].describe(),'\\n')\n",
        "\n",
        "# Descrição da distribuição dos dados Height\n",
        "print(data_frame1.groupby('Gender')['Height'].describe(),'\\n')\n",
        "\n",
        "# Calculando a variancia do coluna Weight\n",
        "print('Variancia do conjunto Weight: \\n')\n",
        "print(data_frame1.groupby('Gender')['Weight'].var(),'\\n')\n",
        "\n",
        "# Calculando a variancia do coluna Height\n",
        "print('Variancia do conjunto Weight: \\n')\n",
        "print(data_frame1.groupby('Gender')['Height'].var(),'n')\n",
        "\n",
        "#Checando se há valores nulos no dataset, se sim, quanto tem:\n",
        "print('Numero de elementos nulos no conjunto de dados: ', data_frame1.isnull().sum().sum())"
      ],
      "execution_count": 84,
      "outputs": [
        {
          "output_type": "stream",
          "text": [
            "         count        mean        std  ...         50%         75%         max\n",
            "Gender                                 ...                                    \n",
            "0       5000.0  135.860093  19.022468  ...  136.117583  148.810926  202.237214\n",
            "1       5000.0  187.020621  19.781155  ...  187.033546  200.357802  269.989698\n",
            "\n",
            "[2 rows x 8 columns] \n",
            "\n",
            "         count       mean       std  ...        50%        75%        max\n",
            "Gender                               ...                                 \n",
            "0       5000.0  63.708774  2.696284  ...  63.730924  65.563565  73.389586\n",
            "1       5000.0  69.026346  2.863362  ...  69.027709  70.988744  78.998742\n",
            "\n",
            "[2 rows x 8 columns] \n",
            "\n",
            "Variancia do conjunto Weight: \n",
            "\n",
            "Gender\n",
            "0    361.854281\n",
            "1    391.294074\n",
            "Name: Weight, dtype: float64 \n",
            "\n",
            "Variancia do conjunto Weight: \n",
            "\n",
            "Gender\n",
            "0    7.269947\n",
            "1    8.198843\n",
            "Name: Height, dtype: float64 n\n",
            "Numero de elementos nulos no conjunto de dados:  0\n"
          ],
          "name": "stdout"
        }
      ]
    },
    {
      "cell_type": "markdown",
      "metadata": {
        "id": "E61e7qhPquJA",
        "colab_type": "text"
      },
      "source": [
        "\n",
        "(1) Calculate the mean and variance of height and weight of each training\n",
        "group."
      ]
    },
    {
      "cell_type": "code",
      "metadata": {
        "id": "68b4CVE_E7zc",
        "colab_type": "code",
        "colab": {
          "base_uri": "https://localhost:8080/",
          "height": 68
        },
        "outputId": "7c4c367a-2b30-4dce-8d8e-041964f0648b"
      },
      "source": [
        "# Media do conjunto de treino: \n",
        "\n",
        "media_train_group = X_train.mean()\n",
        "print(media_train_group)"
      ],
      "execution_count": 85,
      "outputs": [
        {
          "output_type": "stream",
          "text": [
            "Height     66.375628\n",
            "Weight    161.515520\n",
            "dtype: float64\n"
          ],
          "name": "stdout"
        }
      ]
    },
    {
      "cell_type": "code",
      "metadata": {
        "id": "AvJPs7kaFWgq",
        "colab_type": "code",
        "colab": {
          "base_uri": "https://localhost:8080/",
          "height": 68
        },
        "outputId": "f2759ffd-4e9f-430a-a999-d8a161fe2251"
      },
      "source": [
        "# Variancia do conjunto de treino\n",
        "\n",
        "variance_train_group = X_train.var()\n",
        "print(variance_train_group)"
      ],
      "execution_count": 86,
      "outputs": [
        {
          "output_type": "stream",
          "text": [
            "Height      14.739351\n",
            "Weight    1027.436397\n",
            "dtype: float64\n"
          ],
          "name": "stdout"
        }
      ]
    },
    {
      "cell_type": "markdown",
      "metadata": {
        "id": "3C4BQ2fv1MHk",
        "colab_type": "text"
      },
      "source": [
        "(2) Use normal distribution to fit the data for each group. That is, obtain\n",
        "fh1(density function for height and y = 1 ), fw1(density function for weight\n",
        "and y = 1), fh0 (density function for height and y = 0), fw0 (density\n",
        "function for weight and y = 0), where the density function is given by\n",
        "f(px|μ, σ2) = (1/2πσ2)*e^(x-y)²/2σ²\n",
        "\n",
        "\n",
        "\n"
      ]
    },
    {
      "cell_type": "code",
      "metadata": {
        "id": "F3YOpGzBspbz",
        "colab_type": "code",
        "colab": {
          "base_uri": "https://localhost:8080/",
          "height": 299
        },
        "outputId": "be4a6563-d97c-4607-c1ae-19a1a3e9084b"
      },
      "source": [
        "sns.distplot(data_frame1[data_frame1['Gender']==0].Height)\n",
        "sns.distplot(data_frame1[data_frame1['Gender']==1].Height)"
      ],
      "execution_count": 71,
      "outputs": [
        {
          "output_type": "execute_result",
          "data": {
            "text/plain": [
              "<matplotlib.axes._subplots.AxesSubplot at 0x7f0951fdb908>"
            ]
          },
          "metadata": {
            "tags": []
          },
          "execution_count": 71
        },
        {
          "output_type": "display_data",
          "data": {
            "image/png": "[encoded data removed]",
            "text/plain": [
              "<Figure size 432x288 with 1 Axes>"
            ]
          },
          "metadata": {
            "tags": [],
            "needs_background": "light"
          }
        }
      ]
    },
    {
      "cell_type": "code",
      "metadata": {
        "id": "uX2oaS00yN86",
        "colab_type": "code",
        "colab": {
          "base_uri": "https://localhost:8080/",
          "height": 296
        },
        "outputId": "3d17d18f-8da0-428e-a44a-ee29e5918f19"
      },
      "source": [
        "sns.distplot(data_frame1[data_frame1['Gender']==0].Weight)\n",
        "sns.distplot(data_frame1[data_frame1['Gender']==1].Weight)"
      ],
      "execution_count": 72,
      "outputs": [
        {
          "output_type": "execute_result",
          "data": {
            "text/plain": [
              "<matplotlib.axes._subplots.AxesSubplot at 0x7f0951d1c9e8>"
            ]
          },
          "metadata": {
            "tags": []
          },
          "execution_count": 72
        },
        {
          "output_type": "display_data",
          "data": {
            "image/png": "[encoded data removed]",
            "text/plain": [
              "<Figure size 432x288 with 1 Axes>"
            ]
          },
          "metadata": {
            "tags": [],
            "needs_background": "light"
          }
        }
      ]
    },
    {
      "cell_type": "code",
      "metadata": {
        "id": "DHuvCl5_1n3d",
        "colab_type": "code",
        "colab": {
          "base_uri": "https://localhost:8080/",
          "height": 387
        },
        "outputId": "4a33b35f-f4cb-4847-b651-66ec2ca3ef08"
      },
      "source": [
        "# Correlção com dados separados bem como suas distribuições\n",
        "sns.pairplot(data_frame1, kind=\"reg\", hue=\"Gender\", markers=[\"o\", \"s\"], palette=\"Set2\")\n",
        "plt.show()"
      ],
      "execution_count": 36,
      "outputs": [
        {
          "output_type": "display_data",
          "data": {
            "image/png": "[encoded data removed]",
            "text/plain": [
              "<Figure size 404.875x360 with 6 Axes>"
            ]
          },
          "metadata": {
            "tags": [],
            "needs_background": "light"
          }
        }
      ]
    },
    {
      "cell_type": "markdown",
      "metadata": {
        "id": "YIEFqZMR1OkR",
        "colab_type": "text"
      },
      "source": [
        "\n",
        "(3) Make a scatter plot for each group about height and weight.\n",
        "\n"
      ]
    },
    {
      "cell_type": "code",
      "metadata": {
        "id": "qgqdcVnB1nPq",
        "colab_type": "code",
        "colab": {
          "base_uri": "https://localhost:8080/",
          "height": 296
        },
        "outputId": "6805ba17-7e19-47cd-e2dc-86f370d294e6"
      },
      "source": [
        "sns.scatterplot(data=data_frame1, x=\"Height\", y=\"Weight\", hue=\"Gender\", style=\"Gender\")"
      ],
      "execution_count": 37,
      "outputs": [
        {
          "output_type": "execute_result",
          "data": {
            "text/plain": [
              "<matplotlib.axes._subplots.AxesSubplot at 0x7f0959fa7c88>"
            ]
          },
          "metadata": {
            "tags": []
          },
          "execution_count": 37
        },
        {
          "output_type": "display_data",
          "data": {
            "image/png": "[encoded data removed]",
            "text/plain": [
              "<Figure size 432x288 with 1 Axes>"
            ]
          },
          "metadata": {
            "tags": [],
            "needs_background": "light"
          }
        }
      ]
    },
    {
      "cell_type": "markdown",
      "metadata": {
        "id": "hOA6lulk1Q82",
        "colab_type": "text"
      },
      "source": [
        "\n",
        "(4) Calculate the probabilities P(y = 1), P(y =0).\n",
        "\n"
      ]
    },
    {
      "cell_type": "code",
      "metadata": {
        "id": "0sscEy8_F4Ij",
        "colab_type": "code",
        "colab": {
          "base_uri": "https://localhost:8080/",
          "height": 68
        },
        "outputId": "698b05eb-7565-4b22-da3f-16ef5d8c32f1"
      },
      "source": [
        "print(data_frame1['Gender'].value_counts())"
      ],
      "execution_count": null,
      "outputs": [
        {
          "output_type": "stream",
          "text": [
            "1    5000\n",
            "0    5000\n",
            "Name: Gender, dtype: int64\n"
          ],
          "name": "stdout"
        }
      ]
    },
    {
      "cell_type": "code",
      "metadata": {
        "id": "lPf9R8gFQ4ob",
        "colab_type": "code",
        "colab": {
          "base_uri": "https://localhost:8080/",
          "height": 264
        },
        "outputId": "795dcf5a-2d1a-49f5-ee98-2222b6e4a5f4"
      },
      "source": [
        "#Checking if data is balanced or not using pie chart for our target variable - gender\n",
        "labels = data_frame1.Gender.unique()\n",
        "sizes = [(data_frame1.Gender == labels[0]).sum(), (data_frame1.Gender == labels[1]).sum()]\n",
        "plt.pie(sizes, labels = labels, autopct='%1.1f%%', startangle = 90)\n",
        "plt.title(\"Checando o balanceamento dos dados, com o gráfico de pizza: \")\n",
        "plt.show()"
      ],
      "execution_count": 38,
      "outputs": [
        {
          "output_type": "display_data",
          "data": {
            "image/png": "[encoded data removed]",
            "text/plain": [
              "<Figure size 432x288 with 1 Axes>"
            ]
          },
          "metadata": {
            "tags": []
          }
        }
      ]
    },
    {
      "cell_type": "markdown",
      "metadata": {
        "id": "6tha9o1SfAEY",
        "colab_type": "text"
      },
      "source": [
        "Probabilidade embos é de 50% buscando um dado aleatório. "
      ]
    },
    {
      "cell_type": "markdown",
      "metadata": {
        "id": "lPFS37OX1UU4",
        "colab_type": "text"
      },
      "source": [
        "\n",
        "(5) Suppose the new data has height=68, weight=169. Suppose the height and\n",
        "weight are conditional independent. Calculate:\n",
        "\n",
        "*   fh1(h = 68|y = 1), \n",
        "*   fw1(w = 169|y = 1),\n",
        "*   fh0(h = 68|y = 0), \n",
        "*   fw0(w = 169|y = 0)\n",
        "*   fhw1((h = 68, w = 169)|y = 1), \n",
        "*   fhw0((h = 68, w = 169)|y = 0))\n"
      ]
    },
    {
      "cell_type": "code",
      "metadata": {
        "id": "RXyQl0DTE5kX",
        "colab_type": "code",
        "colab": {}
      },
      "source": [
        "\n",
        "# Média e Variancia para males (1)\n",
        "media_height_males      =  data_frame1[data_frame1['Gender']==1].Height.mean() #63.708774\n",
        "media_weight_males      =  data_frame1[data_frame1['Gender']==1].Weight.mean() #187.020621\n",
        "variancia_height_males  =  data_frame1[data_frame1['Gender']==1].Height.var()  #8.198843\n",
        "variancia_weight_males  =  data_frame1[data_frame1['Gender']==1].Weight.var()  #391.294074\n",
        "\n",
        "# Média e Variância para females (0)\n",
        "media_height_females     = data_frame1[data_frame1['Gender']==0].Weight.mean() #69.026346  \n",
        "media_weight_females     = data_frame1[data_frame1['Gender']==0].Weight.mean() #135.860093\n",
        "variancia_height_females = data_frame1[data_frame1['Gender']==0].Weight.var()  #7.269947\n",
        "variancia_weight_females = data_frame1[data_frame1['Gender']==0].Weight.var()  #361.854281\n",
        "\n",
        "# Função que calcula gaussiana:\n",
        "def PDF(x, mean, variance):  \n",
        "    pd = 1 / (np.sqrt(2 * np.pi * variance)) * np.exp((-(x - mean)**2) / (2 * variance))  \n",
        "    return pd\n",
        "\n",
        "# Vetor com as médias de Height e Weight, respectivamente.\n",
        "def predict_class(height, weight):\n",
        "  p_height_males   = PDF(h, media_height_males,   variancia_height_males)\n",
        "  p_weight_males   = PDF(w, media_weight_males,   variancia_weight_males)\n",
        "  p_height_females = PDF(h, media_height_females, variancia_height_females)\n",
        "  p_weight_females = PDF(w, media_weight_females, variancia_weight_females)\n",
        "\n",
        "\n",
        "  # Calculando a probabilidade de cada classe; O valor de 0.5 é a chance aleatória de cada classe; \n",
        "  p_male_h_and_w   = (0.5) * p_height_males * p_weight_males  \n",
        "  p_female_h_and_w = (0.5) * p_height_females * p_weight_females \n",
        "\n",
        "  print(\"Probabilidade de ser 0 (male): \\n\")\n",
        "  print(\"P(Male   | height & weight) =\", p_male_h_and_w/(p_male_h_and_w + p_female_h_and_w ),'\\n') \n",
        "  print(\"Probabilidade de ser 1 (female): \\n\") \n",
        "  print(\"P(Female | height & weight) =\", p_female_h_and_w/(p_male_h_and_w + p_female_h_and_w ),'\\n')\n",
        "  print(\"Soma das probabilidades: \",(p_female_h_and_w + p_male_h_and_w)/(p_male_h_and_w + p_female_h_and_w ),'\\n')\n",
        "\n",
        "  # Print da predição de que classe pertence o elemento:\n",
        "  if (p_male_h_and_w > p_female_h_and_w):  \n",
        "      print(\"classe = Male \\n\")  \n",
        "  else:  \n",
        "      print(\"classe = Female\\n\")"
      ],
      "execution_count": null,
      "outputs": []
    },
    {
      "cell_type": "code",
      "metadata": {
        "id": "1YYgqwYt5Yrc",
        "colab_type": "code",
        "colab": {
          "base_uri": "https://localhost:8080/",
          "height": 153
        },
        "outputId": "e49b66cd-f131-4b81-bdea-b0fabc04a25d"
      },
      "source": [
        "print(\"Probabilidade de ser 1 (male)   com 68  (height): \", PDF(68,  media_height_males, variancia_height_males),'\\n')\n",
        "print(\"Probabilidade de ser 1 (male)   com 169 (weight): \", PDF(169, media_weight_males, variancia_weight_males),'\\n')\n",
        "print(\"Probabilidade de ser 0 (female) com 68  (height): \", PDF(68,  media_height_females, variancia_height_females),'\\n')\n",
        "print(\"Probabilidade de ser 0 (female) com 168 (weight): \", PDF(169, media_weight_females, variancia_weight_females),'\\n')"
      ],
      "execution_count": 99,
      "outputs": [
        {
          "output_type": "stream",
          "text": [
            "Probabilidade de ser 1 (male)   com 68  (height):  0.045323200386344804 \n",
            "\n",
            "Probabilidade de ser 1 (male)   com 169 (weight):  0.01331814044539428 \n",
            "\n",
            "Probabilidade de ser 0 (female) com 68  (height):  0.13761972341418 \n",
            "\n",
            "Probabilidade de ser 0 (female) com 168 (weight):  0.004598179423604598 \n",
            "\n"
          ],
          "name": "stdout"
        }
      ]
    },
    {
      "cell_type": "code",
      "metadata": {
        "id": "MQzgi5P5Mk0q",
        "colab_type": "code",
        "colab": {
          "base_uri": "https://localhost:8080/",
          "height": 51
        },
        "outputId": "2c453098-84c8-430a-daa7-42230c02a980"
      },
      "source": [
        "print(\"A probabilidade de ser h = 68 e w = 169 sendo y = 1 é: \", PDF(68,  media_height_males, variancia_height_males)*PDF(169, media_weight_males, variancia_weight_males))\n",
        "print(\"A probabilidade de ser h = 68 e w = 169 sendo y = 0 é: \", PDF(68,  media_height_females, variancia_height_females)*PDF(169, media_weight_females, variancia_weight_females))"
      ],
      "execution_count": 104,
      "outputs": [
        {
          "output_type": "stream",
          "text": [
            "A probabilidade de ser h = 68 e w = 169 sendo y = 1 é:  0.0006036207481800883\n",
            "A probabilidade de ser h = 68 e w = 169 sendo y = 0 é:  0.0006328001804852384\n"
          ],
          "name": "stdout"
        }
      ]
    },
    {
      "cell_type": "markdown",
      "metadata": {
        "id": "ZY95DHK31YeB",
        "colab_type": "text"
      },
      "source": [
        "(6) Use Bayes Theorem to calculate density of the posteriori (f(y|x)∝f(x|y)P(y)):\n",
        "f(y = 1|x = (h = 68, w = 169)), f(y = 0|x = (h = 68, w = 169))\n",
        "\n"
      ]
    },
    {
      "cell_type": "code",
      "metadata": {
        "id": "B_rZqRW_Ovaa",
        "colab_type": "code",
        "colab": {
          "base_uri": "https://localhost:8080/",
          "height": 221
        },
        "outputId": "8c892bdb-e66c-4cea-cc34-d29429c4ee1e"
      },
      "source": [
        "predict_class(68, 169)"
      ],
      "execution_count": 98,
      "outputs": [
        {
          "output_type": "stream",
          "text": [
            "Probabilidade de ser 0 (male): \n",
            "\n",
            "P(Male   | height & weight) = 0.4882000410909219 \n",
            "\n",
            "Probabilidade de ser 1 (female): \n",
            "\n",
            "P(Female | height & weight) = 0.5117999589090781 \n",
            "\n",
            "Soma das probabilidades:  1.0 \n",
            "\n",
            "classe = Female\n",
            "\n"
          ],
          "name": "stdout"
        }
      ]
    },
    {
      "cell_type": "markdown",
      "metadata": {
        "id": "GPKNyjcN1byV",
        "colab_type": "text"
      },
      "source": [
        "(7) Compare which is larger and make a conclusion that which group this new\n",
        "data should be.\n",
        "\n"
      ]
    },
    {
      "cell_type": "markdown",
      "metadata": {
        "id": "dkjTRA1v1LkT",
        "colab_type": "text"
      },
      "source": [
        "Como temos uma probabilidade maior em P(Male| height & weight) concluímos que possivelmente esses são atributos do rótulo female"
      ]
    },
    {
      "cell_type": "markdown",
      "metadata": {
        "id": "4SBFqiCc1gEr",
        "colab_type": "text"
      },
      "source": [
        "(8) Suppose the new data has height=50, weight=100. Repeat the questions\n",
        "(5-7)."
      ]
    },
    {
      "cell_type": "code",
      "metadata": {
        "id": "ufWg9_LI5aCz",
        "colab_type": "code",
        "colab": {
          "base_uri": "https://localhost:8080/",
          "height": 459
        },
        "outputId": "ed9c1c28-3b23-4e0d-c8e2-837412f02a98"
      },
      "source": [
        "print(\"Probabilidade de ser 1 (male)   com 50  (height): \", PDF(50,  media_height_males, variancia_height_males),'\\n')\n",
        "print(\"Probabilidade de ser 1 (male)   com 100 (weight): \", PDF(100, media_weight_males, variancia_weight_males),'\\n')\n",
        "print(\"Probabilidade de ser 0 (female) com 50  (height): \", PDF(50,  media_height_females, variancia_height_females),'\\n')\n",
        "print(\"Probabilidade de ser 0 (female) com 100 (weight): \", PDF(100, media_weight_females, variancia_weight_females),'\\n')\n",
        "print('---------------------------------------')\n",
        "predict_class(50, 100)\n",
        "print('---------------------------------------')\n",
        "print(\"A probabilidade de ser h = 50 e w = 100 sendo y = 1 é: \", PDF(50,  media_height_males, variancia_height_males)*PDF(100, media_weight_males, variancia_weight_males),'\\n')\n",
        "print(\"A probabilidade de ser h = 50 e w = 100 sendo y = 0 é: \", PDF(50,  media_height_females, variancia_height_females)*PDF(100, media_weight_females, variancia_weight_females), '\\n')"
      ],
      "execution_count": 106,
      "outputs": [
        {
          "output_type": "stream",
          "text": [
            "Probabilidade de ser 1 (male)   com 50  (height):  1.4678261874084145e-06 \n",
            "\n",
            "Probabilidade de ser 1 (male)   com 100 (weight):  1.265545175202557e-06 \n",
            "\n",
            "Probabilidade de ser 0 (female) com 50  (height):  2.2774663379245625e-12 \n",
            "\n",
            "Probabilidade de ser 0 (female) com 100 (weight):  0.003547743629059842 \n",
            "\n",
            "---------------------------------------\n",
            "Probabilidade de ser 0 (male): \n",
            "\n",
            "P(Male   | height & weight) = 0.9956692113575494 \n",
            "\n",
            "Probabilidade de ser 1 (female): \n",
            "\n",
            "P(Female | height & weight) = 0.004330788642450644 \n",
            "\n",
            "Soma das probabilidades:  1.0 \n",
            "\n",
            "classe = Male \n",
            "\n",
            "---------------------------------------\n",
            "A probabilidade de ser h = 50 e w = 100 sendo y = 1 é:  1.857600349510683e-12 \n",
            "\n",
            "A probabilidade de ser h = 50 e w = 100 sendo y = 0 é:  8.079866690770115e-15 \n",
            "\n"
          ],
          "name": "stdout"
        }
      ]
    }
  ]
}