{
  "nbformat": 4,
  "nbformat_minor": 0,
  "metadata": {
    "colab": {
      "name": "Lista4_DemetriosReis_AM.ipynb",
      "provenance": [],
      "collapsed_sections": [],
      "authorship_tag": "ABX9TyO7leWFgqvqMQY8Uh/8caVN",
      "include_colab_link": true
    },
    "kernelspec": {
      "name": "python3",
      "display_name": "Python 3"
    }
  },
  "cells": [
    {
      "cell_type": "markdown",
      "metadata": {
        "id": "view-in-github",
        "colab_type": "text"
      },
      "source": [
        "<a href=\"https://colab.research.google.com/github/Reis25/AprendizadoDeMquinas/blob/master/Lista4_DemetriosReis_AM.ipynb\" target=\"_parent\"><img src=\"https://colab.research.google.com/assets/colab-badge.svg\" alt=\"Open In Colab\"/></a>"
      ]
    },
    {
      "cell_type": "markdown",
      "metadata": {
        "id": "QVUM36zEq1e8",
        "colab_type": "text"
      },
      "source": [
        "Lista 4\n",
        "\n",
        "Aprendizagem de Máquina\n",
        "\n",
        "Profs. Evandro Costa e Xu Yang\n",
        "\n",
        "Aluno: **Demétrios Reis**\n",
        "\n",
        "13 de julho de 2020"
      ]
    },
    {
      "cell_type": "markdown",
      "metadata": {
        "id": "CxFtYUcS0z8c",
        "colab_type": "text"
      },
      "source": [
        "![texto alternativo](https://raw.githubusercontent.com/Reis25/Testes_py/master/f5.png)"
      ]
    },
    {
      "cell_type": "markdown",
      "metadata": {
        "id": "UY6bI5AHrb1T",
        "colab_type": "text"
      },
      "source": [
        "\n",
        "(1) Esboça os ponto no plano.\n"
      ]
    },
    {
      "cell_type": "code",
      "metadata": {
        "id": "zOG4pc8ebt3L",
        "colab_type": "code",
        "colab": {
          "base_uri": "https://localhost:8080/",
          "height": 383
        },
        "outputId": "4d68953e-0df1-4e08-f1d1-ebf9331130fb"
      },
      "source": [
        "from pylab import *\n",
        "\n",
        "import numpy as np\n",
        "import matplotlib.pyplot as plt\n",
        "\n",
        "x = [2, 1]\n",
        "y = [0, 0]\n",
        "\n",
        "u = [0, 0]\n",
        "v = [2, 1]\n",
        "\n",
        "fig=plt.figure()\n",
        "\n",
        "ax=fig.add_axes([0,0,1,1])\n",
        "\n",
        "ax.scatter(x, y, color='r')\n",
        "\n",
        "ax.scatter(u, v, color='b')\n",
        "\n",
        "ax.set_xlabel('Eixo X')\n",
        "ax.set_ylabel('Eixo Y')\n",
        "ax.set_title('scatter plot')\n",
        "\n",
        "plt.show()\n",
        "plt.savefig('plot_2D.png')"
      ],
      "execution_count": null,
      "outputs": [
        {
          "output_type": "display_data",
          "data": {
            "image/png": "[encoded data removed]",
            "text/plain": [
              "<Figure size 432x288 with 1 Axes>"
            ]
          },
          "metadata": {
            "tags": [],
            "needs_background": "light"
          }
        },
        {
          "output_type": "display_data",
          "data": {
            "text/plain": [
              "<Figure size 432x288 with 0 Axes>"
            ]
          },
          "metadata": {
            "tags": []
          }
        }
      ]
    },
    {
      "cell_type": "markdown",
      "metadata": {
        "id": "baJoO0vKrpKG",
        "colab_type": "text"
      },
      "source": [
        "(2) Esboça duas retas paralelas que passam os pontos x1 e x3, correspondentes.\n",
        "Analise o caso que as retas têm o maior distância.\n"
      ]
    },
    {
      "cell_type": "code",
      "metadata": {
        "id": "mXZFAvtz9seG",
        "colab_type": "code",
        "colab": {
          "base_uri": "https://localhost:8080/",
          "height": 353
        },
        "outputId": "88635905-0eec-4b07-d984-ecb3ceb62dc5"
      },
      "source": [
        "\n",
        "x = [2, 1]\n",
        "y = [0, 0]\n",
        "\n",
        "u = [0, 0]\n",
        "v = [2, 1]\n",
        "\n",
        "fig=plt.figure()\n",
        "\n",
        "ax=fig.add_axes([0,0,1,1])\n",
        "\n",
        "ax.scatter(x, y, color='r')\n",
        "\n",
        "ax.scatter(u, v, color='b')\n",
        "\n",
        "a_1 = linspace(-1, 2, 30)\n",
        "b_1 = a_1*(0.5)-1\n",
        "\n",
        "a_2 = linspace(-1, 2, 30)\n",
        "b_2 = a_2*(0.5) +2\n",
        "\n",
        "\n",
        "plot(a_1,b_1)\n",
        "plot(a_2,b_2)\n",
        "\n",
        "show"
      ],
      "execution_count": null,
      "outputs": [
        {
          "output_type": "execute_result",
          "data": {
            "text/plain": [
              "<function matplotlib.pyplot.show>"
            ]
          },
          "metadata": {
            "tags": []
          },
          "execution_count": 42
        },
        {
          "output_type": "display_data",
          "data": {
            "image/png": "[encoded data removed]",
            "text/plain": [
              "<Figure size 432x288 with 1 Axes>"
            ]
          },
          "metadata": {
            "tags": [],
            "needs_background": "light"
          }
        }
      ]
    },
    {
      "cell_type": "markdown",
      "metadata": {
        "id": "i6FZKpZgrrj5",
        "colab_type": "text"
      },
      "source": [
        "(3) Faça uma conjetura de uma reta para separar os pontos para 2 grupos."
      ]
    },
    {
      "cell_type": "code",
      "metadata": {
        "id": "o3SSc2lNFu2C",
        "colab_type": "code",
        "colab": {
          "base_uri": "https://localhost:8080/",
          "height": 366
        },
        "outputId": "c81c39af-be96-42d3-f89f-87a1a8abe5f7"
      },
      "source": [
        "x = [2, 1]\n",
        "y = [0, 0]\n",
        "\n",
        "u = [0, 0]\n",
        "v = [2, 1]\n",
        "\n",
        "fig=plt.figure()\n",
        "\n",
        "ax=fig.add_axes([0,0,1,1])\n",
        "\n",
        "ax.scatter(x, y, color='r')\n",
        "\n",
        "ax.scatter(u, v, color='b')\n",
        "\n",
        "ax.set_xlabel('Eixo X')\n",
        "ax.set_ylabel('Eixo Y')\n",
        "ax.set_title('scatter plot')\n",
        "\n",
        "a = linspace(-1, 2, 30)\n",
        "b = a\n",
        "plot(a,b)\n",
        "show()\n",
        "\n"
      ],
      "execution_count": null,
      "outputs": [
        {
          "output_type": "display_data",
          "data": {
            "image/png": "[encoded data removed]",
            "text/plain": [
              "<Figure size 432x288 with 1 Axes>"
            ]
          },
          "metadata": {
            "tags": [],
            "needs_background": "light"
          }
        }
      ]
    },
    {
      "cell_type": "markdown",
      "metadata": {
        "id": "_W1rMRAhsDig",
        "colab_type": "text"
      },
      "source": [
        "![Image of Yaktocat](https://raw.githubusercontent.com/Reis25/Testes_py/master/f1.png)\n"
      ]
    },
    {
      "cell_type": "code",
      "metadata": {
        "id": "r1syFYMIKhD3",
        "colab_type": "code",
        "colab": {
          "base_uri": "https://localhost:8080/",
          "height": 170
        },
        "outputId": "562c060a-14ac-409e-a61a-fcbad55dd701"
      },
      "source": [
        "X1 = [0, 0,  2,  1]\n",
        "X2 = [2, 1,  0,  0]\n",
        "Y = [1, 1, -1, -1]\n",
        "\n",
        "matrix = [[e for e in range(4)] for e in range(4)]\n",
        "\n",
        "for i in range(4):\n",
        "  for j in range(4):\n",
        "    print(Y[i]*(X1[j]*X1[i] + X2[j]*X2[i]), end=' ')\n",
        "    matrix[i][j] = Y[i]*(X1[j]*X1[i] + X2[j]*X1[i])\n",
        "  print(\"\\n\")\n",
        "\n",
        "\n",
        "print(matrix)\n"
      ],
      "execution_count": null,
      "outputs": [
        {
          "output_type": "stream",
          "text": [
            "4 2 0 0 \n",
            "\n",
            "2 1 0 0 \n",
            "\n",
            "0 0 -4 -2 \n",
            "\n",
            "0 0 -2 -1 \n",
            "\n",
            "[[0, 0, 0, 0], [0, 0, 0, 0], [-4, -2, -4, -2], [-2, -1, -2, -1]]\n"
          ],
          "name": "stdout"
        }
      ]
    }
  ]
}